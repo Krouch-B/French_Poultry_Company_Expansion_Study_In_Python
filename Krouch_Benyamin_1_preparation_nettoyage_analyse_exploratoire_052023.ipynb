{
 "cells": [
  {
   "cell_type": "markdown",
   "id": "af81ef37",
   "metadata": {},
   "source": [
    "# P9 Produisez une étude de marché avec R ou Python"
   ]
  },
  {
   "cell_type": "markdown",
   "id": "5b2e4502",
   "metadata": {},
   "source": [
    "# Importation de librairies"
   ]
  },
  {
   "cell_type": "code",
   "execution_count": 524,
   "id": "aa2938d7",
   "metadata": {},
   "outputs": [],
   "source": [
    "import pandas as pd\n",
    "import numpy as np\n",
    "from sklearn.preprocessing import StandardScaler\n",
    "import seaborn as sns"
   ]
  },
  {
   "cell_type": "code",
   "execution_count": 525,
   "id": "a1deab13",
   "metadata": {},
   "outputs": [],
   "source": [
    "# On cherche à afficher seulement deux décimales pour les nombres dans votre dataframe\n",
    "pd.set_option('display.float_format', lambda x: '%.2f' % x)"
   ]
  },
  {
   "cell_type": "markdown",
   "id": "76996d4a",
   "metadata": {},
   "source": [
    "# CREATION DU TABLEAU "
   ]
  },
  {
   "cell_type": "markdown",
   "id": "efd3de75",
   "metadata": {},
   "source": [
    "# Importation des données\n",
    "\n",
    "Importons maintenant les données que nous utiliserons pour notre analyse.  \n",
    "Ces dernières sont stockées dans des fichier CSV nommés \"DisponibiliteAlimentaire_2017.csv\" et \"Population_2000_2018.csv\". La fonction **.read_csv()** nous permettra de les lire .  \n",
    "\n",
    "Nous les sauvegardons dans des variables **dispo_alimentaire** et **population**"
   ]
  },
  {
   "cell_type": "code",
   "execution_count": 526,
   "id": "ee48da28",
   "metadata": {},
   "outputs": [],
   "source": [
    "dispo_alimentaire= pd.read_csv(\"DisponibiliteAlimentaire_2017.csv\")"
   ]
  },
  {
   "cell_type": "code",
   "execution_count": 527,
   "id": "8daf8d82",
   "metadata": {},
   "outputs": [],
   "source": [
    "population= pd.read_csv(\"Population_2000_2018.csv\")"
   ]
  },
  {
   "cell_type": "markdown",
   "id": "8fa47374",
   "metadata": {},
   "source": [
    "La disponibilité alimentaire (dans le cadre des BA) désigne les quantités d’un produit (qu’il soit brut, transformé ou semi-transformé, y compris les boissons) disponibles au niveau du commerce de détail pour la consommation de la population résidente du pays durant une période de référence donnée."
   ]
  },
  {
   "cell_type": "markdown",
   "id": "e1fd081b",
   "metadata": {},
   "source": [
    "# Affichage des données\n",
    "Examinons les cinq premières lignes de nos données en utilisant la méthode **.head()**."
   ]
  },
  {
   "cell_type": "code",
   "execution_count": 528,
   "id": "e43bc6f4",
   "metadata": {},
   "outputs": [
    {
     "data": {
      "text/html": [
       "<div>\n",
       "<style scoped>\n",
       "    .dataframe tbody tr th:only-of-type {\n",
       "        vertical-align: middle;\n",
       "    }\n",
       "\n",
       "    .dataframe tbody tr th {\n",
       "        vertical-align: top;\n",
       "    }\n",
       "\n",
       "    .dataframe thead th {\n",
       "        text-align: right;\n",
       "    }\n",
       "</style>\n",
       "<table border=\"1\" class=\"dataframe\">\n",
       "  <thead>\n",
       "    <tr style=\"text-align: right;\">\n",
       "      <th></th>\n",
       "      <th>Code Domaine</th>\n",
       "      <th>Domaine</th>\n",
       "      <th>Code zone</th>\n",
       "      <th>Zone</th>\n",
       "      <th>Code Élément</th>\n",
       "      <th>Élément</th>\n",
       "      <th>Code Produit</th>\n",
       "      <th>Produit</th>\n",
       "      <th>Code année</th>\n",
       "      <th>Année</th>\n",
       "      <th>Unité</th>\n",
       "      <th>Valeur</th>\n",
       "      <th>Symbole</th>\n",
       "      <th>Description du Symbole</th>\n",
       "    </tr>\n",
       "  </thead>\n",
       "  <tbody>\n",
       "    <tr>\n",
       "      <th>0</th>\n",
       "      <td>FBS</td>\n",
       "      <td>Nouveaux Bilans Alimentaire</td>\n",
       "      <td>2</td>\n",
       "      <td>Afghanistan</td>\n",
       "      <td>5511</td>\n",
       "      <td>Production</td>\n",
       "      <td>2511</td>\n",
       "      <td>Blé et produits</td>\n",
       "      <td>2017</td>\n",
       "      <td>2017</td>\n",
       "      <td>Milliers de tonnes</td>\n",
       "      <td>4281.00</td>\n",
       "      <td>S</td>\n",
       "      <td>Données standardisées</td>\n",
       "    </tr>\n",
       "    <tr>\n",
       "      <th>1</th>\n",
       "      <td>FBS</td>\n",
       "      <td>Nouveaux Bilans Alimentaire</td>\n",
       "      <td>2</td>\n",
       "      <td>Afghanistan</td>\n",
       "      <td>5611</td>\n",
       "      <td>Importations - Quantité</td>\n",
       "      <td>2511</td>\n",
       "      <td>Blé et produits</td>\n",
       "      <td>2017</td>\n",
       "      <td>2017</td>\n",
       "      <td>Milliers de tonnes</td>\n",
       "      <td>2302.00</td>\n",
       "      <td>S</td>\n",
       "      <td>Données standardisées</td>\n",
       "    </tr>\n",
       "    <tr>\n",
       "      <th>2</th>\n",
       "      <td>FBS</td>\n",
       "      <td>Nouveaux Bilans Alimentaire</td>\n",
       "      <td>2</td>\n",
       "      <td>Afghanistan</td>\n",
       "      <td>5072</td>\n",
       "      <td>Variation de stock</td>\n",
       "      <td>2511</td>\n",
       "      <td>Blé et produits</td>\n",
       "      <td>2017</td>\n",
       "      <td>2017</td>\n",
       "      <td>Milliers de tonnes</td>\n",
       "      <td>-119.00</td>\n",
       "      <td>S</td>\n",
       "      <td>Données standardisées</td>\n",
       "    </tr>\n",
       "    <tr>\n",
       "      <th>3</th>\n",
       "      <td>FBS</td>\n",
       "      <td>Nouveaux Bilans Alimentaire</td>\n",
       "      <td>2</td>\n",
       "      <td>Afghanistan</td>\n",
       "      <td>5911</td>\n",
       "      <td>Exportations - Quantité</td>\n",
       "      <td>2511</td>\n",
       "      <td>Blé et produits</td>\n",
       "      <td>2017</td>\n",
       "      <td>2017</td>\n",
       "      <td>Milliers de tonnes</td>\n",
       "      <td>0.00</td>\n",
       "      <td>S</td>\n",
       "      <td>Données standardisées</td>\n",
       "    </tr>\n",
       "    <tr>\n",
       "      <th>4</th>\n",
       "      <td>FBS</td>\n",
       "      <td>Nouveaux Bilans Alimentaire</td>\n",
       "      <td>2</td>\n",
       "      <td>Afghanistan</td>\n",
       "      <td>5301</td>\n",
       "      <td>Disponibilité intérieure</td>\n",
       "      <td>2511</td>\n",
       "      <td>Blé et produits</td>\n",
       "      <td>2017</td>\n",
       "      <td>2017</td>\n",
       "      <td>Milliers de tonnes</td>\n",
       "      <td>6701.00</td>\n",
       "      <td>S</td>\n",
       "      <td>Données standardisées</td>\n",
       "    </tr>\n",
       "  </tbody>\n",
       "</table>\n",
       "</div>"
      ],
      "text/plain": [
       "  Code Domaine                      Domaine  Code zone         Zone  \\\n",
       "0          FBS  Nouveaux Bilans Alimentaire          2  Afghanistan   \n",
       "1          FBS  Nouveaux Bilans Alimentaire          2  Afghanistan   \n",
       "2          FBS  Nouveaux Bilans Alimentaire          2  Afghanistan   \n",
       "3          FBS  Nouveaux Bilans Alimentaire          2  Afghanistan   \n",
       "4          FBS  Nouveaux Bilans Alimentaire          2  Afghanistan   \n",
       "\n",
       "   Code Élément                   Élément  Code Produit          Produit  \\\n",
       "0          5511                Production          2511  Blé et produits   \n",
       "1          5611   Importations - Quantité          2511  Blé et produits   \n",
       "2          5072        Variation de stock          2511  Blé et produits   \n",
       "3          5911   Exportations - Quantité          2511  Blé et produits   \n",
       "4          5301  Disponibilité intérieure          2511  Blé et produits   \n",
       "\n",
       "   Code année  Année               Unité  Valeur Symbole  \\\n",
       "0        2017   2017  Milliers de tonnes 4281.00       S   \n",
       "1        2017   2017  Milliers de tonnes 2302.00       S   \n",
       "2        2017   2017  Milliers de tonnes -119.00       S   \n",
       "3        2017   2017  Milliers de tonnes    0.00       S   \n",
       "4        2017   2017  Milliers de tonnes 6701.00       S   \n",
       "\n",
       "  Description du Symbole  \n",
       "0  Données standardisées  \n",
       "1  Données standardisées  \n",
       "2  Données standardisées  \n",
       "3  Données standardisées  \n",
       "4  Données standardisées  "
      ]
     },
     "execution_count": 528,
     "metadata": {},
     "output_type": "execute_result"
    }
   ],
   "source": [
    "dispo_alimentaire.head()"
   ]
  },
  {
   "cell_type": "markdown",
   "id": "571b0135",
   "metadata": {},
   "source": [
    "Sans avoir besoin de faire une analyse poussée on voit au premier coup d'oeil que certaine colonnes s'avereront inutile du fait du peu d'information qu'elles apportent. Au rang de ces colonnes figurent :\n",
    "- Code Domaine\n",
    "- Domaine\n",
    "- Code zone, \n",
    "- Code Élément,\n",
    "- Code Produit,\n",
    "- Code année,\n",
    "- Année,\n",
    "- Symbole,\n",
    "- Description du Symbole  \n",
    "\n",
    "On utilise la méthode **.drop()** afin de les supprimer.\n"
   ]
  },
  {
   "cell_type": "code",
   "execution_count": 529,
   "id": "f069571a",
   "metadata": {},
   "outputs": [],
   "source": [
    "dispo_alimentaire = dispo_alimentaire.drop([\"Code Domaine\",\n",
    "                                    \"Domaine\",\n",
    "                                    \"Code zone\", \n",
    "                                    \"Code Élément\",\n",
    "                                    \"Code Produit\",\n",
    "                                    \"Code année\",\n",
    "                                    \"Année\",\n",
    "                                    \"Symbole\",\n",
    "                                    \"Description du Symbole\"], axis=1)"
   ]
  },
  {
   "cell_type": "markdown",
   "id": "85b38313",
   "metadata": {},
   "source": [
    "On affiche les 5 premières lignes de ce df "
   ]
  },
  {
   "cell_type": "code",
   "execution_count": 530,
   "id": "dec50c2d",
   "metadata": {},
   "outputs": [
    {
     "data": {
      "text/html": [
       "<div>\n",
       "<style scoped>\n",
       "    .dataframe tbody tr th:only-of-type {\n",
       "        vertical-align: middle;\n",
       "    }\n",
       "\n",
       "    .dataframe tbody tr th {\n",
       "        vertical-align: top;\n",
       "    }\n",
       "\n",
       "    .dataframe thead th {\n",
       "        text-align: right;\n",
       "    }\n",
       "</style>\n",
       "<table border=\"1\" class=\"dataframe\">\n",
       "  <thead>\n",
       "    <tr style=\"text-align: right;\">\n",
       "      <th></th>\n",
       "      <th>Zone</th>\n",
       "      <th>Élément</th>\n",
       "      <th>Produit</th>\n",
       "      <th>Unité</th>\n",
       "      <th>Valeur</th>\n",
       "    </tr>\n",
       "  </thead>\n",
       "  <tbody>\n",
       "    <tr>\n",
       "      <th>0</th>\n",
       "      <td>Afghanistan</td>\n",
       "      <td>Production</td>\n",
       "      <td>Blé et produits</td>\n",
       "      <td>Milliers de tonnes</td>\n",
       "      <td>4281.00</td>\n",
       "    </tr>\n",
       "    <tr>\n",
       "      <th>1</th>\n",
       "      <td>Afghanistan</td>\n",
       "      <td>Importations - Quantité</td>\n",
       "      <td>Blé et produits</td>\n",
       "      <td>Milliers de tonnes</td>\n",
       "      <td>2302.00</td>\n",
       "    </tr>\n",
       "    <tr>\n",
       "      <th>2</th>\n",
       "      <td>Afghanistan</td>\n",
       "      <td>Variation de stock</td>\n",
       "      <td>Blé et produits</td>\n",
       "      <td>Milliers de tonnes</td>\n",
       "      <td>-119.00</td>\n",
       "    </tr>\n",
       "    <tr>\n",
       "      <th>3</th>\n",
       "      <td>Afghanistan</td>\n",
       "      <td>Exportations - Quantité</td>\n",
       "      <td>Blé et produits</td>\n",
       "      <td>Milliers de tonnes</td>\n",
       "      <td>0.00</td>\n",
       "    </tr>\n",
       "    <tr>\n",
       "      <th>4</th>\n",
       "      <td>Afghanistan</td>\n",
       "      <td>Disponibilité intérieure</td>\n",
       "      <td>Blé et produits</td>\n",
       "      <td>Milliers de tonnes</td>\n",
       "      <td>6701.00</td>\n",
       "    </tr>\n",
       "  </tbody>\n",
       "</table>\n",
       "</div>"
      ],
      "text/plain": [
       "          Zone                   Élément          Produit               Unité  \\\n",
       "0  Afghanistan                Production  Blé et produits  Milliers de tonnes   \n",
       "1  Afghanistan   Importations - Quantité  Blé et produits  Milliers de tonnes   \n",
       "2  Afghanistan        Variation de stock  Blé et produits  Milliers de tonnes   \n",
       "3  Afghanistan   Exportations - Quantité  Blé et produits  Milliers de tonnes   \n",
       "4  Afghanistan  Disponibilité intérieure  Blé et produits  Milliers de tonnes   \n",
       "\n",
       "   Valeur  \n",
       "0 4281.00  \n",
       "1 2302.00  \n",
       "2 -119.00  \n",
       "3    0.00  \n",
       "4 6701.00  "
      ]
     },
     "execution_count": 530,
     "metadata": {},
     "output_type": "execute_result"
    }
   ],
   "source": [
    "dispo_alimentaire.head()"
   ]
  },
  {
   "cell_type": "markdown",
   "id": "582e8a3a",
   "metadata": {},
   "source": [
    "## Informations sur les données\n",
    "\n",
    "Il est important de connaître la **structure de nos données** avant de commencer notre analyse. Utilisons pour cela, la méthode **.info()** afin d'afficher des informations sur nos données, telles que:\n",
    "- **le nombre de lignes et de colonnes**\n",
    "- **le type de données de chaque colonne**\n",
    "- **le nombre de valeurs non nulles dans chaque colonne.**"
   ]
  },
  {
   "cell_type": "code",
   "execution_count": 531,
   "id": "c673c63e",
   "metadata": {},
   "outputs": [
    {
     "name": "stdout",
     "output_type": "stream",
     "text": [
      "<class 'pandas.core.frame.DataFrame'>\n",
      "RangeIndex: 176600 entries, 0 to 176599\n",
      "Data columns (total 5 columns):\n",
      " #   Column   Non-Null Count   Dtype  \n",
      "---  ------   --------------   -----  \n",
      " 0   Zone     176600 non-null  object \n",
      " 1   Élément  176600 non-null  object \n",
      " 2   Produit  176600 non-null  object \n",
      " 3   Unité    176600 non-null  object \n",
      " 4   Valeur   176600 non-null  float64\n",
      "dtypes: float64(1), object(4)\n",
      "memory usage: 6.7+ MB\n"
     ]
    }
   ],
   "source": [
    "dispo_alimentaire.info()"
   ]
  },
  {
   "cell_type": "markdown",
   "id": "7e6bd8fa",
   "metadata": {},
   "source": [
    "On remarque que le df est composé de **5 colonnes et 176.600 lignes toutes non nulles**"
   ]
  },
  {
   "cell_type": "markdown",
   "id": "9e66eea1",
   "metadata": {},
   "source": [
    " # Gestion des doublons"
   ]
  },
  {
   "cell_type": "code",
   "execution_count": 532,
   "id": "81c44417",
   "metadata": {},
   "outputs": [
    {
     "data": {
      "text/plain": [
       "0"
      ]
     },
     "execution_count": 532,
     "metadata": {},
     "output_type": "execute_result"
    }
   ],
   "source": [
    "dispo_alimentaire.duplicated().sum()"
   ]
  },
  {
   "cell_type": "markdown",
   "id": "23b0f7ac",
   "metadata": {},
   "source": [
    "Parfait ! **Aucun doublon** dans notre df."
   ]
  },
  {
   "cell_type": "markdown",
   "id": "a22425c5",
   "metadata": {},
   "source": [
    "# Création d'un tableau croisé"
   ]
  },
  {
   "cell_type": "markdown",
   "id": "06ef57f8",
   "metadata": {},
   "source": [
    "Pour créer une table pivot nous utliserons la méthode **.pivot_table()**."
   ]
  },
  {
   "cell_type": "code",
   "execution_count": 533,
   "id": "41f9bba0",
   "metadata": {},
   "outputs": [],
   "source": [
    "df_dispo_alimentaire= pd.pivot_table(dispo_alimentaire, columns=[\"Élément\"], index=[\"Zone\"], values= \"Valeur\", aggfunc=sum).reset_index()"
   ]
  },
  {
   "cell_type": "markdown",
   "id": "d331ea5c",
   "metadata": {},
   "source": [
    "Nous avons:\n",
    "- spécifier que la colonne **\"Élément\"** doit être utilisée comme **colonne** de la table pivot\n",
    "- spécifier que la colonne **\"Zone\"** doit être utilisée comme **index** de la table croisée\n",
    "- spécifier que la colonne **\"Valeur\"** doit être utilisée comme **valeur** de la table croisée\n",
    "- spécifier que la fonction d'agrégation **sum** doit être utilisée pour agréger les valeurs dans la table croisée.  \n",
    "\n",
    "Jeton un oeil au cinq première lignes de notre df"
   ]
  },
  {
   "cell_type": "code",
   "execution_count": 534,
   "id": "8e9288f0",
   "metadata": {},
   "outputs": [
    {
     "data": {
      "text/html": [
       "<div>\n",
       "<style scoped>\n",
       "    .dataframe tbody tr th:only-of-type {\n",
       "        vertical-align: middle;\n",
       "    }\n",
       "\n",
       "    .dataframe tbody tr th {\n",
       "        vertical-align: top;\n",
       "    }\n",
       "\n",
       "    .dataframe thead th {\n",
       "        text-align: right;\n",
       "    }\n",
       "</style>\n",
       "<table border=\"1\" class=\"dataframe\">\n",
       "  <thead>\n",
       "    <tr style=\"text-align: right;\">\n",
       "      <th>Élément</th>\n",
       "      <th>Zone</th>\n",
       "      <th>Alimentation pour touristes</th>\n",
       "      <th>Aliments pour animaux</th>\n",
       "      <th>Autres utilisations (non alimentaire)</th>\n",
       "      <th>Disponibilité alimentaire (Kcal/personne/jour)</th>\n",
       "      <th>Disponibilité alimentaire en quantité (kg/personne/an)</th>\n",
       "      <th>Disponibilité de matière grasse en quantité (g/personne/jour)</th>\n",
       "      <th>Disponibilité de protéines en quantité (g/personne/jour)</th>\n",
       "      <th>Disponibilité intérieure</th>\n",
       "      <th>Exportations - Quantité</th>\n",
       "      <th>Importations - Quantité</th>\n",
       "      <th>Nourriture</th>\n",
       "      <th>Pertes</th>\n",
       "      <th>Production</th>\n",
       "      <th>Résidus</th>\n",
       "      <th>Semences</th>\n",
       "      <th>Traitement</th>\n",
       "      <th>Variation de stock</th>\n",
       "    </tr>\n",
       "  </thead>\n",
       "  <tbody>\n",
       "    <tr>\n",
       "      <th>0</th>\n",
       "      <td>Afghanistan</td>\n",
       "      <td>NaN</td>\n",
       "      <td>456.00</td>\n",
       "      <td>94.00</td>\n",
       "      <td>1997.00</td>\n",
       "      <td>357.31</td>\n",
       "      <td>30.63</td>\n",
       "      <td>54.09</td>\n",
       "      <td>15139.00</td>\n",
       "      <td>601.00</td>\n",
       "      <td>4555.00</td>\n",
       "      <td>12968.00</td>\n",
       "      <td>1146.00</td>\n",
       "      <td>11609.00</td>\n",
       "      <td>-111.00</td>\n",
       "      <td>470.00</td>\n",
       "      <td>115.00</td>\n",
       "      <td>426.00</td>\n",
       "    </tr>\n",
       "    <tr>\n",
       "      <th>1</th>\n",
       "      <td>Afrique du Sud</td>\n",
       "      <td>0.00</td>\n",
       "      <td>9371.00</td>\n",
       "      <td>1448.00</td>\n",
       "      <td>2987.00</td>\n",
       "      <td>556.42</td>\n",
       "      <td>81.92</td>\n",
       "      <td>83.36</td>\n",
       "      <td>66840.00</td>\n",
       "      <td>10968.00</td>\n",
       "      <td>9020.00</td>\n",
       "      <td>31726.00</td>\n",
       "      <td>3108.00</td>\n",
       "      <td>68455.00</td>\n",
       "      <td>-594.00</td>\n",
       "      <td>212.00</td>\n",
       "      <td>21564.00</td>\n",
       "      <td>-322.00</td>\n",
       "    </tr>\n",
       "    <tr>\n",
       "      <th>2</th>\n",
       "      <td>Albanie</td>\n",
       "      <td>NaN</td>\n",
       "      <td>697.00</td>\n",
       "      <td>177.00</td>\n",
       "      <td>3400.00</td>\n",
       "      <td>1260.49</td>\n",
       "      <td>117.57</td>\n",
       "      <td>119.50</td>\n",
       "      <td>4879.00</td>\n",
       "      <td>156.00</td>\n",
       "      <td>884.00</td>\n",
       "      <td>3631.00</td>\n",
       "      <td>321.00</td>\n",
       "      <td>4231.00</td>\n",
       "      <td>-115.00</td>\n",
       "      <td>53.00</td>\n",
       "      <td>113.00</td>\n",
       "      <td>72.00</td>\n",
       "    </tr>\n",
       "    <tr>\n",
       "      <th>3</th>\n",
       "      <td>Algérie</td>\n",
       "      <td>0.00</td>\n",
       "      <td>4884.00</td>\n",
       "      <td>2405.00</td>\n",
       "      <td>3345.00</td>\n",
       "      <td>798.71</td>\n",
       "      <td>79.62</td>\n",
       "      <td>92.85</td>\n",
       "      <td>45365.00</td>\n",
       "      <td>743.00</td>\n",
       "      <td>19718.00</td>\n",
       "      <td>33056.00</td>\n",
       "      <td>3683.00</td>\n",
       "      <td>26763.00</td>\n",
       "      <td>-22.00</td>\n",
       "      <td>358.00</td>\n",
       "      <td>993.00</td>\n",
       "      <td>374.00</td>\n",
       "    </tr>\n",
       "    <tr>\n",
       "      <th>4</th>\n",
       "      <td>Allemagne</td>\n",
       "      <td>NaN</td>\n",
       "      <td>30904.00</td>\n",
       "      <td>8316.00</td>\n",
       "      <td>3559.00</td>\n",
       "      <td>943.24</td>\n",
       "      <td>147.96</td>\n",
       "      <td>104.07</td>\n",
       "      <td>174960.00</td>\n",
       "      <td>58793.00</td>\n",
       "      <td>66550.00</td>\n",
       "      <td>77988.00</td>\n",
       "      <td>5756.00</td>\n",
       "      <td>167828.00</td>\n",
       "      <td>-831.00</td>\n",
       "      <td>1712.00</td>\n",
       "      <td>51109.00</td>\n",
       "      <td>651.00</td>\n",
       "    </tr>\n",
       "  </tbody>\n",
       "</table>\n",
       "</div>"
      ],
      "text/plain": [
       "Élément            Zone  Alimentation pour touristes  Aliments pour animaux  \\\n",
       "0           Afghanistan                          NaN                 456.00   \n",
       "1        Afrique du Sud                         0.00                9371.00   \n",
       "2               Albanie                          NaN                 697.00   \n",
       "3               Algérie                         0.00                4884.00   \n",
       "4             Allemagne                          NaN               30904.00   \n",
       "\n",
       "Élément  Autres utilisations (non alimentaire)  \\\n",
       "0                                        94.00   \n",
       "1                                      1448.00   \n",
       "2                                       177.00   \n",
       "3                                      2405.00   \n",
       "4                                      8316.00   \n",
       "\n",
       "Élément  Disponibilité alimentaire (Kcal/personne/jour)  \\\n",
       "0                                               1997.00   \n",
       "1                                               2987.00   \n",
       "2                                               3400.00   \n",
       "3                                               3345.00   \n",
       "4                                               3559.00   \n",
       "\n",
       "Élément  Disponibilité alimentaire en quantité (kg/personne/an)  \\\n",
       "0                                                   357.31        \n",
       "1                                                   556.42        \n",
       "2                                                  1260.49        \n",
       "3                                                   798.71        \n",
       "4                                                   943.24        \n",
       "\n",
       "Élément  Disponibilité de matière grasse en quantité (g/personne/jour)  \\\n",
       "0                                                    30.63               \n",
       "1                                                    81.92               \n",
       "2                                                   117.57               \n",
       "3                                                    79.62               \n",
       "4                                                   147.96               \n",
       "\n",
       "Élément  Disponibilité de protéines en quantité (g/personne/jour)  \\\n",
       "0                                                    54.09          \n",
       "1                                                    83.36          \n",
       "2                                                   119.50          \n",
       "3                                                    92.85          \n",
       "4                                                   104.07          \n",
       "\n",
       "Élément  Disponibilité intérieure  Exportations - Quantité  \\\n",
       "0                        15139.00                   601.00   \n",
       "1                        66840.00                 10968.00   \n",
       "2                         4879.00                   156.00   \n",
       "3                        45365.00                   743.00   \n",
       "4                       174960.00                 58793.00   \n",
       "\n",
       "Élément  Importations - Quantité  Nourriture  Pertes  Production  Résidus  \\\n",
       "0                        4555.00    12968.00 1146.00    11609.00  -111.00   \n",
       "1                        9020.00    31726.00 3108.00    68455.00  -594.00   \n",
       "2                         884.00     3631.00  321.00     4231.00  -115.00   \n",
       "3                       19718.00    33056.00 3683.00    26763.00   -22.00   \n",
       "4                       66550.00    77988.00 5756.00   167828.00  -831.00   \n",
       "\n",
       "Élément  Semences  Traitement  Variation de stock  \n",
       "0          470.00      115.00              426.00  \n",
       "1          212.00    21564.00             -322.00  \n",
       "2           53.00      113.00               72.00  \n",
       "3          358.00      993.00              374.00  \n",
       "4         1712.00    51109.00              651.00  "
      ]
     },
     "execution_count": 534,
     "metadata": {},
     "output_type": "execute_result"
    }
   ],
   "source": [
    "df_dispo_alimentaire.head()"
   ]
  },
  {
   "cell_type": "markdown",
   "id": "79506832",
   "metadata": {},
   "source": [
    "Toutes leS valeurs de la colonne Element ont été changé en colonne et chaque pays est en index, les informations sont bien plus faciles à lire car agrégées;"
   ]
  },
  {
   "cell_type": "markdown",
   "id": "753a14de",
   "metadata": {},
   "source": [
    "## Informations sur les données\n",
    "\n",
    "Comme précéddement nous allons nous pencher sur la **structure de nos données**. Utilisons pour cela, la méthode **.info()** afin d'afficher des informations sur nos données, telles que:\n",
    "- **le nombre de lignes et de colonnes**\n",
    "- **le type de données de chaque colonne**\n",
    "- **le nombre de valeurs non nulles dans chaque colonne.**"
   ]
  },
  {
   "cell_type": "code",
   "execution_count": 535,
   "id": "b8a6e66f",
   "metadata": {},
   "outputs": [
    {
     "name": "stdout",
     "output_type": "stream",
     "text": [
      "<class 'pandas.core.frame.DataFrame'>\n",
      "RangeIndex: 174 entries, 0 to 173\n",
      "Data columns (total 18 columns):\n",
      " #   Column                                                         Non-Null Count  Dtype  \n",
      "---  ------                                                         --------------  -----  \n",
      " 0   Zone                                                           174 non-null    object \n",
      " 1   Alimentation pour touristes                                    79 non-null     float64\n",
      " 2   Aliments pour animaux                                          174 non-null    float64\n",
      " 3   Autres utilisations (non alimentaire)                          174 non-null    float64\n",
      " 4   Disponibilité alimentaire (Kcal/personne/jour)                 172 non-null    float64\n",
      " 5   Disponibilité alimentaire en quantité (kg/personne/an)         172 non-null    float64\n",
      " 6   Disponibilité de matière grasse en quantité (g/personne/jour)  172 non-null    float64\n",
      " 7   Disponibilité de protéines en quantité (g/personne/jour)       172 non-null    float64\n",
      " 8   Disponibilité intérieure                                       174 non-null    float64\n",
      " 9   Exportations - Quantité                                        174 non-null    float64\n",
      " 10  Importations - Quantité                                        174 non-null    float64\n",
      " 11  Nourriture                                                     174 non-null    float64\n",
      " 12  Pertes                                                         170 non-null    float64\n",
      " 13  Production                                                     174 non-null    float64\n",
      " 14  Résidus                                                        170 non-null    float64\n",
      " 15  Semences                                                       170 non-null    float64\n",
      " 16  Traitement                                                     170 non-null    float64\n",
      " 17  Variation de stock                                             174 non-null    float64\n",
      "dtypes: float64(17), object(1)\n",
      "memory usage: 24.6+ KB\n"
     ]
    }
   ],
   "source": [
    "df_dispo_alimentaire.info()"
   ]
  },
  {
   "cell_type": "markdown",
   "id": "e194cb1d",
   "metadata": {},
   "source": [
    "On se trouve maintenant à un carrefour, la question à laquelle on doit répondre n'est pas simplement, comment gérer les colonnes comportant des valeurs nulles, car on se rend bien compte qu'à part la colonne **\"Alimentation pour touristes\"** qui ne comprend que 79 valeurs et est donc inutilisable, toutes les autres présentes un nombre de valeurs non nulles satisfaisant.  \n",
    "\n",
    "La question est ici de savoir, plus largement, **\"Comment gérer cette analyse ?\"**. De la réponse à cette question découlera toute simplement la réponse à l'interrogation **_Quelles colonnes allons nous garder ?_\"**\n",
    "\n",
    "L'objectif principal de notre mission est de **regrouper des pays en des groupes similaires.** Mais quelles similarités veut-on souligner ?\n",
    "- Dans un premier temps il serait judicieux de **grouper les pays par disponibilité alimentaire en Kg ou To par anéee**. Il faut noter que, dans le cadre des bilans alimentaires la disponibilité alimentaire **_désigne les quantités d’un produit (qu’il soit brut, transformé ou semi-transformé, y compris les boissons) disponibles au niveau du commerce de détail pour la consommation de la population résidente du pays durant une période de référence donnée_**.  \n",
    "\n",
    "- Ensuite, on ajoutera une colonne concernant la taille du marché alimentaire en ce qui concerne la viande de volaille.  \n",
    "\n",
    "- Enfin, on ajoutera l'information concernant la taille de la population.\n",
    "\n",
    "Peut-être que ces critère ne suffiront pas, le cas échéant on ajoutera d'autres colonnes afin de différencier d'avantage nos pays . \n",
    "\n",
    "On utilise la méthode .drop() et on sauvegarde notre nouveau df dans une variable **dispo_alimentaire_reduite**"
   ]
  },
  {
   "cell_type": "code",
   "execution_count": 536,
   "id": "e1af5179",
   "metadata": {},
   "outputs": [],
   "source": [
    "dispo_alimentaire_reduite= df_dispo_alimentaire.drop([\"Alimentation pour touristes\",\n",
    "                                            \"Aliments pour animaux\",\n",
    "                                            \"Autres utilisations (non alimentaire)\",\n",
    "                                            \"Disponibilité alimentaire (Kcal/personne/jour)\",\n",
    "                                            \"Disponibilité de matière grasse en quantité (g/personne/jour)\",\n",
    "                                            \"Disponibilité intérieure\",\n",
    "                                            \"Importations - Quantité\",\n",
    "                                            \"Exportations - Quantité\",\n",
    "                                            \"Nourriture\",\n",
    "                                            \"Production\",\n",
    "                                            \"Pertes\",\n",
    "                                            \"Résidus\",\n",
    "                                            \"Semences\",\n",
    "                                            \"Traitement\",\n",
    "                                            \"Variation de stock\",\n",
    "                                            \"Disponibilité de protéines en quantité (g/personne/jour)\"\n",
    "                                            ], axis=1)"
   ]
  },
  {
   "cell_type": "markdown",
   "id": "3e74b21f",
   "metadata": {},
   "source": [
    "Jeton un oeil au cinq première lignes de notre df"
   ]
  },
  {
   "cell_type": "code",
   "execution_count": 537,
   "id": "7154ec42",
   "metadata": {},
   "outputs": [
    {
     "data": {
      "text/html": [
       "<div>\n",
       "<style scoped>\n",
       "    .dataframe tbody tr th:only-of-type {\n",
       "        vertical-align: middle;\n",
       "    }\n",
       "\n",
       "    .dataframe tbody tr th {\n",
       "        vertical-align: top;\n",
       "    }\n",
       "\n",
       "    .dataframe thead th {\n",
       "        text-align: right;\n",
       "    }\n",
       "</style>\n",
       "<table border=\"1\" class=\"dataframe\">\n",
       "  <thead>\n",
       "    <tr style=\"text-align: right;\">\n",
       "      <th>Élément</th>\n",
       "      <th>Zone</th>\n",
       "      <th>Disponibilité alimentaire en quantité (kg/personne/an)</th>\n",
       "    </tr>\n",
       "  </thead>\n",
       "  <tbody>\n",
       "    <tr>\n",
       "      <th>0</th>\n",
       "      <td>Afghanistan</td>\n",
       "      <td>357.31</td>\n",
       "    </tr>\n",
       "    <tr>\n",
       "      <th>1</th>\n",
       "      <td>Afrique du Sud</td>\n",
       "      <td>556.42</td>\n",
       "    </tr>\n",
       "    <tr>\n",
       "      <th>2</th>\n",
       "      <td>Albanie</td>\n",
       "      <td>1260.49</td>\n",
       "    </tr>\n",
       "    <tr>\n",
       "      <th>3</th>\n",
       "      <td>Algérie</td>\n",
       "      <td>798.71</td>\n",
       "    </tr>\n",
       "    <tr>\n",
       "      <th>4</th>\n",
       "      <td>Allemagne</td>\n",
       "      <td>943.24</td>\n",
       "    </tr>\n",
       "  </tbody>\n",
       "</table>\n",
       "</div>"
      ],
      "text/plain": [
       "Élément            Zone  \\\n",
       "0           Afghanistan   \n",
       "1        Afrique du Sud   \n",
       "2               Albanie   \n",
       "3               Algérie   \n",
       "4             Allemagne   \n",
       "\n",
       "Élément  Disponibilité alimentaire en quantité (kg/personne/an)  \n",
       "0                                                   357.31       \n",
       "1                                                   556.42       \n",
       "2                                                  1260.49       \n",
       "3                                                   798.71       \n",
       "4                                                   943.24       "
      ]
     },
     "execution_count": 537,
     "metadata": {},
     "output_type": "execute_result"
    }
   ],
   "source": [
    "dispo_alimentaire_reduite.head()"
   ]
  },
  {
   "cell_type": "markdown",
   "id": "2351b6e1",
   "metadata": {},
   "source": [
    "## Informations sur les données\n",
    "\n",
    "A nouveau, nous allons nous pencher sur la **structure de nos données**. Utilisons pour cela, la méthode **.info()** afin d'afficher des informations sur nos données, telles que:\n",
    "- **le nombre de lignes et de colonnes**\n",
    "- **le type de données de chaque colonne**\n",
    "- **le nombre de valeurs non nulles dans chaque colonne.**"
   ]
  },
  {
   "cell_type": "code",
   "execution_count": 538,
   "id": "6b0680b4",
   "metadata": {},
   "outputs": [
    {
     "name": "stdout",
     "output_type": "stream",
     "text": [
      "<class 'pandas.core.frame.DataFrame'>\n",
      "RangeIndex: 174 entries, 0 to 173\n",
      "Data columns (total 2 columns):\n",
      " #   Column                                                  Non-Null Count  Dtype  \n",
      "---  ------                                                  --------------  -----  \n",
      " 0   Zone                                                    174 non-null    object \n",
      " 1   Disponibilité alimentaire en quantité (kg/personne/an)  172 non-null    float64\n",
      "dtypes: float64(1), object(1)\n",
      "memory usage: 2.8+ KB\n"
     ]
    }
   ],
   "source": [
    "dispo_alimentaire_reduite.info()"
   ]
  },
  {
   "cell_type": "markdown",
   "id": "62ea7e17",
   "metadata": {},
   "source": [
    "On voit que nous avons **deux valeurs manquantes pour les colonnes** : \n",
    "- Disponibilité alimentaire en quantité (kg/personne/an)\n",
    "- Disponibilité de protéines en quantité (g/personne/jour) on utlise la méthode .isnull() pour les débusquer"
   ]
  },
  {
   "cell_type": "code",
   "execution_count": 539,
   "id": "57a5908a",
   "metadata": {},
   "outputs": [
    {
     "data": {
      "text/html": [
       "<div>\n",
       "<style scoped>\n",
       "    .dataframe tbody tr th:only-of-type {\n",
       "        vertical-align: middle;\n",
       "    }\n",
       "\n",
       "    .dataframe tbody tr th {\n",
       "        vertical-align: top;\n",
       "    }\n",
       "\n",
       "    .dataframe thead th {\n",
       "        text-align: right;\n",
       "    }\n",
       "</style>\n",
       "<table border=\"1\" class=\"dataframe\">\n",
       "  <thead>\n",
       "    <tr style=\"text-align: right;\">\n",
       "      <th>Élément</th>\n",
       "      <th>Zone</th>\n",
       "      <th>Disponibilité alimentaire en quantité (kg/personne/an)</th>\n",
       "    </tr>\n",
       "  </thead>\n",
       "  <tbody>\n",
       "    <tr>\n",
       "      <th>18</th>\n",
       "      <td>Bermudes</td>\n",
       "      <td>NaN</td>\n",
       "    </tr>\n",
       "    <tr>\n",
       "      <th>22</th>\n",
       "      <td>Brunéi Darussalam</td>\n",
       "      <td>NaN</td>\n",
       "    </tr>\n",
       "  </tbody>\n",
       "</table>\n",
       "</div>"
      ],
      "text/plain": [
       "Élément               Zone  \\\n",
       "18                Bermudes   \n",
       "22       Brunéi Darussalam   \n",
       "\n",
       "Élément  Disponibilité alimentaire en quantité (kg/personne/an)  \n",
       "18                                                     NaN       \n",
       "22                                                     NaN       "
      ]
     },
     "execution_count": 539,
     "metadata": {},
     "output_type": "execute_result"
    }
   ],
   "source": [
    "dispo_alimentaire_reduite[dispo_alimentaire_reduite.isnull().any(axis=1)]"
   ]
  },
  {
   "cell_type": "markdown",
   "id": "ac19189e",
   "metadata": {},
   "source": [
    "On supprime ces deux lignes grace à la méthode **.dropna()**"
   ]
  },
  {
   "cell_type": "code",
   "execution_count": 540,
   "id": "b266bc74",
   "metadata": {},
   "outputs": [],
   "source": [
    "dispo_alimentaire_reduite.dropna(inplace=True)"
   ]
  },
  {
   "cell_type": "markdown",
   "id": "21e8441e",
   "metadata": {},
   "source": [
    "On vérifie qu'elles ont bien été supprimées:"
   ]
  },
  {
   "cell_type": "code",
   "execution_count": 541,
   "id": "d2300153",
   "metadata": {},
   "outputs": [
    {
     "data": {
      "text/html": [
       "<div>\n",
       "<style scoped>\n",
       "    .dataframe tbody tr th:only-of-type {\n",
       "        vertical-align: middle;\n",
       "    }\n",
       "\n",
       "    .dataframe tbody tr th {\n",
       "        vertical-align: top;\n",
       "    }\n",
       "\n",
       "    .dataframe thead th {\n",
       "        text-align: right;\n",
       "    }\n",
       "</style>\n",
       "<table border=\"1\" class=\"dataframe\">\n",
       "  <thead>\n",
       "    <tr style=\"text-align: right;\">\n",
       "      <th>Élément</th>\n",
       "      <th>Zone</th>\n",
       "      <th>Disponibilité alimentaire en quantité (kg/personne/an)</th>\n",
       "    </tr>\n",
       "  </thead>\n",
       "  <tbody>\n",
       "  </tbody>\n",
       "</table>\n",
       "</div>"
      ],
      "text/plain": [
       "Empty DataFrame\n",
       "Columns: [Zone, Disponibilité alimentaire en quantité (kg/personne/an)]\n",
       "Index: []"
      ]
     },
     "execution_count": 541,
     "metadata": {},
     "output_type": "execute_result"
    }
   ],
   "source": [
    "dispo_alimentaire_reduite[dispo_alimentaire_reduite.isnull().any(axis=1)]"
   ]
  },
  {
   "cell_type": "markdown",
   "id": "43056a21",
   "metadata": {},
   "source": [
    "# Création d'un df concernant la viande de volailles"
   ]
  },
  {
   "cell_type": "markdown",
   "id": "b5f9dcc0",
   "metadata": {},
   "source": [
    "_Dans cette partie on va faire ce qu'on a fait précedemment en l'appliquant à la viande de volailles.  \n",
    "Ce qu'on veut savoir c'est quelle est la taille du marché de la viande de volaille dans chaque pays ?_"
   ]
  },
  {
   "cell_type": "markdown",
   "id": "fb63b255",
   "metadata": {},
   "source": [
    "On utilise la méthode .loc pour isoler la disponibilité alimentaire de viande de volaille qu'on sauvegarde dans un df **disponibilite_alimentaire_volailles**"
   ]
  },
  {
   "cell_type": "code",
   "execution_count": 542,
   "id": "3924296a",
   "metadata": {},
   "outputs": [],
   "source": [
    "disponibilite_alimentaire_volailles = dispo_alimentaire.loc[dispo_alimentaire[\"Produit\"]== \"Viande de Volailles\"]"
   ]
  },
  {
   "cell_type": "markdown",
   "id": "1f16275a",
   "metadata": {},
   "source": [
    "On jette un oeil aux 5 premières lignes de notres df "
   ]
  },
  {
   "cell_type": "code",
   "execution_count": 543,
   "id": "da37bfad",
   "metadata": {},
   "outputs": [
    {
     "data": {
      "text/html": [
       "<div>\n",
       "<style scoped>\n",
       "    .dataframe tbody tr th:only-of-type {\n",
       "        vertical-align: middle;\n",
       "    }\n",
       "\n",
       "    .dataframe tbody tr th {\n",
       "        vertical-align: top;\n",
       "    }\n",
       "\n",
       "    .dataframe thead th {\n",
       "        text-align: right;\n",
       "    }\n",
       "</style>\n",
       "<table border=\"1\" class=\"dataframe\">\n",
       "  <thead>\n",
       "    <tr style=\"text-align: right;\">\n",
       "      <th></th>\n",
       "      <th>Zone</th>\n",
       "      <th>Élément</th>\n",
       "      <th>Produit</th>\n",
       "      <th>Unité</th>\n",
       "      <th>Valeur</th>\n",
       "    </tr>\n",
       "  </thead>\n",
       "  <tbody>\n",
       "    <tr>\n",
       "      <th>651</th>\n",
       "      <td>Afghanistan</td>\n",
       "      <td>Production</td>\n",
       "      <td>Viande de Volailles</td>\n",
       "      <td>Milliers de tonnes</td>\n",
       "      <td>28.00</td>\n",
       "    </tr>\n",
       "    <tr>\n",
       "      <th>652</th>\n",
       "      <td>Afghanistan</td>\n",
       "      <td>Importations - Quantité</td>\n",
       "      <td>Viande de Volailles</td>\n",
       "      <td>Milliers de tonnes</td>\n",
       "      <td>29.00</td>\n",
       "    </tr>\n",
       "    <tr>\n",
       "      <th>653</th>\n",
       "      <td>Afghanistan</td>\n",
       "      <td>Variation de stock</td>\n",
       "      <td>Viande de Volailles</td>\n",
       "      <td>Milliers de tonnes</td>\n",
       "      <td>0.00</td>\n",
       "    </tr>\n",
       "    <tr>\n",
       "      <th>654</th>\n",
       "      <td>Afghanistan</td>\n",
       "      <td>Disponibilité intérieure</td>\n",
       "      <td>Viande de Volailles</td>\n",
       "      <td>Milliers de tonnes</td>\n",
       "      <td>57.00</td>\n",
       "    </tr>\n",
       "    <tr>\n",
       "      <th>655</th>\n",
       "      <td>Afghanistan</td>\n",
       "      <td>Pertes</td>\n",
       "      <td>Viande de Volailles</td>\n",
       "      <td>Milliers de tonnes</td>\n",
       "      <td>2.00</td>\n",
       "    </tr>\n",
       "  </tbody>\n",
       "</table>\n",
       "</div>"
      ],
      "text/plain": [
       "            Zone                   Élément              Produit  \\\n",
       "651  Afghanistan                Production  Viande de Volailles   \n",
       "652  Afghanistan   Importations - Quantité  Viande de Volailles   \n",
       "653  Afghanistan        Variation de stock  Viande de Volailles   \n",
       "654  Afghanistan  Disponibilité intérieure  Viande de Volailles   \n",
       "655  Afghanistan                    Pertes  Viande de Volailles   \n",
       "\n",
       "                  Unité  Valeur  \n",
       "651  Milliers de tonnes   28.00  \n",
       "652  Milliers de tonnes   29.00  \n",
       "653  Milliers de tonnes    0.00  \n",
       "654  Milliers de tonnes   57.00  \n",
       "655  Milliers de tonnes    2.00  "
      ]
     },
     "execution_count": 543,
     "metadata": {},
     "output_type": "execute_result"
    }
   ],
   "source": [
    "disponibilite_alimentaire_volailles.head()"
   ]
  },
  {
   "cell_type": "markdown",
   "id": "d0cbdc64",
   "metadata": {},
   "source": [
    "On applique le même pivot que pour le tableau dispo_alimentaire."
   ]
  },
  {
   "cell_type": "code",
   "execution_count": 544,
   "id": "e50a6baa",
   "metadata": {},
   "outputs": [],
   "source": [
    "disponibilite_alimentaire_volailles = pd.pivot_table(disponibilite_alimentaire_volailles,\n",
    "                                                     columns=[\"Élément\"],\n",
    "                                                     index=[\"Zone\"],\n",
    "                                                     values= \"Valeur\",\n",
    "                                                     aggfunc=sum).reset_index()"
   ]
  },
  {
   "cell_type": "markdown",
   "id": "a7f5c7da",
   "metadata": {},
   "source": [
    "On vérifie le pivot"
   ]
  },
  {
   "cell_type": "code",
   "execution_count": 545,
   "id": "52d50b7e",
   "metadata": {},
   "outputs": [
    {
     "data": {
      "text/html": [
       "<div>\n",
       "<style scoped>\n",
       "    .dataframe tbody tr th:only-of-type {\n",
       "        vertical-align: middle;\n",
       "    }\n",
       "\n",
       "    .dataframe tbody tr th {\n",
       "        vertical-align: top;\n",
       "    }\n",
       "\n",
       "    .dataframe thead th {\n",
       "        text-align: right;\n",
       "    }\n",
       "</style>\n",
       "<table border=\"1\" class=\"dataframe\">\n",
       "  <thead>\n",
       "    <tr style=\"text-align: right;\">\n",
       "      <th>Élément</th>\n",
       "      <th>Zone</th>\n",
       "      <th>Alimentation pour touristes</th>\n",
       "      <th>Aliments pour animaux</th>\n",
       "      <th>Autres utilisations (non alimentaire)</th>\n",
       "      <th>Disponibilité alimentaire (Kcal/personne/jour)</th>\n",
       "      <th>Disponibilité alimentaire en quantité (kg/personne/an)</th>\n",
       "      <th>Disponibilité de matière grasse en quantité (g/personne/jour)</th>\n",
       "      <th>Disponibilité de protéines en quantité (g/personne/jour)</th>\n",
       "      <th>Disponibilité intérieure</th>\n",
       "      <th>Exportations - Quantité</th>\n",
       "      <th>Importations - Quantité</th>\n",
       "      <th>Nourriture</th>\n",
       "      <th>Pertes</th>\n",
       "      <th>Production</th>\n",
       "      <th>Résidus</th>\n",
       "      <th>Semences</th>\n",
       "      <th>Traitement</th>\n",
       "      <th>Variation de stock</th>\n",
       "    </tr>\n",
       "  </thead>\n",
       "  <tbody>\n",
       "    <tr>\n",
       "      <th>0</th>\n",
       "      <td>Afghanistan</td>\n",
       "      <td>NaN</td>\n",
       "      <td>NaN</td>\n",
       "      <td>NaN</td>\n",
       "      <td>5.00</td>\n",
       "      <td>1.53</td>\n",
       "      <td>0.33</td>\n",
       "      <td>0.54</td>\n",
       "      <td>57.00</td>\n",
       "      <td>NaN</td>\n",
       "      <td>29.00</td>\n",
       "      <td>55.00</td>\n",
       "      <td>2.00</td>\n",
       "      <td>28.00</td>\n",
       "      <td>0.00</td>\n",
       "      <td>NaN</td>\n",
       "      <td>NaN</td>\n",
       "      <td>0.00</td>\n",
       "    </tr>\n",
       "    <tr>\n",
       "      <th>1</th>\n",
       "      <td>Afrique du Sud</td>\n",
       "      <td>0.00</td>\n",
       "      <td>NaN</td>\n",
       "      <td>NaN</td>\n",
       "      <td>143.00</td>\n",
       "      <td>35.69</td>\n",
       "      <td>9.25</td>\n",
       "      <td>14.11</td>\n",
       "      <td>2118.00</td>\n",
       "      <td>63.00</td>\n",
       "      <td>514.00</td>\n",
       "      <td>2035.00</td>\n",
       "      <td>83.00</td>\n",
       "      <td>1667.00</td>\n",
       "      <td>0.00</td>\n",
       "      <td>NaN</td>\n",
       "      <td>NaN</td>\n",
       "      <td>0.00</td>\n",
       "    </tr>\n",
       "    <tr>\n",
       "      <th>2</th>\n",
       "      <td>Albanie</td>\n",
       "      <td>NaN</td>\n",
       "      <td>NaN</td>\n",
       "      <td>NaN</td>\n",
       "      <td>85.00</td>\n",
       "      <td>16.36</td>\n",
       "      <td>6.45</td>\n",
       "      <td>6.26</td>\n",
       "      <td>47.00</td>\n",
       "      <td>0.00</td>\n",
       "      <td>38.00</td>\n",
       "      <td>47.00</td>\n",
       "      <td>NaN</td>\n",
       "      <td>13.00</td>\n",
       "      <td>0.00</td>\n",
       "      <td>NaN</td>\n",
       "      <td>NaN</td>\n",
       "      <td>4.00</td>\n",
       "    </tr>\n",
       "    <tr>\n",
       "      <th>3</th>\n",
       "      <td>Algérie</td>\n",
       "      <td>0.00</td>\n",
       "      <td>NaN</td>\n",
       "      <td>NaN</td>\n",
       "      <td>22.00</td>\n",
       "      <td>6.38</td>\n",
       "      <td>1.50</td>\n",
       "      <td>1.97</td>\n",
       "      <td>277.00</td>\n",
       "      <td>0.00</td>\n",
       "      <td>2.00</td>\n",
       "      <td>264.00</td>\n",
       "      <td>13.00</td>\n",
       "      <td>275.00</td>\n",
       "      <td>0.00</td>\n",
       "      <td>NaN</td>\n",
       "      <td>NaN</td>\n",
       "      <td>0.00</td>\n",
       "    </tr>\n",
       "    <tr>\n",
       "      <th>4</th>\n",
       "      <td>Allemagne</td>\n",
       "      <td>NaN</td>\n",
       "      <td>NaN</td>\n",
       "      <td>NaN</td>\n",
       "      <td>71.00</td>\n",
       "      <td>19.47</td>\n",
       "      <td>4.16</td>\n",
       "      <td>7.96</td>\n",
       "      <td>1739.00</td>\n",
       "      <td>646.00</td>\n",
       "      <td>842.00</td>\n",
       "      <td>1609.00</td>\n",
       "      <td>NaN</td>\n",
       "      <td>1514.00</td>\n",
       "      <td>-38.00</td>\n",
       "      <td>NaN</td>\n",
       "      <td>167.00</td>\n",
       "      <td>-29.00</td>\n",
       "    </tr>\n",
       "  </tbody>\n",
       "</table>\n",
       "</div>"
      ],
      "text/plain": [
       "Élément            Zone  Alimentation pour touristes  Aliments pour animaux  \\\n",
       "0           Afghanistan                          NaN                    NaN   \n",
       "1        Afrique du Sud                         0.00                    NaN   \n",
       "2               Albanie                          NaN                    NaN   \n",
       "3               Algérie                         0.00                    NaN   \n",
       "4             Allemagne                          NaN                    NaN   \n",
       "\n",
       "Élément  Autres utilisations (non alimentaire)  \\\n",
       "0                                          NaN   \n",
       "1                                          NaN   \n",
       "2                                          NaN   \n",
       "3                                          NaN   \n",
       "4                                          NaN   \n",
       "\n",
       "Élément  Disponibilité alimentaire (Kcal/personne/jour)  \\\n",
       "0                                                  5.00   \n",
       "1                                                143.00   \n",
       "2                                                 85.00   \n",
       "3                                                 22.00   \n",
       "4                                                 71.00   \n",
       "\n",
       "Élément  Disponibilité alimentaire en quantité (kg/personne/an)  \\\n",
       "0                                                     1.53        \n",
       "1                                                    35.69        \n",
       "2                                                    16.36        \n",
       "3                                                     6.38        \n",
       "4                                                    19.47        \n",
       "\n",
       "Élément  Disponibilité de matière grasse en quantité (g/personne/jour)  \\\n",
       "0                                                     0.33               \n",
       "1                                                     9.25               \n",
       "2                                                     6.45               \n",
       "3                                                     1.50               \n",
       "4                                                     4.16               \n",
       "\n",
       "Élément  Disponibilité de protéines en quantité (g/personne/jour)  \\\n",
       "0                                                     0.54          \n",
       "1                                                    14.11          \n",
       "2                                                     6.26          \n",
       "3                                                     1.97          \n",
       "4                                                     7.96          \n",
       "\n",
       "Élément  Disponibilité intérieure  Exportations - Quantité  \\\n",
       "0                           57.00                      NaN   \n",
       "1                         2118.00                    63.00   \n",
       "2                           47.00                     0.00   \n",
       "3                          277.00                     0.00   \n",
       "4                         1739.00                   646.00   \n",
       "\n",
       "Élément  Importations - Quantité  Nourriture  Pertes  Production  Résidus  \\\n",
       "0                          29.00       55.00    2.00       28.00     0.00   \n",
       "1                         514.00     2035.00   83.00     1667.00     0.00   \n",
       "2                          38.00       47.00     NaN       13.00     0.00   \n",
       "3                           2.00      264.00   13.00      275.00     0.00   \n",
       "4                         842.00     1609.00     NaN     1514.00   -38.00   \n",
       "\n",
       "Élément  Semences  Traitement  Variation de stock  \n",
       "0             NaN         NaN                0.00  \n",
       "1             NaN         NaN                0.00  \n",
       "2             NaN         NaN                4.00  \n",
       "3             NaN         NaN                0.00  \n",
       "4             NaN      167.00              -29.00  "
      ]
     },
     "execution_count": 545,
     "metadata": {},
     "output_type": "execute_result"
    }
   ],
   "source": [
    "disponibilite_alimentaire_volailles.head()"
   ]
  },
  {
   "cell_type": "markdown",
   "id": "03968080",
   "metadata": {},
   "source": [
    "A nouveau, on utilise, la méthode .info() pour nous pencher sur la structure de nos données."
   ]
  },
  {
   "cell_type": "code",
   "execution_count": 546,
   "id": "baca1c1d",
   "metadata": {},
   "outputs": [
    {
     "name": "stdout",
     "output_type": "stream",
     "text": [
      "<class 'pandas.core.frame.DataFrame'>\n",
      "RangeIndex: 172 entries, 0 to 171\n",
      "Data columns (total 18 columns):\n",
      " #   Column                                                         Non-Null Count  Dtype  \n",
      "---  ------                                                         --------------  -----  \n",
      " 0   Zone                                                           172 non-null    object \n",
      " 1   Alimentation pour touristes                                    78 non-null     float64\n",
      " 2   Aliments pour animaux                                          1 non-null      float64\n",
      " 3   Autres utilisations (non alimentaire)                          34 non-null     float64\n",
      " 4   Disponibilité alimentaire (Kcal/personne/jour)                 172 non-null    float64\n",
      " 5   Disponibilité alimentaire en quantité (kg/personne/an)         172 non-null    float64\n",
      " 6   Disponibilité de matière grasse en quantité (g/personne/jour)  172 non-null    float64\n",
      " 7   Disponibilité de protéines en quantité (g/personne/jour)       172 non-null    float64\n",
      " 8   Disponibilité intérieure                                       170 non-null    float64\n",
      " 9   Exportations - Quantité                                        135 non-null    float64\n",
      " 10  Importations - Quantité                                        170 non-null    float64\n",
      " 11  Nourriture                                                     170 non-null    float64\n",
      " 12  Pertes                                                         67 non-null     float64\n",
      " 13  Production                                                     168 non-null    float64\n",
      " 14  Résidus                                                        164 non-null    float64\n",
      " 15  Semences                                                       1 non-null      float64\n",
      " 16  Traitement                                                     46 non-null     float64\n",
      " 17  Variation de stock                                             169 non-null    float64\n",
      "dtypes: float64(17), object(1)\n",
      "memory usage: 24.3+ KB\n"
     ]
    }
   ],
   "source": [
    "disponibilite_alimentaire_volailles.info()"
   ]
  },
  {
   "cell_type": "markdown",
   "id": "a1213986",
   "metadata": {},
   "source": [
    "A nouveau on ne garde pour chaque pays que _La disponibilité alimentaire en quantité (kg/personne/an)_\n",
    "\n",
    "On utilise la méthode .drop() et on sauvegarde notre nouveau df dans une variable **dispo_alimentaire_volailles_reduite**"
   ]
  },
  {
   "cell_type": "code",
   "execution_count": 547,
   "id": "a21cd4ff",
   "metadata": {},
   "outputs": [],
   "source": [
    "dispo_alimentaire_volailles_reduite= disponibilite_alimentaire_volailles.drop([\"Alimentation pour touristes\",\n",
    "                                            \"Aliments pour animaux\",\n",
    "                                            \"Autres utilisations (non alimentaire)\",\n",
    "                                            \"Disponibilité alimentaire (Kcal/personne/jour)\",\n",
    "                                            \"Disponibilité de matière grasse en quantité (g/personne/jour)\",\n",
    "                                            \"Disponibilité intérieure\",\n",
    "                                            \"Importations - Quantité\",\n",
    "                                            \"Exportations - Quantité\",\n",
    "                                            \"Nourriture\",\n",
    "                                            \"Production\",\n",
    "                                            \"Pertes\",\n",
    "                                            \"Résidus\",\n",
    "                                            \"Semences\",\n",
    "                                            \"Traitement\",\n",
    "                                            \"Variation de stock\",\n",
    "                                            \"Disponibilité de protéines en quantité (g/personne/jour)\"\n",
    "                                                ], axis=1)"
   ]
  },
  {
   "cell_type": "markdown",
   "id": "d53aed09",
   "metadata": {},
   "source": [
    "Jetons un oeil aux cinq première lignes de notre df"
   ]
  },
  {
   "cell_type": "code",
   "execution_count": 548,
   "id": "445e80d9",
   "metadata": {},
   "outputs": [
    {
     "data": {
      "text/html": [
       "<div>\n",
       "<style scoped>\n",
       "    .dataframe tbody tr th:only-of-type {\n",
       "        vertical-align: middle;\n",
       "    }\n",
       "\n",
       "    .dataframe tbody tr th {\n",
       "        vertical-align: top;\n",
       "    }\n",
       "\n",
       "    .dataframe thead th {\n",
       "        text-align: right;\n",
       "    }\n",
       "</style>\n",
       "<table border=\"1\" class=\"dataframe\">\n",
       "  <thead>\n",
       "    <tr style=\"text-align: right;\">\n",
       "      <th>Élément</th>\n",
       "      <th>Zone</th>\n",
       "      <th>Disponibilité alimentaire en quantité (kg/personne/an)</th>\n",
       "    </tr>\n",
       "  </thead>\n",
       "  <tbody>\n",
       "    <tr>\n",
       "      <th>0</th>\n",
       "      <td>Afghanistan</td>\n",
       "      <td>1.53</td>\n",
       "    </tr>\n",
       "    <tr>\n",
       "      <th>1</th>\n",
       "      <td>Afrique du Sud</td>\n",
       "      <td>35.69</td>\n",
       "    </tr>\n",
       "    <tr>\n",
       "      <th>2</th>\n",
       "      <td>Albanie</td>\n",
       "      <td>16.36</td>\n",
       "    </tr>\n",
       "    <tr>\n",
       "      <th>3</th>\n",
       "      <td>Algérie</td>\n",
       "      <td>6.38</td>\n",
       "    </tr>\n",
       "    <tr>\n",
       "      <th>4</th>\n",
       "      <td>Allemagne</td>\n",
       "      <td>19.47</td>\n",
       "    </tr>\n",
       "  </tbody>\n",
       "</table>\n",
       "</div>"
      ],
      "text/plain": [
       "Élément            Zone  \\\n",
       "0           Afghanistan   \n",
       "1        Afrique du Sud   \n",
       "2               Albanie   \n",
       "3               Algérie   \n",
       "4             Allemagne   \n",
       "\n",
       "Élément  Disponibilité alimentaire en quantité (kg/personne/an)  \n",
       "0                                                     1.53       \n",
       "1                                                    35.69       \n",
       "2                                                    16.36       \n",
       "3                                                     6.38       \n",
       "4                                                    19.47       "
      ]
     },
     "execution_count": 548,
     "metadata": {},
     "output_type": "execute_result"
    }
   ],
   "source": [
    "dispo_alimentaire_volailles_reduite.head()"
   ]
  },
  {
   "cell_type": "markdown",
   "id": "cd7a7d6d",
   "metadata": {},
   "source": [
    "On ajoute la mention **VOLAILLES** sur chacune de nos colonnes, grace à la méthode.rename()"
   ]
  },
  {
   "cell_type": "code",
   "execution_count": 549,
   "id": "3baf8ca9",
   "metadata": {},
   "outputs": [],
   "source": [
    "dispo_alimentaire_volailles_reduite = dispo_alimentaire_volailles_reduite.rename(columns = {\"Disponibilité alimentaire en quantité (kg/personne/an)\":\"Disponibilité alimentaire en quantité (kg/personne/an) (VOLAILLES)\"})"
   ]
  },
  {
   "cell_type": "markdown",
   "id": "1d5262e7",
   "metadata": {},
   "source": [
    "Et on vérifie une dernière fois:"
   ]
  },
  {
   "cell_type": "code",
   "execution_count": 550,
   "id": "3976d848",
   "metadata": {},
   "outputs": [
    {
     "data": {
      "text/html": [
       "<div>\n",
       "<style scoped>\n",
       "    .dataframe tbody tr th:only-of-type {\n",
       "        vertical-align: middle;\n",
       "    }\n",
       "\n",
       "    .dataframe tbody tr th {\n",
       "        vertical-align: top;\n",
       "    }\n",
       "\n",
       "    .dataframe thead th {\n",
       "        text-align: right;\n",
       "    }\n",
       "</style>\n",
       "<table border=\"1\" class=\"dataframe\">\n",
       "  <thead>\n",
       "    <tr style=\"text-align: right;\">\n",
       "      <th>Élément</th>\n",
       "      <th>Zone</th>\n",
       "      <th>Disponibilité alimentaire en quantité (kg/personne/an) (VOLAILLES)</th>\n",
       "    </tr>\n",
       "  </thead>\n",
       "  <tbody>\n",
       "    <tr>\n",
       "      <th>0</th>\n",
       "      <td>Afghanistan</td>\n",
       "      <td>1.53</td>\n",
       "    </tr>\n",
       "    <tr>\n",
       "      <th>1</th>\n",
       "      <td>Afrique du Sud</td>\n",
       "      <td>35.69</td>\n",
       "    </tr>\n",
       "    <tr>\n",
       "      <th>2</th>\n",
       "      <td>Albanie</td>\n",
       "      <td>16.36</td>\n",
       "    </tr>\n",
       "    <tr>\n",
       "      <th>3</th>\n",
       "      <td>Algérie</td>\n",
       "      <td>6.38</td>\n",
       "    </tr>\n",
       "    <tr>\n",
       "      <th>4</th>\n",
       "      <td>Allemagne</td>\n",
       "      <td>19.47</td>\n",
       "    </tr>\n",
       "    <tr>\n",
       "      <th>...</th>\n",
       "      <td>...</td>\n",
       "      <td>...</td>\n",
       "    </tr>\n",
       "    <tr>\n",
       "      <th>167</th>\n",
       "      <td>Émirats arabes unis</td>\n",
       "      <td>43.47</td>\n",
       "    </tr>\n",
       "    <tr>\n",
       "      <th>168</th>\n",
       "      <td>Équateur</td>\n",
       "      <td>19.31</td>\n",
       "    </tr>\n",
       "    <tr>\n",
       "      <th>169</th>\n",
       "      <td>États-Unis d'Amérique</td>\n",
       "      <td>55.68</td>\n",
       "    </tr>\n",
       "    <tr>\n",
       "      <th>170</th>\n",
       "      <td>Éthiopie</td>\n",
       "      <td>0.13</td>\n",
       "    </tr>\n",
       "    <tr>\n",
       "      <th>171</th>\n",
       "      <td>Îles Salomon</td>\n",
       "      <td>4.45</td>\n",
       "    </tr>\n",
       "  </tbody>\n",
       "</table>\n",
       "<p>172 rows × 2 columns</p>\n",
       "</div>"
      ],
      "text/plain": [
       "Élément                   Zone  \\\n",
       "0                  Afghanistan   \n",
       "1               Afrique du Sud   \n",
       "2                      Albanie   \n",
       "3                      Algérie   \n",
       "4                    Allemagne   \n",
       "..                         ...   \n",
       "167        Émirats arabes unis   \n",
       "168                   Équateur   \n",
       "169      États-Unis d'Amérique   \n",
       "170                   Éthiopie   \n",
       "171               Îles Salomon   \n",
       "\n",
       "Élément  Disponibilité alimentaire en quantité (kg/personne/an) (VOLAILLES)  \n",
       "0                                                     1.53                   \n",
       "1                                                    35.69                   \n",
       "2                                                    16.36                   \n",
       "3                                                     6.38                   \n",
       "4                                                    19.47                   \n",
       "..                                                     ...                   \n",
       "167                                                  43.47                   \n",
       "168                                                  19.31                   \n",
       "169                                                  55.68                   \n",
       "170                                                   0.13                   \n",
       "171                                                   4.45                   \n",
       "\n",
       "[172 rows x 2 columns]"
      ]
     },
     "execution_count": 550,
     "metadata": {},
     "output_type": "execute_result"
    }
   ],
   "source": [
    "dispo_alimentaire_volailles_reduite"
   ]
  },
  {
   "cell_type": "markdown",
   "id": "1fe61879",
   "metadata": {},
   "source": [
    "On regarde si notre df contient des valeurs nulles :"
   ]
  },
  {
   "cell_type": "code",
   "execution_count": 551,
   "id": "92dd5a43",
   "metadata": {},
   "outputs": [
    {
     "data": {
      "text/plain": [
       "Élément\n",
       "Zone                                                                  0\n",
       "Disponibilité alimentaire en quantité (kg/personne/an) (VOLAILLES)    0\n",
       "dtype: int64"
      ]
     },
     "execution_count": 551,
     "metadata": {},
     "output_type": "execute_result"
    }
   ],
   "source": [
    "dispo_alimentaire_volailles_reduite.isna().sum()"
   ]
  },
  {
   "cell_type": "markdown",
   "id": "471610af",
   "metadata": {},
   "source": [
    "Il n'y en a aucune !"
   ]
  },
  {
   "cell_type": "markdown",
   "id": "800bd1a0",
   "metadata": {},
   "source": [
    "# Jointure des df dispo_alimentaire réduite et dispo alimentaire volailles reduite!"
   ]
  },
  {
   "cell_type": "code",
   "execution_count": 552,
   "id": "4cd9c297",
   "metadata": {},
   "outputs": [],
   "source": [
    "tableau =pd.merge(dispo_alimentaire_reduite, dispo_alimentaire_volailles_reduite, on='Zone', how='outer', indicator= True)"
   ]
  },
  {
   "cell_type": "code",
   "execution_count": 553,
   "id": "5f67c215",
   "metadata": {},
   "outputs": [
    {
     "data": {
      "text/html": [
       "<div>\n",
       "<style scoped>\n",
       "    .dataframe tbody tr th:only-of-type {\n",
       "        vertical-align: middle;\n",
       "    }\n",
       "\n",
       "    .dataframe tbody tr th {\n",
       "        vertical-align: top;\n",
       "    }\n",
       "\n",
       "    .dataframe thead th {\n",
       "        text-align: right;\n",
       "    }\n",
       "</style>\n",
       "<table border=\"1\" class=\"dataframe\">\n",
       "  <thead>\n",
       "    <tr style=\"text-align: right;\">\n",
       "      <th>Élément</th>\n",
       "      <th>Zone</th>\n",
       "      <th>Disponibilité alimentaire en quantité (kg/personne/an)</th>\n",
       "      <th>Disponibilité alimentaire en quantité (kg/personne/an) (VOLAILLES)</th>\n",
       "      <th>_merge</th>\n",
       "    </tr>\n",
       "  </thead>\n",
       "  <tbody>\n",
       "    <tr>\n",
       "      <th>0</th>\n",
       "      <td>Afghanistan</td>\n",
       "      <td>357.31</td>\n",
       "      <td>1.53</td>\n",
       "      <td>both</td>\n",
       "    </tr>\n",
       "    <tr>\n",
       "      <th>1</th>\n",
       "      <td>Afrique du Sud</td>\n",
       "      <td>556.42</td>\n",
       "      <td>35.69</td>\n",
       "      <td>both</td>\n",
       "    </tr>\n",
       "    <tr>\n",
       "      <th>2</th>\n",
       "      <td>Albanie</td>\n",
       "      <td>1260.49</td>\n",
       "      <td>16.36</td>\n",
       "      <td>both</td>\n",
       "    </tr>\n",
       "    <tr>\n",
       "      <th>3</th>\n",
       "      <td>Algérie</td>\n",
       "      <td>798.71</td>\n",
       "      <td>6.38</td>\n",
       "      <td>both</td>\n",
       "    </tr>\n",
       "    <tr>\n",
       "      <th>4</th>\n",
       "      <td>Allemagne</td>\n",
       "      <td>943.24</td>\n",
       "      <td>19.47</td>\n",
       "      <td>both</td>\n",
       "    </tr>\n",
       "    <tr>\n",
       "      <th>...</th>\n",
       "      <td>...</td>\n",
       "      <td>...</td>\n",
       "      <td>...</td>\n",
       "      <td>...</td>\n",
       "    </tr>\n",
       "    <tr>\n",
       "      <th>167</th>\n",
       "      <td>Émirats arabes unis</td>\n",
       "      <td>627.67</td>\n",
       "      <td>43.47</td>\n",
       "      <td>both</td>\n",
       "    </tr>\n",
       "    <tr>\n",
       "      <th>168</th>\n",
       "      <td>Équateur</td>\n",
       "      <td>563.62</td>\n",
       "      <td>19.31</td>\n",
       "      <td>both</td>\n",
       "    </tr>\n",
       "    <tr>\n",
       "      <th>169</th>\n",
       "      <td>États-Unis d'Amérique</td>\n",
       "      <td>990.38</td>\n",
       "      <td>55.68</td>\n",
       "      <td>both</td>\n",
       "    </tr>\n",
       "    <tr>\n",
       "      <th>170</th>\n",
       "      <td>Éthiopie</td>\n",
       "      <td>361.77</td>\n",
       "      <td>0.13</td>\n",
       "      <td>both</td>\n",
       "    </tr>\n",
       "    <tr>\n",
       "      <th>171</th>\n",
       "      <td>Îles Salomon</td>\n",
       "      <td>659.79</td>\n",
       "      <td>4.45</td>\n",
       "      <td>both</td>\n",
       "    </tr>\n",
       "  </tbody>\n",
       "</table>\n",
       "<p>172 rows × 4 columns</p>\n",
       "</div>"
      ],
      "text/plain": [
       "Élément                   Zone  \\\n",
       "0                  Afghanistan   \n",
       "1               Afrique du Sud   \n",
       "2                      Albanie   \n",
       "3                      Algérie   \n",
       "4                    Allemagne   \n",
       "..                         ...   \n",
       "167        Émirats arabes unis   \n",
       "168                   Équateur   \n",
       "169      États-Unis d'Amérique   \n",
       "170                   Éthiopie   \n",
       "171               Îles Salomon   \n",
       "\n",
       "Élément  Disponibilité alimentaire en quantité (kg/personne/an)  \\\n",
       "0                                                   357.31        \n",
       "1                                                   556.42        \n",
       "2                                                  1260.49        \n",
       "3                                                   798.71        \n",
       "4                                                   943.24        \n",
       "..                                                     ...        \n",
       "167                                                 627.67        \n",
       "168                                                 563.62        \n",
       "169                                                 990.38        \n",
       "170                                                 361.77        \n",
       "171                                                 659.79        \n",
       "\n",
       "Élément  Disponibilité alimentaire en quantité (kg/personne/an) (VOLAILLES)  \\\n",
       "0                                                     1.53                    \n",
       "1                                                    35.69                    \n",
       "2                                                    16.36                    \n",
       "3                                                     6.38                    \n",
       "4                                                    19.47                    \n",
       "..                                                     ...                    \n",
       "167                                                  43.47                    \n",
       "168                                                  19.31                    \n",
       "169                                                  55.68                    \n",
       "170                                                   0.13                    \n",
       "171                                                   4.45                    \n",
       "\n",
       "Élément _merge  \n",
       "0         both  \n",
       "1         both  \n",
       "2         both  \n",
       "3         both  \n",
       "4         both  \n",
       "..         ...  \n",
       "167       both  \n",
       "168       both  \n",
       "169       both  \n",
       "170       both  \n",
       "171       both  \n",
       "\n",
       "[172 rows x 4 columns]"
      ]
     },
     "execution_count": 553,
     "metadata": {},
     "output_type": "execute_result"
    }
   ],
   "source": [
    "tableau"
   ]
  },
  {
   "cell_type": "code",
   "execution_count": 554,
   "id": "77910051",
   "metadata": {},
   "outputs": [
    {
     "name": "stdout",
     "output_type": "stream",
     "text": [
      "<class 'pandas.core.frame.DataFrame'>\n",
      "Int64Index: 172 entries, 0 to 171\n",
      "Data columns (total 4 columns):\n",
      " #   Column                                                              Non-Null Count  Dtype   \n",
      "---  ------                                                              --------------  -----   \n",
      " 0   Zone                                                                172 non-null    object  \n",
      " 1   Disponibilité alimentaire en quantité (kg/personne/an)              172 non-null    float64 \n",
      " 2   Disponibilité alimentaire en quantité (kg/personne/an) (VOLAILLES)  172 non-null    float64 \n",
      " 3   _merge                                                              172 non-null    category\n",
      "dtypes: category(1), float64(2), object(1)\n",
      "memory usage: 5.7+ KB\n"
     ]
    }
   ],
   "source": [
    "tableau.info()"
   ]
  },
  {
   "cell_type": "code",
   "execution_count": 555,
   "id": "8fe9bf59",
   "metadata": {},
   "outputs": [
    {
     "data": {
      "text/html": [
       "<div>\n",
       "<style scoped>\n",
       "    .dataframe tbody tr th:only-of-type {\n",
       "        vertical-align: middle;\n",
       "    }\n",
       "\n",
       "    .dataframe tbody tr th {\n",
       "        vertical-align: top;\n",
       "    }\n",
       "\n",
       "    .dataframe thead th {\n",
       "        text-align: right;\n",
       "    }\n",
       "</style>\n",
       "<table border=\"1\" class=\"dataframe\">\n",
       "  <thead>\n",
       "    <tr style=\"text-align: right;\">\n",
       "      <th>Élément</th>\n",
       "      <th>Zone</th>\n",
       "      <th>Disponibilité alimentaire en quantité (kg/personne/an)</th>\n",
       "      <th>Disponibilité alimentaire en quantité (kg/personne/an) (VOLAILLES)</th>\n",
       "      <th>_merge</th>\n",
       "    </tr>\n",
       "  </thead>\n",
       "  <tbody>\n",
       "  </tbody>\n",
       "</table>\n",
       "</div>"
      ],
      "text/plain": [
       "Empty DataFrame\n",
       "Columns: [Zone, Disponibilité alimentaire en quantité (kg/personne/an), Disponibilité alimentaire en quantité (kg/personne/an) (VOLAILLES), _merge]\n",
       "Index: []"
      ]
     },
     "execution_count": 555,
     "metadata": {},
     "output_type": "execute_result"
    }
   ],
   "source": [
    "tableau[tableau['_merge']=='right_only']"
   ]
  },
  {
   "cell_type": "code",
   "execution_count": 556,
   "id": "06cf40eb",
   "metadata": {},
   "outputs": [
    {
     "data": {
      "text/html": [
       "<div>\n",
       "<style scoped>\n",
       "    .dataframe tbody tr th:only-of-type {\n",
       "        vertical-align: middle;\n",
       "    }\n",
       "\n",
       "    .dataframe tbody tr th {\n",
       "        vertical-align: top;\n",
       "    }\n",
       "\n",
       "    .dataframe thead th {\n",
       "        text-align: right;\n",
       "    }\n",
       "</style>\n",
       "<table border=\"1\" class=\"dataframe\">\n",
       "  <thead>\n",
       "    <tr style=\"text-align: right;\">\n",
       "      <th>Élément</th>\n",
       "      <th>Zone</th>\n",
       "      <th>Disponibilité alimentaire en quantité (kg/personne/an)</th>\n",
       "      <th>Disponibilité alimentaire en quantité (kg/personne/an) (VOLAILLES)</th>\n",
       "      <th>_merge</th>\n",
       "    </tr>\n",
       "  </thead>\n",
       "  <tbody>\n",
       "  </tbody>\n",
       "</table>\n",
       "</div>"
      ],
      "text/plain": [
       "Empty DataFrame\n",
       "Columns: [Zone, Disponibilité alimentaire en quantité (kg/personne/an), Disponibilité alimentaire en quantité (kg/personne/an) (VOLAILLES), _merge]\n",
       "Index: []"
      ]
     },
     "execution_count": 556,
     "metadata": {},
     "output_type": "execute_result"
    }
   ],
   "source": [
    "tableau[tableau['_merge']=='left_only']"
   ]
  },
  {
   "cell_type": "code",
   "execution_count": 557,
   "id": "3a170eca",
   "metadata": {},
   "outputs": [],
   "source": [
    "tableau= tableau.drop([\"_merge\"], axis=1)"
   ]
  },
  {
   "cell_type": "markdown",
   "id": "3a0c3fd0",
   "metadata": {},
   "source": [
    "# Préparation du df population"
   ]
  },
  {
   "cell_type": "markdown",
   "id": "ca05e4bf",
   "metadata": {},
   "source": [
    "_Dans cette partie on va simplement garder la population par pays pour l'année 2017_"
   ]
  },
  {
   "cell_type": "markdown",
   "id": "8df09b06",
   "metadata": {},
   "source": [
    "On jette un coup d'oeil sur le df "
   ]
  },
  {
   "cell_type": "code",
   "execution_count": 558,
   "id": "a4802820",
   "metadata": {
    "scrolled": true
   },
   "outputs": [
    {
     "data": {
      "text/html": [
       "<div>\n",
       "<style scoped>\n",
       "    .dataframe tbody tr th:only-of-type {\n",
       "        vertical-align: middle;\n",
       "    }\n",
       "\n",
       "    .dataframe tbody tr th {\n",
       "        vertical-align: top;\n",
       "    }\n",
       "\n",
       "    .dataframe thead th {\n",
       "        text-align: right;\n",
       "    }\n",
       "</style>\n",
       "<table border=\"1\" class=\"dataframe\">\n",
       "  <thead>\n",
       "    <tr style=\"text-align: right;\">\n",
       "      <th></th>\n",
       "      <th>Code Domaine</th>\n",
       "      <th>Domaine</th>\n",
       "      <th>Code zone</th>\n",
       "      <th>Zone</th>\n",
       "      <th>Code Élément</th>\n",
       "      <th>Élément</th>\n",
       "      <th>Code Produit</th>\n",
       "      <th>Produit</th>\n",
       "      <th>Code année</th>\n",
       "      <th>Année</th>\n",
       "      <th>Unité</th>\n",
       "      <th>Valeur</th>\n",
       "      <th>Symbole</th>\n",
       "      <th>Description du Symbole</th>\n",
       "      <th>Note</th>\n",
       "    </tr>\n",
       "  </thead>\n",
       "  <tbody>\n",
       "    <tr>\n",
       "      <th>0</th>\n",
       "      <td>OA</td>\n",
       "      <td>Séries temporelles annuelles</td>\n",
       "      <td>2</td>\n",
       "      <td>Afghanistan</td>\n",
       "      <td>511</td>\n",
       "      <td>Population totale</td>\n",
       "      <td>3010</td>\n",
       "      <td>Population-Estimations</td>\n",
       "      <td>2000</td>\n",
       "      <td>2000</td>\n",
       "      <td>1000 personnes</td>\n",
       "      <td>20779.95</td>\n",
       "      <td>X</td>\n",
       "      <td>Sources internationales sûres</td>\n",
       "      <td>NaN</td>\n",
       "    </tr>\n",
       "    <tr>\n",
       "      <th>1</th>\n",
       "      <td>OA</td>\n",
       "      <td>Séries temporelles annuelles</td>\n",
       "      <td>2</td>\n",
       "      <td>Afghanistan</td>\n",
       "      <td>511</td>\n",
       "      <td>Population totale</td>\n",
       "      <td>3010</td>\n",
       "      <td>Population-Estimations</td>\n",
       "      <td>2001</td>\n",
       "      <td>2001</td>\n",
       "      <td>1000 personnes</td>\n",
       "      <td>21606.99</td>\n",
       "      <td>X</td>\n",
       "      <td>Sources internationales sûres</td>\n",
       "      <td>NaN</td>\n",
       "    </tr>\n",
       "    <tr>\n",
       "      <th>2</th>\n",
       "      <td>OA</td>\n",
       "      <td>Séries temporelles annuelles</td>\n",
       "      <td>2</td>\n",
       "      <td>Afghanistan</td>\n",
       "      <td>511</td>\n",
       "      <td>Population totale</td>\n",
       "      <td>3010</td>\n",
       "      <td>Population-Estimations</td>\n",
       "      <td>2002</td>\n",
       "      <td>2002</td>\n",
       "      <td>1000 personnes</td>\n",
       "      <td>22600.77</td>\n",
       "      <td>X</td>\n",
       "      <td>Sources internationales sûres</td>\n",
       "      <td>NaN</td>\n",
       "    </tr>\n",
       "    <tr>\n",
       "      <th>3</th>\n",
       "      <td>OA</td>\n",
       "      <td>Séries temporelles annuelles</td>\n",
       "      <td>2</td>\n",
       "      <td>Afghanistan</td>\n",
       "      <td>511</td>\n",
       "      <td>Population totale</td>\n",
       "      <td>3010</td>\n",
       "      <td>Population-Estimations</td>\n",
       "      <td>2003</td>\n",
       "      <td>2003</td>\n",
       "      <td>1000 personnes</td>\n",
       "      <td>23680.87</td>\n",
       "      <td>X</td>\n",
       "      <td>Sources internationales sûres</td>\n",
       "      <td>NaN</td>\n",
       "    </tr>\n",
       "    <tr>\n",
       "      <th>4</th>\n",
       "      <td>OA</td>\n",
       "      <td>Séries temporelles annuelles</td>\n",
       "      <td>2</td>\n",
       "      <td>Afghanistan</td>\n",
       "      <td>511</td>\n",
       "      <td>Population totale</td>\n",
       "      <td>3010</td>\n",
       "      <td>Population-Estimations</td>\n",
       "      <td>2004</td>\n",
       "      <td>2004</td>\n",
       "      <td>1000 personnes</td>\n",
       "      <td>24726.68</td>\n",
       "      <td>X</td>\n",
       "      <td>Sources internationales sûres</td>\n",
       "      <td>NaN</td>\n",
       "    </tr>\n",
       "  </tbody>\n",
       "</table>\n",
       "</div>"
      ],
      "text/plain": [
       "  Code Domaine                       Domaine  Code zone         Zone  \\\n",
       "0           OA  Séries temporelles annuelles          2  Afghanistan   \n",
       "1           OA  Séries temporelles annuelles          2  Afghanistan   \n",
       "2           OA  Séries temporelles annuelles          2  Afghanistan   \n",
       "3           OA  Séries temporelles annuelles          2  Afghanistan   \n",
       "4           OA  Séries temporelles annuelles          2  Afghanistan   \n",
       "\n",
       "   Code Élément            Élément  Code Produit                 Produit  \\\n",
       "0           511  Population totale          3010  Population-Estimations   \n",
       "1           511  Population totale          3010  Population-Estimations   \n",
       "2           511  Population totale          3010  Population-Estimations   \n",
       "3           511  Population totale          3010  Population-Estimations   \n",
       "4           511  Population totale          3010  Population-Estimations   \n",
       "\n",
       "   Code année  Année           Unité   Valeur Symbole  \\\n",
       "0        2000   2000  1000 personnes 20779.95       X   \n",
       "1        2001   2001  1000 personnes 21606.99       X   \n",
       "2        2002   2002  1000 personnes 22600.77       X   \n",
       "3        2003   2003  1000 personnes 23680.87       X   \n",
       "4        2004   2004  1000 personnes 24726.68       X   \n",
       "\n",
       "          Description du Symbole Note  \n",
       "0  Sources internationales sûres  NaN  \n",
       "1  Sources internationales sûres  NaN  \n",
       "2  Sources internationales sûres  NaN  \n",
       "3  Sources internationales sûres  NaN  \n",
       "4  Sources internationales sûres  NaN  "
      ]
     },
     "execution_count": 558,
     "metadata": {},
     "output_type": "execute_result"
    }
   ],
   "source": [
    "population.head()"
   ]
  },
  {
   "cell_type": "markdown",
   "id": "b58de1ee",
   "metadata": {},
   "source": [
    "Comme pour le df précédent on supprime les colonnes jugées inutiles."
   ]
  },
  {
   "cell_type": "code",
   "execution_count": 559,
   "id": "f6e8731e",
   "metadata": {},
   "outputs": [],
   "source": [
    "population = population.drop([\"Code Domaine\",\n",
    "                                    \"Domaine\",\n",
    "                                    \"Code zone\", \n",
    "                                    \"Code Élément\",\n",
    "                                    \"Élément\",\n",
    "                                    \"Code Produit\",\n",
    "                                    \"Produit\",\n",
    "                                    \"Code année\",\n",
    "                                    \"Unité\",\n",
    "                                    \"Symbole\",\n",
    "                                    \"Description du Symbole\",\n",
    "                                    \"Note\"], axis=1)"
   ]
  },
  {
   "cell_type": "markdown",
   "id": "b514fc25",
   "metadata": {},
   "source": [
    "Aperçu du df :"
   ]
  },
  {
   "cell_type": "code",
   "execution_count": 560,
   "id": "54e74fdf",
   "metadata": {},
   "outputs": [
    {
     "data": {
      "text/html": [
       "<div>\n",
       "<style scoped>\n",
       "    .dataframe tbody tr th:only-of-type {\n",
       "        vertical-align: middle;\n",
       "    }\n",
       "\n",
       "    .dataframe tbody tr th {\n",
       "        vertical-align: top;\n",
       "    }\n",
       "\n",
       "    .dataframe thead th {\n",
       "        text-align: right;\n",
       "    }\n",
       "</style>\n",
       "<table border=\"1\" class=\"dataframe\">\n",
       "  <thead>\n",
       "    <tr style=\"text-align: right;\">\n",
       "      <th></th>\n",
       "      <th>Zone</th>\n",
       "      <th>Année</th>\n",
       "      <th>Valeur</th>\n",
       "    </tr>\n",
       "  </thead>\n",
       "  <tbody>\n",
       "    <tr>\n",
       "      <th>0</th>\n",
       "      <td>Afghanistan</td>\n",
       "      <td>2000</td>\n",
       "      <td>20779.95</td>\n",
       "    </tr>\n",
       "    <tr>\n",
       "      <th>1</th>\n",
       "      <td>Afghanistan</td>\n",
       "      <td>2001</td>\n",
       "      <td>21606.99</td>\n",
       "    </tr>\n",
       "    <tr>\n",
       "      <th>2</th>\n",
       "      <td>Afghanistan</td>\n",
       "      <td>2002</td>\n",
       "      <td>22600.77</td>\n",
       "    </tr>\n",
       "    <tr>\n",
       "      <th>3</th>\n",
       "      <td>Afghanistan</td>\n",
       "      <td>2003</td>\n",
       "      <td>23680.87</td>\n",
       "    </tr>\n",
       "    <tr>\n",
       "      <th>4</th>\n",
       "      <td>Afghanistan</td>\n",
       "      <td>2004</td>\n",
       "      <td>24726.68</td>\n",
       "    </tr>\n",
       "  </tbody>\n",
       "</table>\n",
       "</div>"
      ],
      "text/plain": [
       "          Zone  Année   Valeur\n",
       "0  Afghanistan   2000 20779.95\n",
       "1  Afghanistan   2001 21606.99\n",
       "2  Afghanistan   2002 22600.77\n",
       "3  Afghanistan   2003 23680.87\n",
       "4  Afghanistan   2004 24726.68"
      ]
     },
     "execution_count": 560,
     "metadata": {},
     "output_type": "execute_result"
    }
   ],
   "source": [
    "population.head()"
   ]
  },
  {
   "cell_type": "markdown",
   "id": "09a46fd3",
   "metadata": {},
   "source": [
    "On précise bien que la population est exprimée en milliers d'habitant grace à la méthode .rename()"
   ]
  },
  {
   "cell_type": "code",
   "execution_count": 561,
   "id": "93e064e7",
   "metadata": {},
   "outputs": [],
   "source": [
    "population.rename(columns={\"Valeur\": \"Population en milliers d'hab\"},inplace=True)"
   ]
  },
  {
   "cell_type": "markdown",
   "id": "04da173c",
   "metadata": {},
   "source": [
    "On vérifie:"
   ]
  },
  {
   "cell_type": "code",
   "execution_count": 562,
   "id": "3984df04",
   "metadata": {},
   "outputs": [
    {
     "data": {
      "text/html": [
       "<div>\n",
       "<style scoped>\n",
       "    .dataframe tbody tr th:only-of-type {\n",
       "        vertical-align: middle;\n",
       "    }\n",
       "\n",
       "    .dataframe tbody tr th {\n",
       "        vertical-align: top;\n",
       "    }\n",
       "\n",
       "    .dataframe thead th {\n",
       "        text-align: right;\n",
       "    }\n",
       "</style>\n",
       "<table border=\"1\" class=\"dataframe\">\n",
       "  <thead>\n",
       "    <tr style=\"text-align: right;\">\n",
       "      <th></th>\n",
       "      <th>Zone</th>\n",
       "      <th>Année</th>\n",
       "      <th>Population en milliers d'hab</th>\n",
       "    </tr>\n",
       "  </thead>\n",
       "  <tbody>\n",
       "    <tr>\n",
       "      <th>0</th>\n",
       "      <td>Afghanistan</td>\n",
       "      <td>2000</td>\n",
       "      <td>20779.95</td>\n",
       "    </tr>\n",
       "    <tr>\n",
       "      <th>1</th>\n",
       "      <td>Afghanistan</td>\n",
       "      <td>2001</td>\n",
       "      <td>21606.99</td>\n",
       "    </tr>\n",
       "    <tr>\n",
       "      <th>2</th>\n",
       "      <td>Afghanistan</td>\n",
       "      <td>2002</td>\n",
       "      <td>22600.77</td>\n",
       "    </tr>\n",
       "    <tr>\n",
       "      <th>3</th>\n",
       "      <td>Afghanistan</td>\n",
       "      <td>2003</td>\n",
       "      <td>23680.87</td>\n",
       "    </tr>\n",
       "    <tr>\n",
       "      <th>4</th>\n",
       "      <td>Afghanistan</td>\n",
       "      <td>2004</td>\n",
       "      <td>24726.68</td>\n",
       "    </tr>\n",
       "    <tr>\n",
       "      <th>...</th>\n",
       "      <td>...</td>\n",
       "      <td>...</td>\n",
       "      <td>...</td>\n",
       "    </tr>\n",
       "    <tr>\n",
       "      <th>4406</th>\n",
       "      <td>Zimbabwe</td>\n",
       "      <td>2014</td>\n",
       "      <td>13586.71</td>\n",
       "    </tr>\n",
       "    <tr>\n",
       "      <th>4407</th>\n",
       "      <td>Zimbabwe</td>\n",
       "      <td>2015</td>\n",
       "      <td>13814.63</td>\n",
       "    </tr>\n",
       "    <tr>\n",
       "      <th>4408</th>\n",
       "      <td>Zimbabwe</td>\n",
       "      <td>2016</td>\n",
       "      <td>14030.33</td>\n",
       "    </tr>\n",
       "    <tr>\n",
       "      <th>4409</th>\n",
       "      <td>Zimbabwe</td>\n",
       "      <td>2017</td>\n",
       "      <td>14236.59</td>\n",
       "    </tr>\n",
       "    <tr>\n",
       "      <th>4410</th>\n",
       "      <td>Zimbabwe</td>\n",
       "      <td>2018</td>\n",
       "      <td>14438.80</td>\n",
       "    </tr>\n",
       "  </tbody>\n",
       "</table>\n",
       "<p>4411 rows × 3 columns</p>\n",
       "</div>"
      ],
      "text/plain": [
       "             Zone  Année  Population en milliers d'hab\n",
       "0     Afghanistan   2000                      20779.95\n",
       "1     Afghanistan   2001                      21606.99\n",
       "2     Afghanistan   2002                      22600.77\n",
       "3     Afghanistan   2003                      23680.87\n",
       "4     Afghanistan   2004                      24726.68\n",
       "...           ...    ...                           ...\n",
       "4406     Zimbabwe   2014                      13586.71\n",
       "4407     Zimbabwe   2015                      13814.63\n",
       "4408     Zimbabwe   2016                      14030.33\n",
       "4409     Zimbabwe   2017                      14236.59\n",
       "4410     Zimbabwe   2018                      14438.80\n",
       "\n",
       "[4411 rows x 3 columns]"
      ]
     },
     "execution_count": 562,
     "metadata": {},
     "output_type": "execute_result"
    }
   ],
   "source": [
    "population"
   ]
  },
  {
   "cell_type": "markdown",
   "id": "cbb77cca",
   "metadata": {},
   "source": [
    "On fait pivoter notre tableau pour avoir les années en colonne et les pays en index"
   ]
  },
  {
   "cell_type": "code",
   "execution_count": 563,
   "id": "5a8a2212",
   "metadata": {},
   "outputs": [],
   "source": [
    "population = pd.pivot_table(population, columns=[\"Année\"], index=[\"Zone\"]).reset_index()  "
   ]
  },
  {
   "cell_type": "markdown",
   "id": "df080a00",
   "metadata": {},
   "source": [
    "On vérifie"
   ]
  },
  {
   "cell_type": "code",
   "execution_count": 564,
   "id": "d36260cd",
   "metadata": {},
   "outputs": [
    {
     "data": {
      "text/html": [
       "<div>\n",
       "<style scoped>\n",
       "    .dataframe tbody tr th:only-of-type {\n",
       "        vertical-align: middle;\n",
       "    }\n",
       "\n",
       "    .dataframe tbody tr th {\n",
       "        vertical-align: top;\n",
       "    }\n",
       "\n",
       "    .dataframe thead tr th {\n",
       "        text-align: left;\n",
       "    }\n",
       "</style>\n",
       "<table border=\"1\" class=\"dataframe\">\n",
       "  <thead>\n",
       "    <tr>\n",
       "      <th></th>\n",
       "      <th>Zone</th>\n",
       "      <th colspan=\"19\" halign=\"left\">Population en milliers d'hab</th>\n",
       "    </tr>\n",
       "    <tr>\n",
       "      <th>Année</th>\n",
       "      <th></th>\n",
       "      <th>2000</th>\n",
       "      <th>2001</th>\n",
       "      <th>2002</th>\n",
       "      <th>2003</th>\n",
       "      <th>2004</th>\n",
       "      <th>2005</th>\n",
       "      <th>2006</th>\n",
       "      <th>2007</th>\n",
       "      <th>2008</th>\n",
       "      <th>2009</th>\n",
       "      <th>2010</th>\n",
       "      <th>2011</th>\n",
       "      <th>2012</th>\n",
       "      <th>2013</th>\n",
       "      <th>2014</th>\n",
       "      <th>2015</th>\n",
       "      <th>2016</th>\n",
       "      <th>2017</th>\n",
       "      <th>2018</th>\n",
       "    </tr>\n",
       "  </thead>\n",
       "  <tbody>\n",
       "    <tr>\n",
       "      <th>0</th>\n",
       "      <td>Afghanistan</td>\n",
       "      <td>20779.95</td>\n",
       "      <td>21606.99</td>\n",
       "      <td>22600.77</td>\n",
       "      <td>23680.87</td>\n",
       "      <td>24726.68</td>\n",
       "      <td>25654.28</td>\n",
       "      <td>26433.05</td>\n",
       "      <td>27100.54</td>\n",
       "      <td>27722.28</td>\n",
       "      <td>28394.81</td>\n",
       "      <td>29185.51</td>\n",
       "      <td>30117.41</td>\n",
       "      <td>31161.38</td>\n",
       "      <td>32269.59</td>\n",
       "      <td>33370.79</td>\n",
       "      <td>34413.60</td>\n",
       "      <td>35383.03</td>\n",
       "      <td>36296.11</td>\n",
       "      <td>37171.92</td>\n",
       "    </tr>\n",
       "    <tr>\n",
       "      <th>1</th>\n",
       "      <td>Afrique du Sud</td>\n",
       "      <td>44967.71</td>\n",
       "      <td>45571.27</td>\n",
       "      <td>46150.91</td>\n",
       "      <td>46719.20</td>\n",
       "      <td>47291.61</td>\n",
       "      <td>47880.60</td>\n",
       "      <td>48489.46</td>\n",
       "      <td>49119.76</td>\n",
       "      <td>49779.47</td>\n",
       "      <td>50477.01</td>\n",
       "      <td>51216.96</td>\n",
       "      <td>52003.75</td>\n",
       "      <td>52832.66</td>\n",
       "      <td>53687.12</td>\n",
       "      <td>54544.19</td>\n",
       "      <td>55386.37</td>\n",
       "      <td>56207.65</td>\n",
       "      <td>57009.76</td>\n",
       "      <td>57792.52</td>\n",
       "    </tr>\n",
       "    <tr>\n",
       "      <th>2</th>\n",
       "      <td>Albanie</td>\n",
       "      <td>3129.24</td>\n",
       "      <td>3129.70</td>\n",
       "      <td>3126.19</td>\n",
       "      <td>3118.02</td>\n",
       "      <td>3104.89</td>\n",
       "      <td>3086.81</td>\n",
       "      <td>3063.02</td>\n",
       "      <td>3034.00</td>\n",
       "      <td>3002.68</td>\n",
       "      <td>2973.05</td>\n",
       "      <td>2948.02</td>\n",
       "      <td>2928.59</td>\n",
       "      <td>2914.10</td>\n",
       "      <td>2903.79</td>\n",
       "      <td>2896.30</td>\n",
       "      <td>2890.51</td>\n",
       "      <td>2886.44</td>\n",
       "      <td>2884.17</td>\n",
       "      <td>2882.74</td>\n",
       "    </tr>\n",
       "    <tr>\n",
       "      <th>3</th>\n",
       "      <td>Algérie</td>\n",
       "      <td>31042.24</td>\n",
       "      <td>31451.51</td>\n",
       "      <td>31855.11</td>\n",
       "      <td>32264.16</td>\n",
       "      <td>32692.16</td>\n",
       "      <td>33149.72</td>\n",
       "      <td>33641.00</td>\n",
       "      <td>34166.97</td>\n",
       "      <td>34730.61</td>\n",
       "      <td>35333.88</td>\n",
       "      <td>35977.46</td>\n",
       "      <td>36661.44</td>\n",
       "      <td>37383.89</td>\n",
       "      <td>38140.13</td>\n",
       "      <td>38923.69</td>\n",
       "      <td>39728.03</td>\n",
       "      <td>40551.39</td>\n",
       "      <td>41389.19</td>\n",
       "      <td>42228.41</td>\n",
       "    </tr>\n",
       "    <tr>\n",
       "      <th>4</th>\n",
       "      <td>Allemagne</td>\n",
       "      <td>81400.88</td>\n",
       "      <td>81453.88</td>\n",
       "      <td>81535.12</td>\n",
       "      <td>81614.38</td>\n",
       "      <td>81646.47</td>\n",
       "      <td>81602.74</td>\n",
       "      <td>81472.23</td>\n",
       "      <td>81277.83</td>\n",
       "      <td>81065.75</td>\n",
       "      <td>80899.96</td>\n",
       "      <td>80827.00</td>\n",
       "      <td>80855.63</td>\n",
       "      <td>80972.63</td>\n",
       "      <td>81174.37</td>\n",
       "      <td>81450.38</td>\n",
       "      <td>81787.41</td>\n",
       "      <td>82193.77</td>\n",
       "      <td>82658.41</td>\n",
       "      <td>83124.42</td>\n",
       "    </tr>\n",
       "  </tbody>\n",
       "</table>\n",
       "</div>"
      ],
      "text/plain": [
       "                 Zone Population en milliers d'hab                             \\\n",
       "Année                                         2000     2001     2002     2003   \n",
       "0         Afghanistan                     20779.95 21606.99 22600.77 23680.87   \n",
       "1      Afrique du Sud                     44967.71 45571.27 46150.91 46719.20   \n",
       "2             Albanie                      3129.24  3129.70  3126.19  3118.02   \n",
       "3             Algérie                     31042.24 31451.51 31855.11 32264.16   \n",
       "4           Allemagne                     81400.88 81453.88 81535.12 81614.38   \n",
       "\n",
       "                                                                               \\\n",
       "Année     2004     2005     2006     2007     2008     2009     2010     2011   \n",
       "0     24726.68 25654.28 26433.05 27100.54 27722.28 28394.81 29185.51 30117.41   \n",
       "1     47291.61 47880.60 48489.46 49119.76 49779.47 50477.01 51216.96 52003.75   \n",
       "2      3104.89  3086.81  3063.02  3034.00  3002.68  2973.05  2948.02  2928.59   \n",
       "3     32692.16 33149.72 33641.00 34166.97 34730.61 35333.88 35977.46 36661.44   \n",
       "4     81646.47 81602.74 81472.23 81277.83 81065.75 80899.96 80827.00 80855.63   \n",
       "\n",
       "                                                                      \n",
       "Année     2012     2013     2014     2015     2016     2017     2018  \n",
       "0     31161.38 32269.59 33370.79 34413.60 35383.03 36296.11 37171.92  \n",
       "1     52832.66 53687.12 54544.19 55386.37 56207.65 57009.76 57792.52  \n",
       "2      2914.10  2903.79  2896.30  2890.51  2886.44  2884.17  2882.74  \n",
       "3     37383.89 38140.13 38923.69 39728.03 40551.39 41389.19 42228.41  \n",
       "4     80972.63 81174.37 81450.38 81787.41 82193.77 82658.41 83124.42  "
      ]
     },
     "execution_count": 564,
     "metadata": {},
     "output_type": "execute_result"
    }
   ],
   "source": [
    "population.head()"
   ]
  },
  {
   "cell_type": "markdown",
   "id": "eb40d3d9",
   "metadata": {},
   "source": [
    "On définit le nom des colonnes grace à la méthode .columns"
   ]
  },
  {
   "cell_type": "code",
   "execution_count": 565,
   "id": "53c9e913",
   "metadata": {},
   "outputs": [],
   "source": [
    "population.columns=[ \"Zone\",\n",
    "                     \"2000\",\n",
    "                     \"2001\",\n",
    "                     \"2002\",\n",
    "                     \"2003\",\n",
    "                     \"2004\",\n",
    "                     \"2005\",\n",
    "                     \"2006\",\n",
    "                     \"2007\",\n",
    "                     \"2008\",\n",
    "                     \"2009\",\n",
    "                     \"2010\",\n",
    "                     \"2011\",\n",
    "                     \"2012\",\n",
    "                     \"2013\",\n",
    "                     \"2014\",\n",
    "                     \"2015\",\n",
    "                     \"2016\",\n",
    "                     \"2017\",\n",
    "                     \"2018\"]"
   ]
  },
  {
   "cell_type": "markdown",
   "id": "8da0b06e",
   "metadata": {},
   "source": [
    "On vérifie:"
   ]
  },
  {
   "cell_type": "code",
   "execution_count": 566,
   "id": "351ac251",
   "metadata": {},
   "outputs": [
    {
     "data": {
      "text/html": [
       "<div>\n",
       "<style scoped>\n",
       "    .dataframe tbody tr th:only-of-type {\n",
       "        vertical-align: middle;\n",
       "    }\n",
       "\n",
       "    .dataframe tbody tr th {\n",
       "        vertical-align: top;\n",
       "    }\n",
       "\n",
       "    .dataframe thead th {\n",
       "        text-align: right;\n",
       "    }\n",
       "</style>\n",
       "<table border=\"1\" class=\"dataframe\">\n",
       "  <thead>\n",
       "    <tr style=\"text-align: right;\">\n",
       "      <th></th>\n",
       "      <th>Zone</th>\n",
       "      <th>2000</th>\n",
       "      <th>2001</th>\n",
       "      <th>2002</th>\n",
       "      <th>2003</th>\n",
       "      <th>2004</th>\n",
       "      <th>2005</th>\n",
       "      <th>2006</th>\n",
       "      <th>2007</th>\n",
       "      <th>2008</th>\n",
       "      <th>2009</th>\n",
       "      <th>2010</th>\n",
       "      <th>2011</th>\n",
       "      <th>2012</th>\n",
       "      <th>2013</th>\n",
       "      <th>2014</th>\n",
       "      <th>2015</th>\n",
       "      <th>2016</th>\n",
       "      <th>2017</th>\n",
       "      <th>2018</th>\n",
       "    </tr>\n",
       "  </thead>\n",
       "  <tbody>\n",
       "    <tr>\n",
       "      <th>0</th>\n",
       "      <td>Afghanistan</td>\n",
       "      <td>20779.95</td>\n",
       "      <td>21606.99</td>\n",
       "      <td>22600.77</td>\n",
       "      <td>23680.87</td>\n",
       "      <td>24726.68</td>\n",
       "      <td>25654.28</td>\n",
       "      <td>26433.05</td>\n",
       "      <td>27100.54</td>\n",
       "      <td>27722.28</td>\n",
       "      <td>28394.81</td>\n",
       "      <td>29185.51</td>\n",
       "      <td>30117.41</td>\n",
       "      <td>31161.38</td>\n",
       "      <td>32269.59</td>\n",
       "      <td>33370.79</td>\n",
       "      <td>34413.60</td>\n",
       "      <td>35383.03</td>\n",
       "      <td>36296.11</td>\n",
       "      <td>37171.92</td>\n",
       "    </tr>\n",
       "    <tr>\n",
       "      <th>1</th>\n",
       "      <td>Afrique du Sud</td>\n",
       "      <td>44967.71</td>\n",
       "      <td>45571.27</td>\n",
       "      <td>46150.91</td>\n",
       "      <td>46719.20</td>\n",
       "      <td>47291.61</td>\n",
       "      <td>47880.60</td>\n",
       "      <td>48489.46</td>\n",
       "      <td>49119.76</td>\n",
       "      <td>49779.47</td>\n",
       "      <td>50477.01</td>\n",
       "      <td>51216.96</td>\n",
       "      <td>52003.75</td>\n",
       "      <td>52832.66</td>\n",
       "      <td>53687.12</td>\n",
       "      <td>54544.19</td>\n",
       "      <td>55386.37</td>\n",
       "      <td>56207.65</td>\n",
       "      <td>57009.76</td>\n",
       "      <td>57792.52</td>\n",
       "    </tr>\n",
       "    <tr>\n",
       "      <th>2</th>\n",
       "      <td>Albanie</td>\n",
       "      <td>3129.24</td>\n",
       "      <td>3129.70</td>\n",
       "      <td>3126.19</td>\n",
       "      <td>3118.02</td>\n",
       "      <td>3104.89</td>\n",
       "      <td>3086.81</td>\n",
       "      <td>3063.02</td>\n",
       "      <td>3034.00</td>\n",
       "      <td>3002.68</td>\n",
       "      <td>2973.05</td>\n",
       "      <td>2948.02</td>\n",
       "      <td>2928.59</td>\n",
       "      <td>2914.10</td>\n",
       "      <td>2903.79</td>\n",
       "      <td>2896.30</td>\n",
       "      <td>2890.51</td>\n",
       "      <td>2886.44</td>\n",
       "      <td>2884.17</td>\n",
       "      <td>2882.74</td>\n",
       "    </tr>\n",
       "    <tr>\n",
       "      <th>3</th>\n",
       "      <td>Algérie</td>\n",
       "      <td>31042.24</td>\n",
       "      <td>31451.51</td>\n",
       "      <td>31855.11</td>\n",
       "      <td>32264.16</td>\n",
       "      <td>32692.16</td>\n",
       "      <td>33149.72</td>\n",
       "      <td>33641.00</td>\n",
       "      <td>34166.97</td>\n",
       "      <td>34730.61</td>\n",
       "      <td>35333.88</td>\n",
       "      <td>35977.46</td>\n",
       "      <td>36661.44</td>\n",
       "      <td>37383.89</td>\n",
       "      <td>38140.13</td>\n",
       "      <td>38923.69</td>\n",
       "      <td>39728.03</td>\n",
       "      <td>40551.39</td>\n",
       "      <td>41389.19</td>\n",
       "      <td>42228.41</td>\n",
       "    </tr>\n",
       "    <tr>\n",
       "      <th>4</th>\n",
       "      <td>Allemagne</td>\n",
       "      <td>81400.88</td>\n",
       "      <td>81453.88</td>\n",
       "      <td>81535.12</td>\n",
       "      <td>81614.38</td>\n",
       "      <td>81646.47</td>\n",
       "      <td>81602.74</td>\n",
       "      <td>81472.23</td>\n",
       "      <td>81277.83</td>\n",
       "      <td>81065.75</td>\n",
       "      <td>80899.96</td>\n",
       "      <td>80827.00</td>\n",
       "      <td>80855.63</td>\n",
       "      <td>80972.63</td>\n",
       "      <td>81174.37</td>\n",
       "      <td>81450.38</td>\n",
       "      <td>81787.41</td>\n",
       "      <td>82193.77</td>\n",
       "      <td>82658.41</td>\n",
       "      <td>83124.42</td>\n",
       "    </tr>\n",
       "  </tbody>\n",
       "</table>\n",
       "</div>"
      ],
      "text/plain": [
       "             Zone     2000     2001     2002     2003     2004     2005  \\\n",
       "0     Afghanistan 20779.95 21606.99 22600.77 23680.87 24726.68 25654.28   \n",
       "1  Afrique du Sud 44967.71 45571.27 46150.91 46719.20 47291.61 47880.60   \n",
       "2         Albanie  3129.24  3129.70  3126.19  3118.02  3104.89  3086.81   \n",
       "3         Algérie 31042.24 31451.51 31855.11 32264.16 32692.16 33149.72   \n",
       "4       Allemagne 81400.88 81453.88 81535.12 81614.38 81646.47 81602.74   \n",
       "\n",
       "      2006     2007     2008     2009     2010     2011     2012     2013  \\\n",
       "0 26433.05 27100.54 27722.28 28394.81 29185.51 30117.41 31161.38 32269.59   \n",
       "1 48489.46 49119.76 49779.47 50477.01 51216.96 52003.75 52832.66 53687.12   \n",
       "2  3063.02  3034.00  3002.68  2973.05  2948.02  2928.59  2914.10  2903.79   \n",
       "3 33641.00 34166.97 34730.61 35333.88 35977.46 36661.44 37383.89 38140.13   \n",
       "4 81472.23 81277.83 81065.75 80899.96 80827.00 80855.63 80972.63 81174.37   \n",
       "\n",
       "      2014     2015     2016     2017     2018  \n",
       "0 33370.79 34413.60 35383.03 36296.11 37171.92  \n",
       "1 54544.19 55386.37 56207.65 57009.76 57792.52  \n",
       "2  2896.30  2890.51  2886.44  2884.17  2882.74  \n",
       "3 38923.69 39728.03 40551.39 41389.19 42228.41  \n",
       "4 81450.38 81787.41 82193.77 82658.41 83124.42  "
      ]
     },
     "execution_count": 566,
     "metadata": {},
     "output_type": "execute_result"
    }
   ],
   "source": [
    "population.head()"
   ]
  },
  {
   "cell_type": "markdown",
   "id": "04966f85",
   "metadata": {},
   "source": [
    "On ne garde que la population de 2017"
   ]
  },
  {
   "cell_type": "code",
   "execution_count": 567,
   "id": "d976038e",
   "metadata": {},
   "outputs": [],
   "source": [
    "population = population[[\"Zone\",\"2017\"]]"
   ]
  },
  {
   "cell_type": "markdown",
   "id": "12b2319d",
   "metadata": {},
   "source": [
    "On vérifie"
   ]
  },
  {
   "cell_type": "code",
   "execution_count": 568,
   "id": "f1e6c16d",
   "metadata": {},
   "outputs": [
    {
     "data": {
      "text/html": [
       "<div>\n",
       "<style scoped>\n",
       "    .dataframe tbody tr th:only-of-type {\n",
       "        vertical-align: middle;\n",
       "    }\n",
       "\n",
       "    .dataframe tbody tr th {\n",
       "        vertical-align: top;\n",
       "    }\n",
       "\n",
       "    .dataframe thead th {\n",
       "        text-align: right;\n",
       "    }\n",
       "</style>\n",
       "<table border=\"1\" class=\"dataframe\">\n",
       "  <thead>\n",
       "    <tr style=\"text-align: right;\">\n",
       "      <th></th>\n",
       "      <th>Zone</th>\n",
       "      <th>2017</th>\n",
       "    </tr>\n",
       "  </thead>\n",
       "  <tbody>\n",
       "    <tr>\n",
       "      <th>0</th>\n",
       "      <td>Afghanistan</td>\n",
       "      <td>36296.11</td>\n",
       "    </tr>\n",
       "    <tr>\n",
       "      <th>1</th>\n",
       "      <td>Afrique du Sud</td>\n",
       "      <td>57009.76</td>\n",
       "    </tr>\n",
       "    <tr>\n",
       "      <th>2</th>\n",
       "      <td>Albanie</td>\n",
       "      <td>2884.17</td>\n",
       "    </tr>\n",
       "    <tr>\n",
       "      <th>3</th>\n",
       "      <td>Algérie</td>\n",
       "      <td>41389.19</td>\n",
       "    </tr>\n",
       "    <tr>\n",
       "      <th>4</th>\n",
       "      <td>Allemagne</td>\n",
       "      <td>82658.41</td>\n",
       "    </tr>\n",
       "  </tbody>\n",
       "</table>\n",
       "</div>"
      ],
      "text/plain": [
       "             Zone     2017\n",
       "0     Afghanistan 36296.11\n",
       "1  Afrique du Sud 57009.76\n",
       "2         Albanie  2884.17\n",
       "3         Algérie 41389.19\n",
       "4       Allemagne 82658.41"
      ]
     },
     "execution_count": 568,
     "metadata": {},
     "output_type": "execute_result"
    }
   ],
   "source": [
    "population.head()"
   ]
  },
  {
   "cell_type": "markdown",
   "id": "96f41742",
   "metadata": {},
   "source": [
    "On cherche les valeurs nulles"
   ]
  },
  {
   "cell_type": "code",
   "execution_count": 569,
   "id": "39349f0f",
   "metadata": {},
   "outputs": [
    {
     "data": {
      "text/html": [
       "<div>\n",
       "<style scoped>\n",
       "    .dataframe tbody tr th:only-of-type {\n",
       "        vertical-align: middle;\n",
       "    }\n",
       "\n",
       "    .dataframe tbody tr th {\n",
       "        vertical-align: top;\n",
       "    }\n",
       "\n",
       "    .dataframe thead th {\n",
       "        text-align: right;\n",
       "    }\n",
       "</style>\n",
       "<table border=\"1\" class=\"dataframe\">\n",
       "  <thead>\n",
       "    <tr style=\"text-align: right;\">\n",
       "      <th></th>\n",
       "      <th>Zone</th>\n",
       "      <th>2017</th>\n",
       "    </tr>\n",
       "  </thead>\n",
       "  <tbody>\n",
       "    <tr>\n",
       "      <th>182</th>\n",
       "      <td>Serbie-et-Monténégro</td>\n",
       "      <td>NaN</td>\n",
       "    </tr>\n",
       "    <tr>\n",
       "      <th>191</th>\n",
       "      <td>Soudan (ex)</td>\n",
       "      <td>NaN</td>\n",
       "    </tr>\n",
       "  </tbody>\n",
       "</table>\n",
       "</div>"
      ],
      "text/plain": [
       "                     Zone  2017\n",
       "182  Serbie-et-Monténégro   NaN\n",
       "191           Soudan (ex)   NaN"
      ]
     },
     "execution_count": 569,
     "metadata": {},
     "output_type": "execute_result"
    }
   ],
   "source": [
    "population[population.isnull().any(axis=1)]"
   ]
  },
  {
   "cell_type": "markdown",
   "id": "d29fe43b",
   "metadata": {},
   "source": [
    "Après quelques recherche, on peut dropper ces deux pays. La Serbie et Monténégro a fait l'objet d'une scission après un référendum, quant au Soudan: il a été remplacé en 2011 par le Soudan et le Soudan du sud qui sont présents séparéments, on peut supprimer ces lignes avec la méthode .dropna()"
   ]
  },
  {
   "cell_type": "code",
   "execution_count": 570,
   "id": "30e36c77",
   "metadata": {},
   "outputs": [],
   "source": [
    "population= population.dropna()"
   ]
  },
  {
   "cell_type": "markdown",
   "id": "4d7534e8",
   "metadata": {},
   "source": [
    "On vérifie"
   ]
  },
  {
   "cell_type": "code",
   "execution_count": 571,
   "id": "f51933cd",
   "metadata": {},
   "outputs": [
    {
     "data": {
      "text/html": [
       "<div>\n",
       "<style scoped>\n",
       "    .dataframe tbody tr th:only-of-type {\n",
       "        vertical-align: middle;\n",
       "    }\n",
       "\n",
       "    .dataframe tbody tr th {\n",
       "        vertical-align: top;\n",
       "    }\n",
       "\n",
       "    .dataframe thead th {\n",
       "        text-align: right;\n",
       "    }\n",
       "</style>\n",
       "<table border=\"1\" class=\"dataframe\">\n",
       "  <thead>\n",
       "    <tr style=\"text-align: right;\">\n",
       "      <th></th>\n",
       "      <th>Zone</th>\n",
       "      <th>2017</th>\n",
       "    </tr>\n",
       "  </thead>\n",
       "  <tbody>\n",
       "  </tbody>\n",
       "</table>\n",
       "</div>"
      ],
      "text/plain": [
       "Empty DataFrame\n",
       "Columns: [Zone, 2017]\n",
       "Index: []"
      ]
     },
     "execution_count": 571,
     "metadata": {},
     "output_type": "execute_result"
    }
   ],
   "source": [
    "population[population.isnull().any(axis=1)]"
   ]
  },
  {
   "cell_type": "markdown",
   "id": "0ef23518",
   "metadata": {},
   "source": [
    "# Jointure des df \"tableau\" et \"population\""
   ]
  },
  {
   "cell_type": "code",
   "execution_count": 572,
   "id": "f0f85885",
   "metadata": {},
   "outputs": [],
   "source": [
    "tableau= pd.merge(tableau, population, on='Zone', how='left')"
   ]
  },
  {
   "cell_type": "code",
   "execution_count": 573,
   "id": "482fb7c0",
   "metadata": {},
   "outputs": [
    {
     "data": {
      "text/html": [
       "<div>\n",
       "<style scoped>\n",
       "    .dataframe tbody tr th:only-of-type {\n",
       "        vertical-align: middle;\n",
       "    }\n",
       "\n",
       "    .dataframe tbody tr th {\n",
       "        vertical-align: top;\n",
       "    }\n",
       "\n",
       "    .dataframe thead th {\n",
       "        text-align: right;\n",
       "    }\n",
       "</style>\n",
       "<table border=\"1\" class=\"dataframe\">\n",
       "  <thead>\n",
       "    <tr style=\"text-align: right;\">\n",
       "      <th></th>\n",
       "      <th>Zone</th>\n",
       "      <th>Disponibilité alimentaire en quantité (kg/personne/an)</th>\n",
       "      <th>Disponibilité alimentaire en quantité (kg/personne/an) (VOLAILLES)</th>\n",
       "      <th>2017</th>\n",
       "    </tr>\n",
       "  </thead>\n",
       "  <tbody>\n",
       "    <tr>\n",
       "      <th>0</th>\n",
       "      <td>Afghanistan</td>\n",
       "      <td>357.31</td>\n",
       "      <td>1.53</td>\n",
       "      <td>36296.11</td>\n",
       "    </tr>\n",
       "    <tr>\n",
       "      <th>1</th>\n",
       "      <td>Afrique du Sud</td>\n",
       "      <td>556.42</td>\n",
       "      <td>35.69</td>\n",
       "      <td>57009.76</td>\n",
       "    </tr>\n",
       "    <tr>\n",
       "      <th>2</th>\n",
       "      <td>Albanie</td>\n",
       "      <td>1260.49</td>\n",
       "      <td>16.36</td>\n",
       "      <td>2884.17</td>\n",
       "    </tr>\n",
       "    <tr>\n",
       "      <th>3</th>\n",
       "      <td>Algérie</td>\n",
       "      <td>798.71</td>\n",
       "      <td>6.38</td>\n",
       "      <td>41389.19</td>\n",
       "    </tr>\n",
       "    <tr>\n",
       "      <th>4</th>\n",
       "      <td>Allemagne</td>\n",
       "      <td>943.24</td>\n",
       "      <td>19.47</td>\n",
       "      <td>82658.41</td>\n",
       "    </tr>\n",
       "  </tbody>\n",
       "</table>\n",
       "</div>"
      ],
      "text/plain": [
       "             Zone  Disponibilité alimentaire en quantité (kg/personne/an)  \\\n",
       "0     Afghanistan                                             357.31        \n",
       "1  Afrique du Sud                                             556.42        \n",
       "2         Albanie                                            1260.49        \n",
       "3         Algérie                                             798.71        \n",
       "4       Allemagne                                             943.24        \n",
       "\n",
       "   Disponibilité alimentaire en quantité (kg/personne/an) (VOLAILLES)     2017  \n",
       "0                                               1.53                  36296.11  \n",
       "1                                              35.69                  57009.76  \n",
       "2                                              16.36                   2884.17  \n",
       "3                                               6.38                  41389.19  \n",
       "4                                              19.47                  82658.41  "
      ]
     },
     "execution_count": 573,
     "metadata": {},
     "output_type": "execute_result"
    }
   ],
   "source": [
    "tableau.head()"
   ]
  },
  {
   "cell_type": "code",
   "execution_count": 574,
   "id": "4ba39481",
   "metadata": {},
   "outputs": [
    {
     "name": "stdout",
     "output_type": "stream",
     "text": [
      "<class 'pandas.core.frame.DataFrame'>\n",
      "Int64Index: 172 entries, 0 to 171\n",
      "Data columns (total 4 columns):\n",
      " #   Column                                                              Non-Null Count  Dtype  \n",
      "---  ------                                                              --------------  -----  \n",
      " 0   Zone                                                                172 non-null    object \n",
      " 1   Disponibilité alimentaire en quantité (kg/personne/an)              172 non-null    float64\n",
      " 2   Disponibilité alimentaire en quantité (kg/personne/an) (VOLAILLES)  172 non-null    float64\n",
      " 3   2017                                                                172 non-null    float64\n",
      "dtypes: float64(3), object(1)\n",
      "memory usage: 6.7+ KB\n"
     ]
    }
   ],
   "source": [
    "tableau.info()"
   ]
  },
  {
   "cell_type": "markdown",
   "id": "70fb41a5",
   "metadata": {},
   "source": [
    "# Renommage des colonnes"
   ]
  },
  {
   "cell_type": "markdown",
   "id": "dae4624d",
   "metadata": {},
   "source": [
    "Etant donné qu'on analysera aussi les liens entre les variables par le biais d'un cercle des corrélations autant améliorer de façon anticipée la lisibilité d'une telle visualisation en abrégeant le nom de nos colonnes."
   ]
  },
  {
   "cell_type": "code",
   "execution_count": 575,
   "id": "93420079",
   "metadata": {},
   "outputs": [],
   "source": [
    "tableau= tableau.rename(columns = {\n",
    "    \"Disponibilité alimentaire en quantité (kg/personne/an)\":\"Dsp. Alim. (kg/p/an)\",\n",
    "    \"Disponibilité alimentaire en quantité (kg/personne/an) (VOLAILLES)\":\"Dsp. Alim. Vol. (kg/p/an)\",\n",
    "    \"2017\":\"Pop. ( en milliers)\"\n",
    "})"
   ]
  },
  {
   "cell_type": "code",
   "execution_count": 576,
   "id": "54f65c37",
   "metadata": {},
   "outputs": [
    {
     "data": {
      "text/html": [
       "<div>\n",
       "<style scoped>\n",
       "    .dataframe tbody tr th:only-of-type {\n",
       "        vertical-align: middle;\n",
       "    }\n",
       "\n",
       "    .dataframe tbody tr th {\n",
       "        vertical-align: top;\n",
       "    }\n",
       "\n",
       "    .dataframe thead th {\n",
       "        text-align: right;\n",
       "    }\n",
       "</style>\n",
       "<table border=\"1\" class=\"dataframe\">\n",
       "  <thead>\n",
       "    <tr style=\"text-align: right;\">\n",
       "      <th></th>\n",
       "      <th>Zone</th>\n",
       "      <th>Dsp. Alim. (kg/p/an)</th>\n",
       "      <th>Dsp. Alim. Vol. (kg/p/an)</th>\n",
       "      <th>Pop. ( en milliers)</th>\n",
       "    </tr>\n",
       "  </thead>\n",
       "  <tbody>\n",
       "    <tr>\n",
       "      <th>0</th>\n",
       "      <td>Afghanistan</td>\n",
       "      <td>357.31</td>\n",
       "      <td>1.53</td>\n",
       "      <td>36296.11</td>\n",
       "    </tr>\n",
       "    <tr>\n",
       "      <th>1</th>\n",
       "      <td>Afrique du Sud</td>\n",
       "      <td>556.42</td>\n",
       "      <td>35.69</td>\n",
       "      <td>57009.76</td>\n",
       "    </tr>\n",
       "    <tr>\n",
       "      <th>2</th>\n",
       "      <td>Albanie</td>\n",
       "      <td>1260.49</td>\n",
       "      <td>16.36</td>\n",
       "      <td>2884.17</td>\n",
       "    </tr>\n",
       "    <tr>\n",
       "      <th>3</th>\n",
       "      <td>Algérie</td>\n",
       "      <td>798.71</td>\n",
       "      <td>6.38</td>\n",
       "      <td>41389.19</td>\n",
       "    </tr>\n",
       "    <tr>\n",
       "      <th>4</th>\n",
       "      <td>Allemagne</td>\n",
       "      <td>943.24</td>\n",
       "      <td>19.47</td>\n",
       "      <td>82658.41</td>\n",
       "    </tr>\n",
       "  </tbody>\n",
       "</table>\n",
       "</div>"
      ],
      "text/plain": [
       "             Zone  Dsp. Alim. (kg/p/an)  Dsp. Alim. Vol. (kg/p/an)  \\\n",
       "0     Afghanistan                357.31                       1.53   \n",
       "1  Afrique du Sud                556.42                      35.69   \n",
       "2         Albanie               1260.49                      16.36   \n",
       "3         Algérie                798.71                       6.38   \n",
       "4       Allemagne                943.24                      19.47   \n",
       "\n",
       "   Pop. ( en milliers)  \n",
       "0             36296.11  \n",
       "1             57009.76  \n",
       "2              2884.17  \n",
       "3             41389.19  \n",
       "4             82658.41  "
      ]
     },
     "execution_count": 576,
     "metadata": {},
     "output_type": "execute_result"
    }
   ],
   "source": [
    "tableau.head()"
   ]
  },
  {
   "cell_type": "markdown",
   "id": "7a58ed45",
   "metadata": {},
   "source": [
    "# Conversion des valeurs des colonnes "
   ]
  },
  {
   "cell_type": "markdown",
   "id": "6868c591",
   "metadata": {},
   "source": [
    "On va dans cette partie convertir la taille population pour ce débarrasser de son expression en milliers d'habitant, on va exprimer la disponibilité alimentaire en To/an et faire de même pour la disponibilité alimentaire de viande de volailles."
   ]
  },
  {
   "cell_type": "markdown",
   "id": "0e203a7b",
   "metadata": {},
   "source": [
    "### Colonne population"
   ]
  },
  {
   "cell_type": "code",
   "execution_count": 577,
   "id": "22ab3101",
   "metadata": {},
   "outputs": [],
   "source": [
    "tableau[\"Pop.\"]= tableau[\"Pop. ( en milliers)\"]*1000"
   ]
  },
  {
   "cell_type": "markdown",
   "id": "76b1b4cc",
   "metadata": {},
   "source": [
    "### Colonne Dsp. Alim. (kg/p/an)"
   ]
  },
  {
   "cell_type": "code",
   "execution_count": 578,
   "id": "94dbef26",
   "metadata": {},
   "outputs": [],
   "source": [
    "tableau[\"Dsp. Alim. (To/an)\"]=(tableau[\"Dsp. Alim. (kg/p/an)\"]* tableau[\"Pop.\"])/1000"
   ]
  },
  {
   "cell_type": "markdown",
   "id": "f8692cc3",
   "metadata": {},
   "source": [
    "### Colonne Dsp. Alim. Vol. (kg/p/an)"
   ]
  },
  {
   "cell_type": "code",
   "execution_count": 579,
   "id": "c10a1fe0",
   "metadata": {},
   "outputs": [],
   "source": [
    "tableau[\"Dsp. Alim. Vol.(To/an)\"]=(tableau[\"Dsp. Alim. Vol. (kg/p/an)\"]* tableau[\"Pop.\"])/1000"
   ]
  },
  {
   "cell_type": "markdown",
   "id": "bff0917c",
   "metadata": {},
   "source": [
    "On vérifie ces changements."
   ]
  },
  {
   "cell_type": "code",
   "execution_count": 580,
   "id": "150bbd58",
   "metadata": {},
   "outputs": [
    {
     "data": {
      "text/html": [
       "<div>\n",
       "<style scoped>\n",
       "    .dataframe tbody tr th:only-of-type {\n",
       "        vertical-align: middle;\n",
       "    }\n",
       "\n",
       "    .dataframe tbody tr th {\n",
       "        vertical-align: top;\n",
       "    }\n",
       "\n",
       "    .dataframe thead th {\n",
       "        text-align: right;\n",
       "    }\n",
       "</style>\n",
       "<table border=\"1\" class=\"dataframe\">\n",
       "  <thead>\n",
       "    <tr style=\"text-align: right;\">\n",
       "      <th></th>\n",
       "      <th>Zone</th>\n",
       "      <th>Dsp. Alim. (kg/p/an)</th>\n",
       "      <th>Dsp. Alim. Vol. (kg/p/an)</th>\n",
       "      <th>Pop. ( en milliers)</th>\n",
       "      <th>Pop.</th>\n",
       "      <th>Dsp. Alim. (To/an)</th>\n",
       "      <th>Dsp. Alim. Vol.(To/an)</th>\n",
       "    </tr>\n",
       "  </thead>\n",
       "  <tbody>\n",
       "    <tr>\n",
       "      <th>0</th>\n",
       "      <td>Afghanistan</td>\n",
       "      <td>357.31</td>\n",
       "      <td>1.53</td>\n",
       "      <td>36296.11</td>\n",
       "      <td>36296113.00</td>\n",
       "      <td>12968964.14</td>\n",
       "      <td>55533.05</td>\n",
       "    </tr>\n",
       "    <tr>\n",
       "      <th>1</th>\n",
       "      <td>Afrique du Sud</td>\n",
       "      <td>556.42</td>\n",
       "      <td>35.69</td>\n",
       "      <td>57009.76</td>\n",
       "      <td>57009756.00</td>\n",
       "      <td>31721368.43</td>\n",
       "      <td>2034678.19</td>\n",
       "    </tr>\n",
       "    <tr>\n",
       "      <th>2</th>\n",
       "      <td>Albanie</td>\n",
       "      <td>1260.49</td>\n",
       "      <td>16.36</td>\n",
       "      <td>2884.17</td>\n",
       "      <td>2884169.00</td>\n",
       "      <td>3635466.18</td>\n",
       "      <td>47185.00</td>\n",
       "    </tr>\n",
       "    <tr>\n",
       "      <th>3</th>\n",
       "      <td>Algérie</td>\n",
       "      <td>798.71</td>\n",
       "      <td>6.38</td>\n",
       "      <td>41389.19</td>\n",
       "      <td>41389189.00</td>\n",
       "      <td>33057959.15</td>\n",
       "      <td>264063.03</td>\n",
       "    </tr>\n",
       "    <tr>\n",
       "      <th>4</th>\n",
       "      <td>Allemagne</td>\n",
       "      <td>943.24</td>\n",
       "      <td>19.47</td>\n",
       "      <td>82658.41</td>\n",
       "      <td>82658409.00</td>\n",
       "      <td>77966717.71</td>\n",
       "      <td>1609359.22</td>\n",
       "    </tr>\n",
       "  </tbody>\n",
       "</table>\n",
       "</div>"
      ],
      "text/plain": [
       "             Zone  Dsp. Alim. (kg/p/an)  Dsp. Alim. Vol. (kg/p/an)  \\\n",
       "0     Afghanistan                357.31                       1.53   \n",
       "1  Afrique du Sud                556.42                      35.69   \n",
       "2         Albanie               1260.49                      16.36   \n",
       "3         Algérie                798.71                       6.38   \n",
       "4       Allemagne                943.24                      19.47   \n",
       "\n",
       "   Pop. ( en milliers)        Pop.  Dsp. Alim. (To/an)  Dsp. Alim. Vol.(To/an)  \n",
       "0             36296.11 36296113.00         12968964.14                55533.05  \n",
       "1             57009.76 57009756.00         31721368.43              2034678.19  \n",
       "2              2884.17  2884169.00          3635466.18                47185.00  \n",
       "3             41389.19 41389189.00         33057959.15               264063.03  \n",
       "4             82658.41 82658409.00         77966717.71              1609359.22  "
      ]
     },
     "execution_count": 580,
     "metadata": {},
     "output_type": "execute_result"
    }
   ],
   "source": [
    "tableau.head()"
   ]
  },
  {
   "cell_type": "markdown",
   "id": "43d020d3",
   "metadata": {},
   "source": [
    "Et on supprime les colonnes inutiles:"
   ]
  },
  {
   "cell_type": "code",
   "execution_count": 581,
   "id": "8643af19",
   "metadata": {},
   "outputs": [],
   "source": [
    "tableau = tableau.drop([\"Dsp. Alim. (kg/p/an)\",\n",
    "                        \"Dsp. Alim. Vol. (kg/p/an)\", \n",
    "                        \"Pop. ( en milliers)\"], axis=1)"
   ]
  },
  {
   "cell_type": "markdown",
   "id": "873e1f97",
   "metadata": {},
   "source": [
    "On vérifie"
   ]
  },
  {
   "cell_type": "code",
   "execution_count": 582,
   "id": "c732d3e0",
   "metadata": {},
   "outputs": [
    {
     "data": {
      "text/html": [
       "<div>\n",
       "<style scoped>\n",
       "    .dataframe tbody tr th:only-of-type {\n",
       "        vertical-align: middle;\n",
       "    }\n",
       "\n",
       "    .dataframe tbody tr th {\n",
       "        vertical-align: top;\n",
       "    }\n",
       "\n",
       "    .dataframe thead th {\n",
       "        text-align: right;\n",
       "    }\n",
       "</style>\n",
       "<table border=\"1\" class=\"dataframe\">\n",
       "  <thead>\n",
       "    <tr style=\"text-align: right;\">\n",
       "      <th></th>\n",
       "      <th>Zone</th>\n",
       "      <th>Pop.</th>\n",
       "      <th>Dsp. Alim. (To/an)</th>\n",
       "      <th>Dsp. Alim. Vol.(To/an)</th>\n",
       "    </tr>\n",
       "  </thead>\n",
       "  <tbody>\n",
       "    <tr>\n",
       "      <th>0</th>\n",
       "      <td>Afghanistan</td>\n",
       "      <td>36296113.00</td>\n",
       "      <td>12968964.14</td>\n",
       "      <td>55533.05</td>\n",
       "    </tr>\n",
       "    <tr>\n",
       "      <th>1</th>\n",
       "      <td>Afrique du Sud</td>\n",
       "      <td>57009756.00</td>\n",
       "      <td>31721368.43</td>\n",
       "      <td>2034678.19</td>\n",
       "    </tr>\n",
       "    <tr>\n",
       "      <th>2</th>\n",
       "      <td>Albanie</td>\n",
       "      <td>2884169.00</td>\n",
       "      <td>3635466.18</td>\n",
       "      <td>47185.00</td>\n",
       "    </tr>\n",
       "    <tr>\n",
       "      <th>3</th>\n",
       "      <td>Algérie</td>\n",
       "      <td>41389189.00</td>\n",
       "      <td>33057959.15</td>\n",
       "      <td>264063.03</td>\n",
       "    </tr>\n",
       "    <tr>\n",
       "      <th>4</th>\n",
       "      <td>Allemagne</td>\n",
       "      <td>82658409.00</td>\n",
       "      <td>77966717.71</td>\n",
       "      <td>1609359.22</td>\n",
       "    </tr>\n",
       "  </tbody>\n",
       "</table>\n",
       "</div>"
      ],
      "text/plain": [
       "             Zone        Pop.  Dsp. Alim. (To/an)  Dsp. Alim. Vol.(To/an)\n",
       "0     Afghanistan 36296113.00         12968964.14                55533.05\n",
       "1  Afrique du Sud 57009756.00         31721368.43              2034678.19\n",
       "2         Albanie  2884169.00          3635466.18                47185.00\n",
       "3         Algérie 41389189.00         33057959.15               264063.03\n",
       "4       Allemagne 82658409.00         77966717.71              1609359.22"
      ]
     },
     "execution_count": 582,
     "metadata": {},
     "output_type": "execute_result"
    }
   ],
   "source": [
    "tableau.head()"
   ]
  },
  {
   "cell_type": "code",
   "execution_count": 583,
   "id": "a433aeef",
   "metadata": {
    "scrolled": true
   },
   "outputs": [
    {
     "data": {
      "text/html": [
       "<div>\n",
       "<style scoped>\n",
       "    .dataframe tbody tr th:only-of-type {\n",
       "        vertical-align: middle;\n",
       "    }\n",
       "\n",
       "    .dataframe tbody tr th {\n",
       "        vertical-align: top;\n",
       "    }\n",
       "\n",
       "    .dataframe thead th {\n",
       "        text-align: right;\n",
       "    }\n",
       "</style>\n",
       "<table border=\"1\" class=\"dataframe\">\n",
       "  <thead>\n",
       "    <tr style=\"text-align: right;\">\n",
       "      <th></th>\n",
       "      <th>Pop.</th>\n",
       "      <th>Dsp. Alim. (To/an)</th>\n",
       "      <th>Dsp. Alim. Vol.(To/an)</th>\n",
       "    </tr>\n",
       "  </thead>\n",
       "  <tbody>\n",
       "    <tr>\n",
       "      <th>count</th>\n",
       "      <td>172.00</td>\n",
       "      <td>172.00</td>\n",
       "      <td>172.00</td>\n",
       "    </tr>\n",
       "    <tr>\n",
       "      <th>mean</th>\n",
       "      <td>42841754.67</td>\n",
       "      <td>30675492.67</td>\n",
       "      <td>650263.12</td>\n",
       "    </tr>\n",
       "    <tr>\n",
       "      <th>std</th>\n",
       "      <td>153063712.47</td>\n",
       "      <td>121354476.96</td>\n",
       "      <td>2125177.76</td>\n",
       "    </tr>\n",
       "    <tr>\n",
       "      <th>min</th>\n",
       "      <td>52045.00</td>\n",
       "      <td>27446.97</td>\n",
       "      <td>1961.13</td>\n",
       "    </tr>\n",
       "    <tr>\n",
       "      <th>25%</th>\n",
       "      <td>2874480.25</td>\n",
       "      <td>1890171.72</td>\n",
       "      <td>29202.30</td>\n",
       "    </tr>\n",
       "    <tr>\n",
       "      <th>50%</th>\n",
       "      <td>9757833.00</td>\n",
       "      <td>6404909.64</td>\n",
       "      <td>94603.90</td>\n",
       "    </tr>\n",
       "    <tr>\n",
       "      <th>75%</th>\n",
       "      <td>30138736.00</td>\n",
       "      <td>18330259.33</td>\n",
       "      <td>353755.57</td>\n",
       "    </tr>\n",
       "    <tr>\n",
       "      <th>max</th>\n",
       "      <td>1421021791.00</td>\n",
       "      <td>1376288025.02</td>\n",
       "      <td>18100719.21</td>\n",
       "    </tr>\n",
       "  </tbody>\n",
       "</table>\n",
       "</div>"
      ],
      "text/plain": [
       "               Pop.  Dsp. Alim. (To/an)  Dsp. Alim. Vol.(To/an)\n",
       "count        172.00              172.00                  172.00\n",
       "mean    42841754.67         30675492.67               650263.12\n",
       "std    153063712.47        121354476.96              2125177.76\n",
       "min        52045.00            27446.97                 1961.13\n",
       "25%      2874480.25          1890171.72                29202.30\n",
       "50%      9757833.00          6404909.64                94603.90\n",
       "75%     30138736.00         18330259.33               353755.57\n",
       "max   1421021791.00       1376288025.02             18100719.21"
      ]
     },
     "execution_count": 583,
     "metadata": {},
     "output_type": "execute_result"
    }
   ],
   "source": [
    "tableau.describe()"
   ]
  },
  {
   "cell_type": "markdown",
   "id": "dc1bdee3",
   "metadata": {},
   "source": [
    "# Essai de réalisation d'une classification ascendante hiérarchique"
   ]
  },
  {
   "cell_type": "code",
   "execution_count": 584,
   "id": "a29e3115",
   "metadata": {},
   "outputs": [],
   "source": [
    "import matplotlib.pyplot as plt\n",
    "from scipy.cluster.hierarchy import dendrogram, linkage"
   ]
  },
  {
   "cell_type": "markdown",
   "id": "982ab5d7",
   "metadata": {},
   "source": [
    "On place la colone \"Zone\" en index étant donné qu'il ne s'agit pas d'une valeur numérique."
   ]
  },
  {
   "cell_type": "code",
   "execution_count": 585,
   "id": "00c9db2d",
   "metadata": {},
   "outputs": [],
   "source": [
    "tableau.set_index(\"Zone\",inplace=True)"
   ]
  },
  {
   "cell_type": "markdown",
   "id": "99ea9744",
   "metadata": {},
   "source": [
    "On enregistre les valeurs de notre df dans une variable X ces dernieres devraient prendre la forme d'un array numpy"
   ]
  },
  {
   "cell_type": "code",
   "execution_count": 586,
   "id": "a4389b2c",
   "metadata": {},
   "outputs": [],
   "source": [
    "X= tableau.values"
   ]
  },
  {
   "cell_type": "markdown",
   "id": "35436091",
   "metadata": {},
   "source": [
    "On vérifie en tentant d'afficher les cinq premières lignes de notre array "
   ]
  },
  {
   "cell_type": "code",
   "execution_count": 587,
   "id": "44905bd0",
   "metadata": {},
   "outputs": [
    {
     "data": {
      "text/plain": [
       "array([[3.62961130e+07, 1.29689641e+07, 5.55330529e+04],\n",
       "       [5.70097560e+07, 3.17213684e+07, 2.03467819e+06],\n",
       "       [2.88416900e+06, 3.63546618e+06, 4.71850048e+04],\n",
       "       [4.13891890e+07, 3.30579591e+07, 2.64063026e+05],\n",
       "       [8.26584090e+07, 7.79667177e+07, 1.60935922e+06]])"
      ]
     },
     "execution_count": 587,
     "metadata": {},
     "output_type": "execute_result"
    }
   ],
   "source": [
    "X[:5]"
   ]
  },
  {
   "cell_type": "markdown",
   "id": "ea06b171",
   "metadata": {},
   "source": [
    "Parfait, passons à la forme des données"
   ]
  },
  {
   "cell_type": "code",
   "execution_count": 588,
   "id": "cd8a9d1e",
   "metadata": {},
   "outputs": [
    {
     "data": {
      "text/plain": [
       "(172, 3)"
      ]
     },
     "execution_count": 588,
     "metadata": {},
     "output_type": "execute_result"
    }
   ],
   "source": [
    "X.shape"
   ]
  },
  {
   "cell_type": "markdown",
   "id": "ca279a65",
   "metadata": {},
   "source": [
    "172 lignes et 3 colonnes, passons à la CAH à proprement parler"
   ]
  },
  {
   "cell_type": "code",
   "execution_count": 589,
   "id": "9a1f0bf5",
   "metadata": {},
   "outputs": [],
   "source": [
    "from sklearn import preprocessing\n",
    "from scipy.cluster.hierarchy import linkage, fcluster, dendrogram"
   ]
  },
  {
   "cell_type": "markdown",
   "id": "a214be76",
   "metadata": {},
   "source": [
    "On a vu que nos données ne sont pas toutes exprimées par les même unité et n'ont pas les mêmes ordres de grandeurs. On va normaliser ces données afin que leurs moyennes soient égales à 0 et que leurs écarts-types soient égals à 1"
   ]
  },
  {
   "cell_type": "code",
   "execution_count": 590,
   "id": "2b11e2b6",
   "metadata": {},
   "outputs": [],
   "source": [
    "std_scale = preprocessing.StandardScaler().fit(X)\n",
    "X_scaled = std_scale.transform(X)"
   ]
  },
  {
   "cell_type": "markdown",
   "id": "3aea3f51",
   "metadata": {},
   "source": [
    "On vérifie avec la méthode .describe() en changeant momentanément nos array en df et en se concentrant sur la moyenne et l'écart type"
   ]
  },
  {
   "cell_type": "code",
   "execution_count": 591,
   "id": "f4d9763d",
   "metadata": {},
   "outputs": [
    {
     "data": {
      "text/html": [
       "<div>\n",
       "<style scoped>\n",
       "    .dataframe tbody tr th:only-of-type {\n",
       "        vertical-align: middle;\n",
       "    }\n",
       "\n",
       "    .dataframe tbody tr th {\n",
       "        vertical-align: top;\n",
       "    }\n",
       "\n",
       "    .dataframe thead th {\n",
       "        text-align: right;\n",
       "    }\n",
       "</style>\n",
       "<table border=\"1\" class=\"dataframe\">\n",
       "  <thead>\n",
       "    <tr style=\"text-align: right;\">\n",
       "      <th></th>\n",
       "      <th>0</th>\n",
       "      <th>1</th>\n",
       "      <th>2</th>\n",
       "    </tr>\n",
       "  </thead>\n",
       "  <tbody>\n",
       "    <tr>\n",
       "      <th>mean</th>\n",
       "      <td>0.00</td>\n",
       "      <td>0.00</td>\n",
       "      <td>0.00</td>\n",
       "    </tr>\n",
       "    <tr>\n",
       "      <th>std</th>\n",
       "      <td>1.00</td>\n",
       "      <td>1.00</td>\n",
       "      <td>1.00</td>\n",
       "    </tr>\n",
       "  </tbody>\n",
       "</table>\n",
       "</div>"
      ],
      "text/plain": [
       "        0    1    2\n",
       "mean 0.00 0.00 0.00\n",
       "std  1.00 1.00 1.00"
      ]
     },
     "execution_count": 591,
     "metadata": {},
     "output_type": "execute_result"
    }
   ],
   "source": [
    "index = [\"mean\", \"std\"]\n",
    "\n",
    "pd.DataFrame(X_scaled).describe().round(2).loc[index, :]"
   ]
  },
  {
   "cell_type": "markdown",
   "id": "3cf383e0",
   "metadata": {},
   "source": [
    "Parfait les écarts-types sont égaux à 1 et les moyennes sont égales à 0. Pour la prochaine étape on utilise la fonction \"linkage\" qui est une fonction de regroupement hiérarchique Python, utilisée pour créer un dendrogramme."
   ]
  },
  {
   "cell_type": "code",
   "execution_count": 592,
   "id": "e4175efa",
   "metadata": {},
   "outputs": [],
   "source": [
    "Z = linkage(X_scaled, method=\"ward\")"
   ]
  },
  {
   "cell_type": "markdown",
   "id": "5eec43be",
   "metadata": {},
   "source": [
    "L'argument \"X_scaled\" représente l'ensemble de données que l'on souhaite utiliser pour créer le dendrogramme, après avoir appliqué une mise à l'échelle (normalisation) des variables pour éviter que les variables ayant des unités de mesure différentes ne soient traitées de manière biaisée.\n",
    "\n",
    "On va utiliser le clustering de ward. Ce type de clustering permet de maximiser l'homogeneité des cluster ( en gros on cherche à minimiser la variance intraclasse, ce qui revient à maximiser la variance interclasse ) \n",
    "en somme les individus faisant partie d'un même cluster seront plus ou mois similaires "
   ]
  },
  {
   "cell_type": "code",
   "execution_count": 593,
   "id": "e23dbbb9",
   "metadata": {},
   "outputs": [
    {
     "data": {
      "image/png": "[encoded data removed]",
      "text/plain": [
       "<Figure size 1080x1440 with 1 Axes>"
      ]
     },
     "metadata": {
      "needs_background": "light"
     },
     "output_type": "display_data"
    }
   ],
   "source": [
    "## On affiche notre premier dendrogramme\n",
    "\n",
    "fig =plt.figure(figsize=(15,20))\n",
    "plt.title('Classification ascendante hierarchique', fontsize=12)\n",
    "plt.xlabel('Distance', fontsize=20)\n",
    "\n",
    "dendrogram(Z, labels = tableau.index, leaf_font_size=12, color_threshold= 7, orientation='left')\n",
    "\n",
    "plt.show()"
   ]
  },
  {
   "cell_type": "markdown",
   "id": "feddfb2a",
   "metadata": {},
   "source": [
    "Que voit-on ? \n",
    "\n",
    "On voit trois clusters principaux. Un est composé des Etats-Unis et du Brésil, un autre de la Chine continentale et de l'Inde et enfin le dernier est composé de tout les autres pays ! Je répète : Un cluster est composé de tous les autres pays.\n",
    "\n",
    "\n",
    "On voit que la distance entre ces clusters est grande. La distance entre le groupe Etat-unis/Brésil et le cluster regourpant tout les autres pays à l'exception de la Chine et de l'Inde est de presque 15.\n",
    "\n",
    "Tandis que la distance entre le groupe formé par tout les pays et les états unis\n",
    "\n",
    "Le résultat est très interessant ! Presque attendu ! Il faut se rappeler qu'on a chercher à minimiser la variance intracluster. \n",
    "\n",
    "Ce qu'il faut comprendre c'est qu'en comparaison avec L'Inde, la Chine, Les Etats Unis, et le Bresil, tout les autres pays sont plus ou moins identiques ...\n",
    "\n",
    "Pourquoi ça ?  \n",
    "\n",
    "On se rappelle que notre dataframe est composé de trois données :\n",
    "- La disponibilité alimentaire en Tonne\n",
    "- La disponibilité alimentaire en ce qui concerne la viande de volailles en Tonne \n",
    "- La population \n",
    "\n",
    "On le sait en terme de population la Chine et l'Inde tiennent le haut du podium ! On peut aussi se dire que pour ce qui est des USA ( première puissante modiale ) le marché alimentaire et sans commune mesure avec celui des autres pays \n",
    "\n",
    "Il faut se rappeler qu'on a chercher à minimiser la variance intracluster et que quand on cherche à faire ça avec des pays aussi particuliers que L'Inde, la Chine, Les Etats Unis, et le Bresil ces derniers jouent clairement le rôle d'outliers ce sont des valeurs extrèmes !  Pour gérer ce \"problème\"  on va créer un df sans inclure ces quatres pays ... On gérera plus leurs analyse plus tard .\n",
    "\n",
    "On pourrait même d'ores et déjà s'en passer en expliquant que dans ces pays: \n",
    "- la taille du marché alimentaire est énorme,\n",
    "- la taille du marché de la viande de volialle est énorme,\n",
    "- la taille de la population est énorme,\n",
    "\n",
    "La question qui sera peut être determinante est de savoir si la population est assez riche ."
   ]
  },
  {
   "cell_type": "markdown",
   "id": "23584eb8",
   "metadata": {},
   "source": [
    "On crée un subset avec nos 4 outliers."
   ]
  },
  {
   "cell_type": "code",
   "execution_count": 594,
   "id": "33c2430b",
   "metadata": {},
   "outputs": [],
   "source": [
    "# sélectionner les lignes avec les pays souhaités\n",
    "df_subset = tableau.loc[['Inde', 'Chine, continentale',\"États-Unis d'Amérique\", \"Brésil\"]]\n",
    "#\"États-Unis d'Amérique\", 'Brésil'"
   ]
  },
  {
   "cell_type": "code",
   "execution_count": 595,
   "id": "1bc05e26",
   "metadata": {},
   "outputs": [
    {
     "data": {
      "text/html": [
       "<div>\n",
       "<style scoped>\n",
       "    .dataframe tbody tr th:only-of-type {\n",
       "        vertical-align: middle;\n",
       "    }\n",
       "\n",
       "    .dataframe tbody tr th {\n",
       "        vertical-align: top;\n",
       "    }\n",
       "\n",
       "    .dataframe thead th {\n",
       "        text-align: right;\n",
       "    }\n",
       "</style>\n",
       "<table border=\"1\" class=\"dataframe\">\n",
       "  <thead>\n",
       "    <tr style=\"text-align: right;\">\n",
       "      <th></th>\n",
       "      <th>Pop.</th>\n",
       "      <th>Dsp. Alim. (To/an)</th>\n",
       "      <th>Dsp. Alim. Vol.(To/an)</th>\n",
       "    </tr>\n",
       "    <tr>\n",
       "      <th>Zone</th>\n",
       "      <th></th>\n",
       "      <th></th>\n",
       "      <th></th>\n",
       "    </tr>\n",
       "  </thead>\n",
       "  <tbody>\n",
       "    <tr>\n",
       "      <th>Inde</th>\n",
       "      <td>1338676785.00</td>\n",
       "      <td>710583024.25</td>\n",
       "      <td>2971862.46</td>\n",
       "    </tr>\n",
       "    <tr>\n",
       "      <th>Chine, continentale</th>\n",
       "      <td>1421021791.00</td>\n",
       "      <td>1376288025.02</td>\n",
       "      <td>17521198.68</td>\n",
       "    </tr>\n",
       "    <tr>\n",
       "      <th>États-Unis d'Amérique</th>\n",
       "      <td>325084756.00</td>\n",
       "      <td>321957440.65</td>\n",
       "      <td>18100719.21</td>\n",
       "    </tr>\n",
       "    <tr>\n",
       "      <th>Brésil</th>\n",
       "      <td>207833823.00</td>\n",
       "      <td>160133882.28</td>\n",
       "      <td>9982258.52</td>\n",
       "    </tr>\n",
       "  </tbody>\n",
       "</table>\n",
       "</div>"
      ],
      "text/plain": [
       "                               Pop.  Dsp. Alim. (To/an)  \\\n",
       "Zone                                                      \n",
       "Inde                  1338676785.00        710583024.25   \n",
       "Chine, continentale   1421021791.00       1376288025.02   \n",
       "États-Unis d'Amérique  325084756.00        321957440.65   \n",
       "Brésil                 207833823.00        160133882.28   \n",
       "\n",
       "                       Dsp. Alim. Vol.(To/an)  \n",
       "Zone                                           \n",
       "Inde                               2971862.46  \n",
       "Chine, continentale               17521198.68  \n",
       "États-Unis d'Amérique             18100719.21  \n",
       "Brésil                             9982258.52  "
      ]
     },
     "execution_count": 595,
     "metadata": {},
     "output_type": "execute_result"
    }
   ],
   "source": [
    "df_subset.head()"
   ]
  },
  {
   "cell_type": "markdown",
   "id": "641854b2",
   "metadata": {},
   "source": [
    "Et on supprime ces 4 pays de nos données initiales pour recommencer notre dendrogramme et voir ce qu'il se passe."
   ]
  },
  {
   "cell_type": "code",
   "execution_count": 596,
   "id": "d993c04d",
   "metadata": {},
   "outputs": [],
   "source": [
    "# sélectionner les lignes sans les pays souhaités\n",
    "tableau = tableau.loc[~tableau.index.isin([\"Inde\", \"Chine, continentale\",\"États-Unis d'Amérique\", \"Brésil\"])]"
   ]
  },
  {
   "cell_type": "markdown",
   "id": "8a96c8e5",
   "metadata": {},
   "source": [
    "On reesaye cette fois-ci sans nos quatres Mastodonte ! A nouveau on enregistre nos valeurs dans une variable X"
   ]
  },
  {
   "cell_type": "code",
   "execution_count": 597,
   "id": "77ee77d3",
   "metadata": {},
   "outputs": [],
   "source": [
    "X= tableau.values"
   ]
  },
  {
   "cell_type": "code",
   "execution_count": 598,
   "id": "423163a1",
   "metadata": {},
   "outputs": [
    {
     "data": {
      "text/plain": [
       "(168, 3)"
      ]
     },
     "execution_count": 598,
     "metadata": {},
     "output_type": "execute_result"
    }
   ],
   "source": [
    "X.shape"
   ]
  },
  {
   "cell_type": "markdown",
   "id": "3b5641ab",
   "metadata": {},
   "source": [
    "On a bien 4 lignes de moins"
   ]
  },
  {
   "cell_type": "markdown",
   "id": "b20bc9a2",
   "metadata": {},
   "source": [
    "On normalise nos données"
   ]
  },
  {
   "cell_type": "code",
   "execution_count": 599,
   "id": "966dadae",
   "metadata": {},
   "outputs": [],
   "source": [
    "std_scale = preprocessing.StandardScaler().fit(X)\n",
    "X_scaled = std_scale.transform(X)"
   ]
  },
  {
   "cell_type": "markdown",
   "id": "d41126b6",
   "metadata": {},
   "source": [
    "On utilise la méthode linkage avec nos données normalisées et la méthode de ward pour minimiser l'augmentation de la variance intracluster"
   ]
  },
  {
   "cell_type": "code",
   "execution_count": 600,
   "id": "3c118547",
   "metadata": {},
   "outputs": [],
   "source": [
    "Z = linkage(X_scaled, method=\"ward\")"
   ]
  },
  {
   "cell_type": "markdown",
   "id": "afdab6c5",
   "metadata": {},
   "source": [
    "Et on affiche notre dendrogramme"
   ]
  },
  {
   "cell_type": "code",
   "execution_count": 601,
   "id": "d3fb970b",
   "metadata": {},
   "outputs": [
    {
     "data": {
      "image/png": "[encoded data removed]",
      "text/plain": [
       "<Figure size 1080x1440 with 1 Axes>"
      ]
     },
     "metadata": {
      "needs_background": "light"
     },
     "output_type": "display_data"
    }
   ],
   "source": [
    "#On affiche notre deuxième dendrogramme\n",
    "\n",
    "fig =plt.figure(figsize=(15,20))\n",
    "plt.title('Classification ascendante hierarchique', fontsize=12)\n",
    "plt.xlabel('Distance', fontsize=20)\n",
    "\n",
    "dendrogram(Z, labels = tableau.index, leaf_font_size=12, color_threshold= 7, orientation='left')\n",
    "\n",
    "plt.show()"
   ]
  },
  {
   "cell_type": "markdown",
   "id": "630e5eae",
   "metadata": {},
   "source": [
    "C'est mieux mais pas idéal. On a toutefois des groupes déjà interessant. On va, pour optimiser notre clustering, comme on le présentait ajouter d'autres colonnes. Et si on s'interessait à essayer de grouper nos pays par marché et population mais qu'on ajoutait aussi une nouvelle dimension économique à savoir le pib par habitant . Il serait interessant de savoir si les habitant ( nos clients ) pourrait se payer nos produits ."
   ]
  },
  {
   "cell_type": "markdown",
   "id": "fb712770",
   "metadata": {},
   "source": [
    "On enregistre nos données dans une variable 'pib'"
   ]
  },
  {
   "cell_type": "code",
   "execution_count": 602,
   "id": "1717ea49",
   "metadata": {},
   "outputs": [
    {
     "data": {
      "text/html": [
       "<div>\n",
       "<style scoped>\n",
       "    .dataframe tbody tr th:only-of-type {\n",
       "        vertical-align: middle;\n",
       "    }\n",
       "\n",
       "    .dataframe tbody tr th {\n",
       "        vertical-align: top;\n",
       "    }\n",
       "\n",
       "    .dataframe thead th {\n",
       "        text-align: right;\n",
       "    }\n",
       "</style>\n",
       "<table border=\"1\" class=\"dataframe\">\n",
       "  <thead>\n",
       "    <tr style=\"text-align: right;\">\n",
       "      <th></th>\n",
       "      <th>Code Domaine</th>\n",
       "      <th>Domaine</th>\n",
       "      <th>Code zone (M49)</th>\n",
       "      <th>Zone</th>\n",
       "      <th>Code Élément</th>\n",
       "      <th>Élément</th>\n",
       "      <th>Code Produit</th>\n",
       "      <th>Produit</th>\n",
       "      <th>Code année</th>\n",
       "      <th>Année</th>\n",
       "      <th>Unité</th>\n",
       "      <th>Valeur</th>\n",
       "      <th>Symbole</th>\n",
       "      <th>Description du Symbole</th>\n",
       "      <th>Note</th>\n",
       "    </tr>\n",
       "  </thead>\n",
       "  <tbody>\n",
       "    <tr>\n",
       "      <th>0</th>\n",
       "      <td>MK</td>\n",
       "      <td>Indicateurs macro</td>\n",
       "      <td>4</td>\n",
       "      <td>Afghanistan</td>\n",
       "      <td>6119</td>\n",
       "      <td>Valeur US $ par habitant</td>\n",
       "      <td>22008</td>\n",
       "      <td>Produit Intérieur Brut</td>\n",
       "      <td>2017</td>\n",
       "      <td>2017</td>\n",
       "      <td>US$</td>\n",
       "      <td>520.62</td>\n",
       "      <td>X</td>\n",
       "      <td>Ciffre de sources internationales</td>\n",
       "      <td>NaN</td>\n",
       "    </tr>\n",
       "    <tr>\n",
       "      <th>1</th>\n",
       "      <td>MK</td>\n",
       "      <td>Indicateurs macro</td>\n",
       "      <td>710</td>\n",
       "      <td>Afrique du Sud</td>\n",
       "      <td>6119</td>\n",
       "      <td>Valeur US $ par habitant</td>\n",
       "      <td>22008</td>\n",
       "      <td>Produit Intérieur Brut</td>\n",
       "      <td>2017</td>\n",
       "      <td>2017</td>\n",
       "      <td>US$</td>\n",
       "      <td>6121.88</td>\n",
       "      <td>X</td>\n",
       "      <td>Ciffre de sources internationales</td>\n",
       "      <td>NaN</td>\n",
       "    </tr>\n",
       "    <tr>\n",
       "      <th>2</th>\n",
       "      <td>MK</td>\n",
       "      <td>Indicateurs macro</td>\n",
       "      <td>8</td>\n",
       "      <td>Albanie</td>\n",
       "      <td>6119</td>\n",
       "      <td>Valeur US $ par habitant</td>\n",
       "      <td>22008</td>\n",
       "      <td>Produit Intérieur Brut</td>\n",
       "      <td>2017</td>\n",
       "      <td>2017</td>\n",
       "      <td>US$</td>\n",
       "      <td>4514.20</td>\n",
       "      <td>X</td>\n",
       "      <td>Ciffre de sources internationales</td>\n",
       "      <td>NaN</td>\n",
       "    </tr>\n",
       "    <tr>\n",
       "      <th>3</th>\n",
       "      <td>MK</td>\n",
       "      <td>Indicateurs macro</td>\n",
       "      <td>12</td>\n",
       "      <td>Algérie</td>\n",
       "      <td>6119</td>\n",
       "      <td>Valeur US $ par habitant</td>\n",
       "      <td>22008</td>\n",
       "      <td>Produit Intérieur Brut</td>\n",
       "      <td>2017</td>\n",
       "      <td>2017</td>\n",
       "      <td>US$</td>\n",
       "      <td>4109.70</td>\n",
       "      <td>X</td>\n",
       "      <td>Ciffre de sources internationales</td>\n",
       "      <td>NaN</td>\n",
       "    </tr>\n",
       "    <tr>\n",
       "      <th>4</th>\n",
       "      <td>MK</td>\n",
       "      <td>Indicateurs macro</td>\n",
       "      <td>276</td>\n",
       "      <td>Allemagne</td>\n",
       "      <td>6119</td>\n",
       "      <td>Valeur US $ par habitant</td>\n",
       "      <td>22008</td>\n",
       "      <td>Produit Intérieur Brut</td>\n",
       "      <td>2017</td>\n",
       "      <td>2017</td>\n",
       "      <td>US$</td>\n",
       "      <td>44651.83</td>\n",
       "      <td>X</td>\n",
       "      <td>Ciffre de sources internationales</td>\n",
       "      <td>NaN</td>\n",
       "    </tr>\n",
       "  </tbody>\n",
       "</table>\n",
       "</div>"
      ],
      "text/plain": [
       "  Code Domaine            Domaine  Code zone (M49)            Zone  \\\n",
       "0           MK  Indicateurs macro                4     Afghanistan   \n",
       "1           MK  Indicateurs macro              710  Afrique du Sud   \n",
       "2           MK  Indicateurs macro                8         Albanie   \n",
       "3           MK  Indicateurs macro               12         Algérie   \n",
       "4           MK  Indicateurs macro              276       Allemagne   \n",
       "\n",
       "   Code Élément                   Élément  Code Produit  \\\n",
       "0          6119  Valeur US $ par habitant         22008   \n",
       "1          6119  Valeur US $ par habitant         22008   \n",
       "2          6119  Valeur US $ par habitant         22008   \n",
       "3          6119  Valeur US $ par habitant         22008   \n",
       "4          6119  Valeur US $ par habitant         22008   \n",
       "\n",
       "                  Produit  Code année  Année Unité   Valeur Symbole  \\\n",
       "0  Produit Intérieur Brut        2017   2017   US$   520.62       X   \n",
       "1  Produit Intérieur Brut        2017   2017   US$  6121.88       X   \n",
       "2  Produit Intérieur Brut        2017   2017   US$  4514.20       X   \n",
       "3  Produit Intérieur Brut        2017   2017   US$  4109.70       X   \n",
       "4  Produit Intérieur Brut        2017   2017   US$ 44651.83       X   \n",
       "\n",
       "              Description du Symbole  Note  \n",
       "0  Ciffre de sources internationales   NaN  \n",
       "1  Ciffre de sources internationales   NaN  \n",
       "2  Ciffre de sources internationales   NaN  \n",
       "3  Ciffre de sources internationales   NaN  \n",
       "4  Ciffre de sources internationales   NaN  "
      ]
     },
     "execution_count": 602,
     "metadata": {},
     "output_type": "execute_result"
    }
   ],
   "source": [
    "pib= pd.read_csv(\"pib par habitant en usd.csv\")\n",
    "pib.head()"
   ]
  },
  {
   "cell_type": "markdown",
   "id": "d50997a8",
   "metadata": {},
   "source": [
    "Comme précédemment on supprime les colonnes inutiles "
   ]
  },
  {
   "cell_type": "code",
   "execution_count": 603,
   "id": "dac250bd",
   "metadata": {},
   "outputs": [],
   "source": [
    "pib= pib.drop([\"Code Domaine\",\n",
    "               \"Domaine\",\n",
    "               \"Code zone (M49)\",\n",
    "               \"Code Élément\",\n",
    "               \"Code Produit\",\n",
    "               \"Produit\",\n",
    "               \"Code année\",\n",
    "               \"Année\",\n",
    "               \"Symbole\",\n",
    "               \"Description du Symbole\",\n",
    "               \"Note\",\n",
    "               \"Unité\",\n",
    "               \"Élément\"], axis=1)"
   ]
  },
  {
   "cell_type": "markdown",
   "id": "2c2263c9",
   "metadata": {},
   "source": [
    "On jette un coup d'oeil aux données."
   ]
  },
  {
   "cell_type": "code",
   "execution_count": 604,
   "id": "5924fb16",
   "metadata": {},
   "outputs": [
    {
     "data": {
      "text/html": [
       "<div>\n",
       "<style scoped>\n",
       "    .dataframe tbody tr th:only-of-type {\n",
       "        vertical-align: middle;\n",
       "    }\n",
       "\n",
       "    .dataframe tbody tr th {\n",
       "        vertical-align: top;\n",
       "    }\n",
       "\n",
       "    .dataframe thead th {\n",
       "        text-align: right;\n",
       "    }\n",
       "</style>\n",
       "<table border=\"1\" class=\"dataframe\">\n",
       "  <thead>\n",
       "    <tr style=\"text-align: right;\">\n",
       "      <th></th>\n",
       "      <th>Zone</th>\n",
       "      <th>Valeur</th>\n",
       "    </tr>\n",
       "  </thead>\n",
       "  <tbody>\n",
       "    <tr>\n",
       "      <th>0</th>\n",
       "      <td>Afghanistan</td>\n",
       "      <td>520.62</td>\n",
       "    </tr>\n",
       "    <tr>\n",
       "      <th>1</th>\n",
       "      <td>Afrique du Sud</td>\n",
       "      <td>6121.88</td>\n",
       "    </tr>\n",
       "    <tr>\n",
       "      <th>2</th>\n",
       "      <td>Albanie</td>\n",
       "      <td>4514.20</td>\n",
       "    </tr>\n",
       "    <tr>\n",
       "      <th>3</th>\n",
       "      <td>Algérie</td>\n",
       "      <td>4109.70</td>\n",
       "    </tr>\n",
       "    <tr>\n",
       "      <th>4</th>\n",
       "      <td>Allemagne</td>\n",
       "      <td>44651.83</td>\n",
       "    </tr>\n",
       "    <tr>\n",
       "      <th>...</th>\n",
       "      <td>...</td>\n",
       "      <td>...</td>\n",
       "    </tr>\n",
       "    <tr>\n",
       "      <th>206</th>\n",
       "      <td>Venezuela (République bolivarienne du)</td>\n",
       "      <td>8432.29</td>\n",
       "    </tr>\n",
       "    <tr>\n",
       "      <th>207</th>\n",
       "      <td>Viet Nam</td>\n",
       "      <td>2365.52</td>\n",
       "    </tr>\n",
       "    <tr>\n",
       "      <th>208</th>\n",
       "      <td>Yémen</td>\n",
       "      <td>745.09</td>\n",
       "    </tr>\n",
       "    <tr>\n",
       "      <th>209</th>\n",
       "      <td>Zambie</td>\n",
       "      <td>1534.87</td>\n",
       "    </tr>\n",
       "    <tr>\n",
       "      <th>210</th>\n",
       "      <td>Zimbabwe</td>\n",
       "      <td>1548.19</td>\n",
       "    </tr>\n",
       "  </tbody>\n",
       "</table>\n",
       "<p>211 rows × 2 columns</p>\n",
       "</div>"
      ],
      "text/plain": [
       "                                       Zone   Valeur\n",
       "0                               Afghanistan   520.62\n",
       "1                            Afrique du Sud  6121.88\n",
       "2                                   Albanie  4514.20\n",
       "3                                   Algérie  4109.70\n",
       "4                                 Allemagne 44651.83\n",
       "..                                      ...      ...\n",
       "206  Venezuela (République bolivarienne du)  8432.29\n",
       "207                                Viet Nam  2365.52\n",
       "208                                   Yémen   745.09\n",
       "209                                  Zambie  1534.87\n",
       "210                                Zimbabwe  1548.19\n",
       "\n",
       "[211 rows x 2 columns]"
      ]
     },
     "execution_count": 604,
     "metadata": {},
     "output_type": "execute_result"
    }
   ],
   "source": [
    "pib"
   ]
  },
  {
   "cell_type": "markdown",
   "id": "27b390db",
   "metadata": {},
   "source": [
    "Parfait on renomme nos colonnes grace à la méthode .rename()"
   ]
  },
  {
   "cell_type": "code",
   "execution_count": 605,
   "id": "a15b5f48",
   "metadata": {},
   "outputs": [],
   "source": [
    "pib.rename(columns={\"Valeur\": \"P.I.B par hab. en $\"},inplace=True)"
   ]
  },
  {
   "cell_type": "markdown",
   "id": "aff7b43b",
   "metadata": {},
   "source": [
    "Et on merge nos deux df"
   ]
  },
  {
   "cell_type": "code",
   "execution_count": 606,
   "id": "ba5e7843",
   "metadata": {},
   "outputs": [],
   "source": [
    "tableau= pd.merge(tableau, pib, on='Zone', how='left')"
   ]
  },
  {
   "cell_type": "markdown",
   "id": "64319863",
   "metadata": {},
   "source": [
    "On jette un oeil à la structure de nos données avec la méthode .info()"
   ]
  },
  {
   "cell_type": "code",
   "execution_count": 607,
   "id": "cff33676",
   "metadata": {},
   "outputs": [
    {
     "name": "stdout",
     "output_type": "stream",
     "text": [
      "<class 'pandas.core.frame.DataFrame'>\n",
      "Int64Index: 168 entries, 0 to 167\n",
      "Data columns (total 5 columns):\n",
      " #   Column                  Non-Null Count  Dtype  \n",
      "---  ------                  --------------  -----  \n",
      " 0   Zone                    168 non-null    object \n",
      " 1   Pop.                    168 non-null    float64\n",
      " 2   Dsp. Alim. (To/an)      168 non-null    float64\n",
      " 3   Dsp. Alim. Vol.(To/an)  168 non-null    float64\n",
      " 4   P.I.B par hab. en $     167 non-null    float64\n",
      "dtypes: float64(4), object(1)\n",
      "memory usage: 7.9+ KB\n"
     ]
    }
   ],
   "source": [
    "tableau.info()"
   ]
  },
  {
   "cell_type": "markdown",
   "id": "9bf92c5a",
   "metadata": {},
   "source": [
    "On a une valeur manquante, que l'on recherche grace à l'addition des méthodes .isnull() et any()"
   ]
  },
  {
   "cell_type": "code",
   "execution_count": 608,
   "id": "a3192d13",
   "metadata": {},
   "outputs": [
    {
     "data": {
      "text/html": [
       "<div>\n",
       "<style scoped>\n",
       "    .dataframe tbody tr th:only-of-type {\n",
       "        vertical-align: middle;\n",
       "    }\n",
       "\n",
       "    .dataframe tbody tr th {\n",
       "        vertical-align: top;\n",
       "    }\n",
       "\n",
       "    .dataframe thead th {\n",
       "        text-align: right;\n",
       "    }\n",
       "</style>\n",
       "<table border=\"1\" class=\"dataframe\">\n",
       "  <thead>\n",
       "    <tr style=\"text-align: right;\">\n",
       "      <th></th>\n",
       "      <th>Zone</th>\n",
       "      <th>Pop.</th>\n",
       "      <th>Dsp. Alim. (To/an)</th>\n",
       "      <th>Dsp. Alim. Vol.(To/an)</th>\n",
       "      <th>P.I.B par hab. en $</th>\n",
       "    </tr>\n",
       "  </thead>\n",
       "  <tbody>\n",
       "    <tr>\n",
       "      <th>32</th>\n",
       "      <td>Chine, Taiwan Province de</td>\n",
       "      <td>23674546.00</td>\n",
       "      <td>15160469.02</td>\n",
       "      <td>785284.69</td>\n",
       "      <td>NaN</td>\n",
       "    </tr>\n",
       "  </tbody>\n",
       "</table>\n",
       "</div>"
      ],
      "text/plain": [
       "                         Zone        Pop.  Dsp. Alim. (To/an)  \\\n",
       "32  Chine, Taiwan Province de 23674546.00         15160469.02   \n",
       "\n",
       "    Dsp. Alim. Vol.(To/an)  P.I.B par hab. en $  \n",
       "32               785284.69                  NaN  "
      ]
     },
     "execution_count": 608,
     "metadata": {},
     "output_type": "execute_result"
    }
   ],
   "source": [
    "tableau[tableau.isnull().any(axis=1)]"
   ]
  },
  {
   "cell_type": "markdown",
   "id": "7db9455a",
   "metadata": {},
   "source": [
    "On fait le choix de supprimer ce pays de nos données "
   ]
  },
  {
   "cell_type": "code",
   "execution_count": 609,
   "id": "65186f35",
   "metadata": {},
   "outputs": [],
   "source": [
    "tableau=tableau.dropna()"
   ]
  },
  {
   "cell_type": "markdown",
   "id": "d8e96927",
   "metadata": {},
   "source": [
    "On vérifie "
   ]
  },
  {
   "cell_type": "code",
   "execution_count": 610,
   "id": "30e11459",
   "metadata": {},
   "outputs": [
    {
     "data": {
      "text/html": [
       "<div>\n",
       "<style scoped>\n",
       "    .dataframe tbody tr th:only-of-type {\n",
       "        vertical-align: middle;\n",
       "    }\n",
       "\n",
       "    .dataframe tbody tr th {\n",
       "        vertical-align: top;\n",
       "    }\n",
       "\n",
       "    .dataframe thead th {\n",
       "        text-align: right;\n",
       "    }\n",
       "</style>\n",
       "<table border=\"1\" class=\"dataframe\">\n",
       "  <thead>\n",
       "    <tr style=\"text-align: right;\">\n",
       "      <th></th>\n",
       "      <th>Zone</th>\n",
       "      <th>Pop.</th>\n",
       "      <th>Dsp. Alim. (To/an)</th>\n",
       "      <th>Dsp. Alim. Vol.(To/an)</th>\n",
       "      <th>P.I.B par hab. en $</th>\n",
       "    </tr>\n",
       "  </thead>\n",
       "  <tbody>\n",
       "  </tbody>\n",
       "</table>\n",
       "</div>"
      ],
      "text/plain": [
       "Empty DataFrame\n",
       "Columns: [Zone, Pop., Dsp. Alim. (To/an), Dsp. Alim. Vol.(To/an), P.I.B par hab. en $]\n",
       "Index: []"
      ]
     },
     "execution_count": 610,
     "metadata": {},
     "output_type": "execute_result"
    }
   ],
   "source": [
    "tableau[tableau.isnull().any(axis=1)]"
   ]
  },
  {
   "cell_type": "markdown",
   "id": "30e5490e",
   "metadata": {},
   "source": [
    "Parfait on passe au dendrogramme, afin de voir comment l'ajout d'un nouveau critère change notre clustering. Mais nous ajouterons plus tard la dimension de \"Stabilité politique\"."
   ]
  },
  {
   "cell_type": "code",
   "execution_count": 611,
   "id": "b718443c",
   "metadata": {},
   "outputs": [
    {
     "data": {
      "text/html": [
       "<div>\n",
       "<style scoped>\n",
       "    .dataframe tbody tr th:only-of-type {\n",
       "        vertical-align: middle;\n",
       "    }\n",
       "\n",
       "    .dataframe tbody tr th {\n",
       "        vertical-align: top;\n",
       "    }\n",
       "\n",
       "    .dataframe thead th {\n",
       "        text-align: right;\n",
       "    }\n",
       "</style>\n",
       "<table border=\"1\" class=\"dataframe\">\n",
       "  <thead>\n",
       "    <tr style=\"text-align: right;\">\n",
       "      <th></th>\n",
       "      <th>Zone</th>\n",
       "      <th>Pop.</th>\n",
       "      <th>Dsp. Alim. (To/an)</th>\n",
       "      <th>Dsp. Alim. Vol.(To/an)</th>\n",
       "      <th>P.I.B par hab. en $</th>\n",
       "    </tr>\n",
       "  </thead>\n",
       "  <tbody>\n",
       "    <tr>\n",
       "      <th>0</th>\n",
       "      <td>Afghanistan</td>\n",
       "      <td>36296113.00</td>\n",
       "      <td>12968964.14</td>\n",
       "      <td>55533.05</td>\n",
       "      <td>520.62</td>\n",
       "    </tr>\n",
       "    <tr>\n",
       "      <th>1</th>\n",
       "      <td>Afrique du Sud</td>\n",
       "      <td>57009756.00</td>\n",
       "      <td>31721368.43</td>\n",
       "      <td>2034678.19</td>\n",
       "      <td>6121.88</td>\n",
       "    </tr>\n",
       "    <tr>\n",
       "      <th>2</th>\n",
       "      <td>Albanie</td>\n",
       "      <td>2884169.00</td>\n",
       "      <td>3635466.18</td>\n",
       "      <td>47185.00</td>\n",
       "      <td>4514.20</td>\n",
       "    </tr>\n",
       "    <tr>\n",
       "      <th>3</th>\n",
       "      <td>Algérie</td>\n",
       "      <td>41389189.00</td>\n",
       "      <td>33057959.15</td>\n",
       "      <td>264063.03</td>\n",
       "      <td>4109.70</td>\n",
       "    </tr>\n",
       "    <tr>\n",
       "      <th>4</th>\n",
       "      <td>Allemagne</td>\n",
       "      <td>82658409.00</td>\n",
       "      <td>77966717.71</td>\n",
       "      <td>1609359.22</td>\n",
       "      <td>44651.83</td>\n",
       "    </tr>\n",
       "  </tbody>\n",
       "</table>\n",
       "</div>"
      ],
      "text/plain": [
       "             Zone        Pop.  Dsp. Alim. (To/an)  Dsp. Alim. Vol.(To/an)  \\\n",
       "0     Afghanistan 36296113.00         12968964.14                55533.05   \n",
       "1  Afrique du Sud 57009756.00         31721368.43              2034678.19   \n",
       "2         Albanie  2884169.00          3635466.18                47185.00   \n",
       "3         Algérie 41389189.00         33057959.15               264063.03   \n",
       "4       Allemagne 82658409.00         77966717.71              1609359.22   \n",
       "\n",
       "   P.I.B par hab. en $  \n",
       "0               520.62  \n",
       "1              6121.88  \n",
       "2              4514.20  \n",
       "3              4109.70  \n",
       "4             44651.83  "
      ]
     },
     "execution_count": 611,
     "metadata": {},
     "output_type": "execute_result"
    }
   ],
   "source": [
    "tableau.head()"
   ]
  },
  {
   "cell_type": "code",
   "execution_count": 612,
   "id": "e7c7ce2e",
   "metadata": {},
   "outputs": [
    {
     "data": {
      "image/png": "[encoded data removed]",
      "text/plain": [
       "<Figure size 1080x1440 with 1 Axes>"
      ]
     },
     "metadata": {
      "needs_background": "light"
     },
     "output_type": "display_data"
    }
   ],
   "source": [
    "#Mise en index de \"Zone\"\n",
    "tableau.set_index(\"Zone\",inplace=True)\n",
    "\n",
    "# enregistrement des valeurs dans une variable X\n",
    "X= tableau.values\n",
    "\n",
    "# Normalisation des données\n",
    "std_scale = preprocessing.StandardScaler().fit(X)\n",
    "X_scaled = std_scale.transform(X)\n",
    "\n",
    "# Calcul de Z avec les données normalisé et la méthode de Ward\n",
    "Z = linkage(X_scaled, method=\"ward\")\n",
    "\n",
    "#Affichage d'un troisième dendrogramme ( par curiosité)\n",
    "fig =plt.figure(figsize=(15,20))\n",
    "plt.title('Hierarchical Clustering Dendrogram', fontsize=20)\n",
    "plt.xlabel('Distance')\n",
    "\n",
    "dendrogram(Z, labels = tableau.index, leaf_font_size=12, color_threshold=7, orientation='left')\n",
    "\n",
    "plt.show()"
   ]
  },
  {
   "cell_type": "markdown",
   "id": "4e7e61c3",
   "metadata": {},
   "source": [
    "# Ajout du critère \"stabilité politique\"."
   ]
  },
  {
   "cell_type": "markdown",
   "id": "3294f691",
   "metadata": {},
   "source": [
    "On enregistre notre df dans une variable stabilite_politique."
   ]
  },
  {
   "cell_type": "code",
   "execution_count": 613,
   "id": "fad3b69a",
   "metadata": {},
   "outputs": [],
   "source": [
    "stabilite_politique= pd.read_csv(\"PoliticalStability.csv\")"
   ]
  },
  {
   "cell_type": "markdown",
   "id": "35f2846c",
   "metadata": {},
   "source": [
    "On jette un oeil à nos 5 premieres lignes"
   ]
  },
  {
   "cell_type": "code",
   "execution_count": 614,
   "id": "711a36d7",
   "metadata": {},
   "outputs": [
    {
     "data": {
      "text/html": [
       "<div>\n",
       "<style scoped>\n",
       "    .dataframe tbody tr th:only-of-type {\n",
       "        vertical-align: middle;\n",
       "    }\n",
       "\n",
       "    .dataframe tbody tr th {\n",
       "        vertical-align: top;\n",
       "    }\n",
       "\n",
       "    .dataframe thead th {\n",
       "        text-align: right;\n",
       "    }\n",
       "</style>\n",
       "<table border=\"1\" class=\"dataframe\">\n",
       "  <thead>\n",
       "    <tr style=\"text-align: right;\">\n",
       "      <th></th>\n",
       "      <th>Country</th>\n",
       "      <th>Year</th>\n",
       "      <th>Political_Stability</th>\n",
       "      <th>Granularity</th>\n",
       "    </tr>\n",
       "  </thead>\n",
       "  <tbody>\n",
       "    <tr>\n",
       "      <th>0</th>\n",
       "      <td>Afghanistan</td>\n",
       "      <td>2000</td>\n",
       "      <td>-2.44</td>\n",
       "      <td>Total</td>\n",
       "    </tr>\n",
       "    <tr>\n",
       "      <th>1</th>\n",
       "      <td>Afghanistan</td>\n",
       "      <td>2002</td>\n",
       "      <td>-2.04</td>\n",
       "      <td>Total</td>\n",
       "    </tr>\n",
       "    <tr>\n",
       "      <th>2</th>\n",
       "      <td>Afghanistan</td>\n",
       "      <td>2003</td>\n",
       "      <td>-2.20</td>\n",
       "      <td>Total</td>\n",
       "    </tr>\n",
       "    <tr>\n",
       "      <th>3</th>\n",
       "      <td>Afghanistan</td>\n",
       "      <td>2004</td>\n",
       "      <td>-2.30</td>\n",
       "      <td>Total</td>\n",
       "    </tr>\n",
       "    <tr>\n",
       "      <th>4</th>\n",
       "      <td>Afghanistan</td>\n",
       "      <td>2005</td>\n",
       "      <td>-2.07</td>\n",
       "      <td>Total</td>\n",
       "    </tr>\n",
       "  </tbody>\n",
       "</table>\n",
       "</div>"
      ],
      "text/plain": [
       "       Country  Year  Political_Stability Granularity\n",
       "0  Afghanistan  2000                -2.44       Total\n",
       "1  Afghanistan  2002                -2.04       Total\n",
       "2  Afghanistan  2003                -2.20       Total\n",
       "3  Afghanistan  2004                -2.30       Total\n",
       "4  Afghanistan  2005                -2.07       Total"
      ]
     },
     "execution_count": 614,
     "metadata": {},
     "output_type": "execute_result"
    }
   ],
   "source": [
    "stabilite_politique.head()"
   ]
  },
  {
   "cell_type": "markdown",
   "id": "843116af",
   "metadata": {},
   "source": [
    "On selectionne uniquement les données pour l'année 2017"
   ]
  },
  {
   "cell_type": "code",
   "execution_count": 615,
   "id": "c619b5c2",
   "metadata": {},
   "outputs": [],
   "source": [
    "stabilite_politique= stabilite_politique[stabilite_politique['Year'] == 2017]"
   ]
  },
  {
   "cell_type": "markdown",
   "id": "79d6e173",
   "metadata": {},
   "source": [
    "On vérifie que tout s'est bien passé."
   ]
  },
  {
   "cell_type": "code",
   "execution_count": 616,
   "id": "d194be96",
   "metadata": {},
   "outputs": [
    {
     "data": {
      "text/html": [
       "<div>\n",
       "<style scoped>\n",
       "    .dataframe tbody tr th:only-of-type {\n",
       "        vertical-align: middle;\n",
       "    }\n",
       "\n",
       "    .dataframe tbody tr th {\n",
       "        vertical-align: top;\n",
       "    }\n",
       "\n",
       "    .dataframe thead th {\n",
       "        text-align: right;\n",
       "    }\n",
       "</style>\n",
       "<table border=\"1\" class=\"dataframe\">\n",
       "  <thead>\n",
       "    <tr style=\"text-align: right;\">\n",
       "      <th></th>\n",
       "      <th>Country</th>\n",
       "      <th>Year</th>\n",
       "      <th>Political_Stability</th>\n",
       "      <th>Granularity</th>\n",
       "    </tr>\n",
       "  </thead>\n",
       "  <tbody>\n",
       "    <tr>\n",
       "      <th>16</th>\n",
       "      <td>Afghanistan</td>\n",
       "      <td>2017</td>\n",
       "      <td>-2.80</td>\n",
       "      <td>Total</td>\n",
       "    </tr>\n",
       "    <tr>\n",
       "      <th>34</th>\n",
       "      <td>Albania</td>\n",
       "      <td>2017</td>\n",
       "      <td>0.38</td>\n",
       "      <td>Total</td>\n",
       "    </tr>\n",
       "    <tr>\n",
       "      <th>52</th>\n",
       "      <td>Algeria</td>\n",
       "      <td>2017</td>\n",
       "      <td>-0.92</td>\n",
       "      <td>Total</td>\n",
       "    </tr>\n",
       "    <tr>\n",
       "      <th>67</th>\n",
       "      <td>American Samoa</td>\n",
       "      <td>2017</td>\n",
       "      <td>1.22</td>\n",
       "      <td>Total</td>\n",
       "    </tr>\n",
       "    <tr>\n",
       "      <th>85</th>\n",
       "      <td>Andorra</td>\n",
       "      <td>2017</td>\n",
       "      <td>1.42</td>\n",
       "      <td>Total</td>\n",
       "    </tr>\n",
       "  </tbody>\n",
       "</table>\n",
       "</div>"
      ],
      "text/plain": [
       "           Country  Year  Political_Stability Granularity\n",
       "16     Afghanistan  2017                -2.80       Total\n",
       "34         Albania  2017                 0.38       Total\n",
       "52         Algeria  2017                -0.92       Total\n",
       "67  American Samoa  2017                 1.22       Total\n",
       "85         Andorra  2017                 1.42       Total"
      ]
     },
     "execution_count": 616,
     "metadata": {},
     "output_type": "execute_result"
    }
   ],
   "source": [
    "stabilite_politique.head()"
   ]
  },
  {
   "cell_type": "markdown",
   "id": "47f2b293",
   "metadata": {},
   "source": [
    "On ne garde que Les colonne relative au pays et à la valeur de la stabilité politique"
   ]
  },
  {
   "cell_type": "code",
   "execution_count": 617,
   "id": "88d7faab",
   "metadata": {},
   "outputs": [],
   "source": [
    "stabilite_politique=stabilite_politique[[\"Country\",\"Political_Stability\"]]"
   ]
  },
  {
   "cell_type": "markdown",
   "id": "0c6a72af",
   "metadata": {},
   "source": [
    "On vérifie"
   ]
  },
  {
   "cell_type": "code",
   "execution_count": 618,
   "id": "cfebc9aa",
   "metadata": {},
   "outputs": [
    {
     "data": {
      "text/html": [
       "<div>\n",
       "<style scoped>\n",
       "    .dataframe tbody tr th:only-of-type {\n",
       "        vertical-align: middle;\n",
       "    }\n",
       "\n",
       "    .dataframe tbody tr th {\n",
       "        vertical-align: top;\n",
       "    }\n",
       "\n",
       "    .dataframe thead th {\n",
       "        text-align: right;\n",
       "    }\n",
       "</style>\n",
       "<table border=\"1\" class=\"dataframe\">\n",
       "  <thead>\n",
       "    <tr style=\"text-align: right;\">\n",
       "      <th></th>\n",
       "      <th>Country</th>\n",
       "      <th>Political_Stability</th>\n",
       "    </tr>\n",
       "  </thead>\n",
       "  <tbody>\n",
       "    <tr>\n",
       "      <th>16</th>\n",
       "      <td>Afghanistan</td>\n",
       "      <td>-2.80</td>\n",
       "    </tr>\n",
       "    <tr>\n",
       "      <th>34</th>\n",
       "      <td>Albania</td>\n",
       "      <td>0.38</td>\n",
       "    </tr>\n",
       "    <tr>\n",
       "      <th>52</th>\n",
       "      <td>Algeria</td>\n",
       "      <td>-0.92</td>\n",
       "    </tr>\n",
       "    <tr>\n",
       "      <th>67</th>\n",
       "      <td>American Samoa</td>\n",
       "      <td>1.22</td>\n",
       "    </tr>\n",
       "    <tr>\n",
       "      <th>85</th>\n",
       "      <td>Andorra</td>\n",
       "      <td>1.42</td>\n",
       "    </tr>\n",
       "  </tbody>\n",
       "</table>\n",
       "</div>"
      ],
      "text/plain": [
       "           Country  Political_Stability\n",
       "16     Afghanistan                -2.80\n",
       "34         Albania                 0.38\n",
       "52         Algeria                -0.92\n",
       "67  American Samoa                 1.22\n",
       "85         Andorra                 1.42"
      ]
     },
     "execution_count": 618,
     "metadata": {},
     "output_type": "execute_result"
    }
   ],
   "source": [
    "stabilite_politique.head()"
   ]
  },
  {
   "cell_type": "markdown",
   "id": "7b17b42a",
   "metadata": {},
   "source": [
    "On peut se rendre compte qu'il va y avoir un problème avec la jointure, si on garde le nom des pays en anglais. On va changer le nom de nos pays en créany un dictionnaire avec les noms des pays en anglais comme clés et les noms des pays en français comme valeurs. On enregistre ce dictionnaire dans une variable **pays_dict**"
   ]
  },
  {
   "cell_type": "code",
   "execution_count": 619,
   "id": "83e9741e",
   "metadata": {},
   "outputs": [],
   "source": [
    "pays_dict = {\n",
    "    'Afghanistan': 'Afghanistan',\n",
    "    'Albania': 'Albanie',\n",
    "    'Algeria': 'Algérie',\n",
    "    'American Samoa': 'Samoa américaines',\n",
    "    'Andorra': 'Andorre',\n",
    "    'Angola': 'Angola',\n",
    "    'Antigua and Barbuda': 'Antigua-et-Barbuda',\n",
    "    'Argentina': 'Argentine',\n",
    "    'Armenia': 'Arménie',\n",
    "    'Australia': 'Australie',\n",
    "    'Austria': 'Autriche',\n",
    "    'Azerbaijan': 'Azerbaïdjan',\n",
    "    'Bahamas': 'Bahamas',\n",
    "    'Bahrain': 'Bahreïn',\n",
    "    'Bangladesh': 'Bangladesh',\n",
    "    'Barbados': 'Barbade',\n",
    "    'Belarus': 'Bélarus',\n",
    "    'Belgium': 'Belgique',\n",
    "    'Belize': 'Belize',\n",
    "    'Benin': 'Bénin',\n",
    "    'Bermuda': 'Bermudes',\n",
    "    'Bhutan': 'Bhoutan',\n",
    "    'Bolivia (Plurinational State of)': 'Bolivie (État plurinational de)',\n",
    "    'Bosnia and Herzegovina': 'Bosnie-Herzégovine',\n",
    "    'Botswana': 'Botswana',\n",
    "    'Brazil': 'Brésil',\n",
    "    'Brunei Darussalam': 'Brunéi Darussalam',\n",
    "    'Bulgaria': 'Bulgarie',\n",
    "    'Burkina Faso': 'Burkina Faso',\n",
    "    'Burundi': 'Burundi',\n",
    "    'Cabo Verde': 'Cabo Verde',\n",
    "    'Cambodia': 'Cambodge',\n",
    "    'Cameroon': 'Cameroun',\n",
    "    'Canada': 'Canada',\n",
    "    'Central African Republic': 'République centrafricaine',\n",
    "    'Chad': 'Tchad',\n",
    "    'Chile': 'Chili',\n",
    "    'China, Hong Kong SAR': 'Chine - RAS de Hong-Kong',\n",
    "    'China, Macao SAR': 'Chine - RAS de Macao',\n",
    "    'China, mainland': 'Chine, continentale',\n",
    "    'China, Taiwan Province of': 'Taïwan',\n",
    "    'Colombia': 'Colombie',\n",
    "    'Comoros': 'Comores',\n",
    "    'Congo': 'Congo',\n",
    "    'Costa Rica': 'Costa Rica',\n",
    "    \"Côte d'Ivoire\": 'Côte d\\'Ivoire',\n",
    "    'Croatia': 'Croatie',\n",
    "    'Cuba': 'Cuba',\n",
    "    'Cyprus': 'Chypre',\n",
    "    'Czechia': 'Tchéquie',\n",
    "    \"Democratic People's Republic of Korea\": 'République populaire démocratique de Corée',\n",
    "    'Democratic Republic of the Congo': 'République démocratique du Congo',\n",
    "    'Denmark': 'Danemark',\n",
    "    'Djibouti': 'Djibouti',\n",
    "    'Dominica': 'Dominique',\n",
    "    'Dominican Republic': 'République dominicaine',\n",
    "    'Ecuador': 'Équateur',\n",
    "    'Egypt': 'Égypte',\n",
    "    'El Salvador': 'El Salvador',\n",
    "    'Equatorial Guinea': 'Guinée équatoriale',\n",
    "    'Eritrea': 'Érythrée',\n",
    "    'Estonia': 'Estonie',\n",
    "    'Eswatini': 'Eswatini',\n",
    "    'Ethiopia': 'Éthiopie',\n",
    "    'Fiji': 'Fidji',\n",
    "    'Finland': 'Finlande',\n",
    "    'France': 'France',\n",
    "    'Gabon': 'Gabon',\n",
    "    'Gambia': 'Gambie',\n",
    "    'Georgia': 'Géorgie',\n",
    "    'Germany': 'Allemagne',\n",
    "    'Ghana': 'Ghana',\n",
    "    'Greece': 'Grèce',\n",
    "    'Greenland': 'Groenland',\n",
    "    'Grenada': 'Grenade',\n",
    "    'Guatemala': 'Guatemala',\n",
    "    'Guinea': 'Guinée',\n",
    "    'Guinea-Bissau': 'Guinée-Bissau',\n",
    "    'Guyana': 'Guyana',\n",
    "    'Haiti': 'Haïti',\n",
    "    'Honduras': 'Honduras',\n",
    "    'Hungary': 'Hongrie',\n",
    "    'Iceland': 'Islande',\n",
    "    'India': 'Inde',\n",
    "    'Indonesia': 'Indonésie',\n",
    "    \"Iran (Islamic Republic of)\": \"Iran (République islamique d')\",\n",
    "    'Iraq': 'Iraq',\n",
    "    'Ireland': 'Irlande',\n",
    "    'Israel': 'Israël',\n",
    "    'Italy': 'Italie',\n",
    "    'Jamaica': 'Jamaïque',\n",
    "    'Japan': 'Japon',\n",
    "    'Jordan': 'Jordanie',\n",
    "    'Kazakhstan': 'Kazakhstan',\n",
    "    'Kenya': 'Kenya',\n",
    "    'Kiribati': 'Kiribati',\n",
    "    'Kuwait': 'Koweït',\n",
    "    'Kyrgyzstan': 'Kirghizistan',\n",
    "    \"Lao People's Democratic Republic\": 'République démocratique populaire lao',\n",
    "    'Latvia': 'Lettonie',\n",
    "    'Lebanon': 'Liban',\n",
    "    'Lesotho': 'Lesotho',\n",
    "    'Liberia': 'Libéria',\n",
    "    'Libya': 'Libye',\n",
    "    'Lithuania': 'Lituanie',\n",
    "    'Luxembourg': 'Luxembourg',\n",
    "    'Madagascar': 'Madagascar',\n",
    "    'Malawi': 'Malawi',\n",
    "    'Malaysia': 'Malaisie',\n",
    "    'Maldives': 'Maldives',\n",
    "    'Mali': 'Mali',\n",
    "    'Malta': 'Malte',\n",
    "    'Marshall Islands': 'Îles Marshall',\n",
    "    'Mauritania': 'Mauritanie',\n",
    "    'Mauritius': 'Maurice',\n",
    "    'Mexico': 'Mexique',\n",
    "    'Micronesia (Federated States of)': 'Micronésie',\n",
    "    'Mongolia': 'Mongolie',\n",
    "    'Montenegro': 'Monténégro',\n",
    "    'Morocco': 'Maroc',\n",
    "    'Mozambique': 'Mozambique',\n",
    "    'Myanmar': 'Myanmar',\n",
    "    'Namibia': 'Namibie',\n",
    "    'Nauru': 'Nauru',\n",
    "    'Nepal': 'Népal',\n",
    "    'Netherlands': 'Pays-Bas',\n",
    "    'New Zealand': 'Nouvelle-Zélande',\n",
    "    'Nicaragua': 'Nicaragua',\n",
    "    'Niger': 'Niger',\n",
    "    'Nigeria': 'Nigéria',\n",
    "    'North Macedonia': 'Macédoine du Nord',\n",
    "    'Norway': 'Norvège',\n",
    "    'Oman': 'Oman',\n",
    "    'Pakistan': 'Pakistan',\n",
    "    'Palau': 'Palaos',\n",
    "    'Palestine': 'Palestine',\n",
    "    'Panama': 'Panama',\n",
    "    'Papua New Guinea': 'Papouasie-Nouvelle-Guinée',\n",
    "    'Paraguay': 'Paraguay',\n",
    "    'Peru': 'Pérou',\n",
    "    'Philippines': 'Philippines',\n",
    "    'Poland': 'Pologne',\n",
    "    'Portugal': 'Portugal',\n",
    "    'Puerto Rico': 'Porto Rico',\n",
    "    'Qatar': 'Qatar',\n",
    "    'Republic of Korea': 'République de Corée',\n",
    "    'Republic of Moldova': 'République de Moldova',\n",
    "    'Romania': 'Roumanie',\n",
    "    'Russian Federation': 'Fédération de Russie',\n",
    "    'Rwanda': 'Rwanda',\n",
    "    'Saint Kitts and Nevis': 'Saint-Kitts-et-Nevis',\n",
    "    'Saint Lucia': 'Sainte-Lucie',\n",
    "    'Saint Vincent and the Grenadines': 'Saint-Vincent-et-les Grenadines',\n",
    "    'Samoa': 'Samoa',\n",
    "    'Sao Tome and Principe': 'Sao Tomé-et-Principe',\n",
    "    'Saudi Arabia': 'Arabie saoudite',\n",
    "    'Senegal': 'Sénégal',\n",
    "    'Serbia': 'Serbie',\n",
    "    'Seychelles': 'Seychelles',\n",
    "    'Sierra Leone': 'Sierra Leone',\n",
    "    'Singapore': 'Singapour',\n",
    "    'Slovakia': 'Slovaquie',\n",
    "    'Slovenia': 'Slovénie',\n",
    "    'Solomon Islands': 'Îles Salomon',\n",
    "    'Somalia': 'Somalie',\n",
    "    'South Africa': 'Afrique du Sud',\n",
    "    'South Sudan': 'Soudan du Sud',\n",
    "    'Spain': 'Espagne',\n",
    "    'Sri Lanka': 'Sri Lanka',\n",
    "    'Sudan': 'Soudan',\n",
    "    'Suriname': 'Suriname',\n",
    "    'Sweden': 'Suède',\n",
    "    'Switzerland': 'Suisse',\n",
    "    'Syrian Arab Republic': 'République arabe syrienne',\n",
    "    'Tajikistan': 'Tadjikistan',\n",
    "    'Thailand': 'Thaïlande',\n",
    "    'Timor-Leste': 'Timor-Leste',\n",
    "    'Togo': 'Togo',\n",
    "    'Tonga': 'Tonga',\n",
    "    'Trinidad and Tobago': 'Trinité-et-Tobago',\n",
    "    'Tunisia': 'Tunisie',\n",
    "    'Turkey': 'Turquie',\n",
    "    'Turkmenistan': 'Turkménistan',\n",
    "    'Tuvalu': 'Tuvalu',\n",
    "    'Uganda': 'Ouganda',\n",
    "    'Ukraine': 'Ukraine',\n",
    "    'United Arab Emirates': 'Émirats arabes unis',\n",
    "    'United Kingdom of Great Britain and Northern Ireland': 'Royaume-Uni de Grande-Bretagne et d\\'Irlande du Nord',\n",
    "    'United Republic of Tanzania': 'République-Unie de Tanzanie',\n",
    "    'United States of America': 'États-Unis d\\'Amérique',\n",
    "    'Uruguay': 'Uruguay',\n",
    "    'Uzbekistan': 'Ouzbékistan',\n",
    "    'Vanuatu': 'Vanuatu',\n",
    "    'Venezuela (Bolivarian Republic of)': 'Venezuela (République bolivarienne du)',\n",
    "    'Viet Nam': 'Viet Nam',\n",
    "    'Yemen': 'Yémen',\n",
    "    'Zambia': 'Zambie',\n",
    "    'Zimbabwe': 'Zimbabwe'\n",
    "    }"
   ]
  },
  {
   "cell_type": "markdown",
   "id": "a9bbc1cd",
   "metadata": {},
   "source": [
    "On remplace la colonne \"pays\" en anglais par la colonne \"pays\" en français grace à une fonction lambda."
   ]
  },
  {
   "cell_type": "code",
   "execution_count": 620,
   "id": "517ed22e",
   "metadata": {},
   "outputs": [],
   "source": [
    "stabilite_politique.loc[:, 'Country'] = stabilite_politique['Country'].apply(lambda x: pays_dict.get(x, x))"
   ]
  },
  {
   "cell_type": "markdown",
   "id": "6eb00fc4",
   "metadata": {},
   "source": [
    "La fonction lambda prend en entrée un élément \"x\" de la colonne \"Country\" et applique la méthode \"get\" du dictionnaire \"pays_dict\" sur cet élément, en utilisant \"x\" comme clé. Si la clé \"x\" est présente dans le dictionnaire, la valeur correspondante est retournée. Sinon, la clé elle-même (c'est-à-dire \"x\") est retournée.\n",
    "\n",
    "Ainsi, en utilisant cette fonction lambda, la colonne \"Country\" du dataframe \"stabilite_politique\" est remplacée par les valeurs du dictionnaire \"pays_dict\" correspondantes aux noms de pays présents dans la colonne \"Country\". Si le nom de pays n'est pas présent dans le dictionnaire, il est conservé tel quel."
   ]
  },
  {
   "cell_type": "markdown",
   "id": "3ece8877",
   "metadata": {},
   "source": [
    "On vérifie"
   ]
  },
  {
   "cell_type": "code",
   "execution_count": 621,
   "id": "6ae12293",
   "metadata": {},
   "outputs": [
    {
     "data": {
      "text/html": [
       "<div>\n",
       "<style scoped>\n",
       "    .dataframe tbody tr th:only-of-type {\n",
       "        vertical-align: middle;\n",
       "    }\n",
       "\n",
       "    .dataframe tbody tr th {\n",
       "        vertical-align: top;\n",
       "    }\n",
       "\n",
       "    .dataframe thead th {\n",
       "        text-align: right;\n",
       "    }\n",
       "</style>\n",
       "<table border=\"1\" class=\"dataframe\">\n",
       "  <thead>\n",
       "    <tr style=\"text-align: right;\">\n",
       "      <th></th>\n",
       "      <th>Country</th>\n",
       "      <th>Political_Stability</th>\n",
       "    </tr>\n",
       "  </thead>\n",
       "  <tbody>\n",
       "    <tr>\n",
       "      <th>16</th>\n",
       "      <td>Afghanistan</td>\n",
       "      <td>-2.80</td>\n",
       "    </tr>\n",
       "    <tr>\n",
       "      <th>34</th>\n",
       "      <td>Albanie</td>\n",
       "      <td>0.38</td>\n",
       "    </tr>\n",
       "    <tr>\n",
       "      <th>52</th>\n",
       "      <td>Algérie</td>\n",
       "      <td>-0.92</td>\n",
       "    </tr>\n",
       "    <tr>\n",
       "      <th>67</th>\n",
       "      <td>Samoa américaines</td>\n",
       "      <td>1.22</td>\n",
       "    </tr>\n",
       "    <tr>\n",
       "      <th>85</th>\n",
       "      <td>Andorre</td>\n",
       "      <td>1.42</td>\n",
       "    </tr>\n",
       "  </tbody>\n",
       "</table>\n",
       "</div>"
      ],
      "text/plain": [
       "              Country  Political_Stability\n",
       "16        Afghanistan                -2.80\n",
       "34            Albanie                 0.38\n",
       "52            Algérie                -0.92\n",
       "67  Samoa américaines                 1.22\n",
       "85            Andorre                 1.42"
      ]
     },
     "execution_count": 621,
     "metadata": {},
     "output_type": "execute_result"
    }
   ],
   "source": [
    "stabilite_politique.head()"
   ]
  },
  {
   "cell_type": "markdown",
   "id": "69daf2f7",
   "metadata": {},
   "source": [
    "Cela semble avoir marché ! On change le nom de la colonne Country pour \"Zone\"."
   ]
  },
  {
   "cell_type": "code",
   "execution_count": 622,
   "id": "73291116",
   "metadata": {},
   "outputs": [],
   "source": [
    "stabilite_politique = stabilite_politique.rename(columns={'Country': 'Zone'})"
   ]
  },
  {
   "cell_type": "markdown",
   "id": "0a20a65f",
   "metadata": {},
   "source": [
    "On vérifie "
   ]
  },
  {
   "cell_type": "code",
   "execution_count": 623,
   "id": "c3172c00",
   "metadata": {},
   "outputs": [
    {
     "data": {
      "text/html": [
       "<div>\n",
       "<style scoped>\n",
       "    .dataframe tbody tr th:only-of-type {\n",
       "        vertical-align: middle;\n",
       "    }\n",
       "\n",
       "    .dataframe tbody tr th {\n",
       "        vertical-align: top;\n",
       "    }\n",
       "\n",
       "    .dataframe thead th {\n",
       "        text-align: right;\n",
       "    }\n",
       "</style>\n",
       "<table border=\"1\" class=\"dataframe\">\n",
       "  <thead>\n",
       "    <tr style=\"text-align: right;\">\n",
       "      <th></th>\n",
       "      <th>Zone</th>\n",
       "      <th>Political_Stability</th>\n",
       "    </tr>\n",
       "  </thead>\n",
       "  <tbody>\n",
       "    <tr>\n",
       "      <th>16</th>\n",
       "      <td>Afghanistan</td>\n",
       "      <td>-2.80</td>\n",
       "    </tr>\n",
       "    <tr>\n",
       "      <th>34</th>\n",
       "      <td>Albanie</td>\n",
       "      <td>0.38</td>\n",
       "    </tr>\n",
       "    <tr>\n",
       "      <th>52</th>\n",
       "      <td>Algérie</td>\n",
       "      <td>-0.92</td>\n",
       "    </tr>\n",
       "    <tr>\n",
       "      <th>67</th>\n",
       "      <td>Samoa américaines</td>\n",
       "      <td>1.22</td>\n",
       "    </tr>\n",
       "    <tr>\n",
       "      <th>85</th>\n",
       "      <td>Andorre</td>\n",
       "      <td>1.42</td>\n",
       "    </tr>\n",
       "  </tbody>\n",
       "</table>\n",
       "</div>"
      ],
      "text/plain": [
       "                 Zone  Political_Stability\n",
       "16        Afghanistan                -2.80\n",
       "34            Albanie                 0.38\n",
       "52            Algérie                -0.92\n",
       "67  Samoa américaines                 1.22\n",
       "85            Andorre                 1.42"
      ]
     },
     "execution_count": 623,
     "metadata": {},
     "output_type": "execute_result"
    }
   ],
   "source": [
    "stabilite_politique.head()"
   ]
  },
  {
   "cell_type": "markdown",
   "id": "124dfe22",
   "metadata": {},
   "source": [
    "On fait la jointure entre notre df et le df \"stabilite_politique\""
   ]
  },
  {
   "cell_type": "code",
   "execution_count": 624,
   "id": "61a0e778",
   "metadata": {},
   "outputs": [],
   "source": [
    "tableau= pd.merge(tableau, stabilite_politique, on='Zone', how='left')"
   ]
  },
  {
   "cell_type": "markdown",
   "id": "99c8d2d0",
   "metadata": {},
   "source": [
    "On jette un oeil à la structure des données"
   ]
  },
  {
   "cell_type": "code",
   "execution_count": 625,
   "id": "fcc506fc",
   "metadata": {},
   "outputs": [
    {
     "name": "stdout",
     "output_type": "stream",
     "text": [
      "<class 'pandas.core.frame.DataFrame'>\n",
      "Int64Index: 167 entries, 0 to 166\n",
      "Data columns (total 6 columns):\n",
      " #   Column                  Non-Null Count  Dtype  \n",
      "---  ------                  --------------  -----  \n",
      " 0   Zone                    167 non-null    object \n",
      " 1   Pop.                    167 non-null    float64\n",
      " 2   Dsp. Alim. (To/an)      167 non-null    float64\n",
      " 3   Dsp. Alim. Vol.(To/an)  167 non-null    float64\n",
      " 4   P.I.B par hab. en $     167 non-null    float64\n",
      " 5   Political_Stability     165 non-null    float64\n",
      "dtypes: float64(5), object(1)\n",
      "memory usage: 9.1+ KB\n"
     ]
    }
   ],
   "source": [
    "tableau.info()"
   ]
  },
  {
   "cell_type": "markdown",
   "id": "af879ee1",
   "metadata": {},
   "source": [
    "On a deux valeurs nulles qu'on recherche avec .isnull().any()"
   ]
  },
  {
   "cell_type": "code",
   "execution_count": 626,
   "id": "6d3468d5",
   "metadata": {},
   "outputs": [
    {
     "data": {
      "text/html": [
       "<div>\n",
       "<style scoped>\n",
       "    .dataframe tbody tr th:only-of-type {\n",
       "        vertical-align: middle;\n",
       "    }\n",
       "\n",
       "    .dataframe tbody tr th {\n",
       "        vertical-align: top;\n",
       "    }\n",
       "\n",
       "    .dataframe thead th {\n",
       "        text-align: right;\n",
       "    }\n",
       "</style>\n",
       "<table border=\"1\" class=\"dataframe\">\n",
       "  <thead>\n",
       "    <tr style=\"text-align: right;\">\n",
       "      <th></th>\n",
       "      <th>Zone</th>\n",
       "      <th>Pop.</th>\n",
       "      <th>Dsp. Alim. (To/an)</th>\n",
       "      <th>Dsp. Alim. Vol.(To/an)</th>\n",
       "      <th>P.I.B par hab. en $</th>\n",
       "      <th>Political_Stability</th>\n",
       "    </tr>\n",
       "  </thead>\n",
       "  <tbody>\n",
       "    <tr>\n",
       "      <th>104</th>\n",
       "      <td>Nouvelle-Calédonie</td>\n",
       "      <td>277150.00</td>\n",
       "      <td>161991.40</td>\n",
       "      <td>10728.48</td>\n",
       "      <td>33101.38</td>\n",
       "      <td>NaN</td>\n",
       "    </tr>\n",
       "    <tr>\n",
       "      <th>116</th>\n",
       "      <td>Polynésie française</td>\n",
       "      <td>276102.00</td>\n",
       "      <td>187404.23</td>\n",
       "      <td>13087.23</td>\n",
       "      <td>21127.53</td>\n",
       "      <td>NaN</td>\n",
       "    </tr>\n",
       "  </tbody>\n",
       "</table>\n",
       "</div>"
      ],
      "text/plain": [
       "                    Zone      Pop.  Dsp. Alim. (To/an)  \\\n",
       "104   Nouvelle-Calédonie 277150.00           161991.40   \n",
       "116  Polynésie française 276102.00           187404.23   \n",
       "\n",
       "     Dsp. Alim. Vol.(To/an)  P.I.B par hab. en $  Political_Stability  \n",
       "104                10728.48             33101.38                  NaN  \n",
       "116                13087.23             21127.53                  NaN  "
      ]
     },
     "execution_count": 626,
     "metadata": {},
     "output_type": "execute_result"
    }
   ],
   "source": [
    "tableau[tableau.isnull().any(axis=1)]"
   ]
  },
  {
   "cell_type": "markdown",
   "id": "b57f88d8",
   "metadata": {},
   "source": [
    "On fait le choix de supprimer ces lignes "
   ]
  },
  {
   "cell_type": "code",
   "execution_count": 627,
   "id": "6ef19a81",
   "metadata": {},
   "outputs": [],
   "source": [
    "tableau= tableau.dropna()"
   ]
  },
  {
   "cell_type": "markdown",
   "id": "9d9de889",
   "metadata": {},
   "source": [
    "On vérifie."
   ]
  },
  {
   "cell_type": "code",
   "execution_count": 628,
   "id": "bdedb6f0",
   "metadata": {},
   "outputs": [
    {
     "data": {
      "text/html": [
       "<div>\n",
       "<style scoped>\n",
       "    .dataframe tbody tr th:only-of-type {\n",
       "        vertical-align: middle;\n",
       "    }\n",
       "\n",
       "    .dataframe tbody tr th {\n",
       "        vertical-align: top;\n",
       "    }\n",
       "\n",
       "    .dataframe thead th {\n",
       "        text-align: right;\n",
       "    }\n",
       "</style>\n",
       "<table border=\"1\" class=\"dataframe\">\n",
       "  <thead>\n",
       "    <tr style=\"text-align: right;\">\n",
       "      <th></th>\n",
       "      <th>Zone</th>\n",
       "      <th>Pop.</th>\n",
       "      <th>Dsp. Alim. (To/an)</th>\n",
       "      <th>Dsp. Alim. Vol.(To/an)</th>\n",
       "      <th>P.I.B par hab. en $</th>\n",
       "      <th>Political_Stability</th>\n",
       "    </tr>\n",
       "  </thead>\n",
       "  <tbody>\n",
       "  </tbody>\n",
       "</table>\n",
       "</div>"
      ],
      "text/plain": [
       "Empty DataFrame\n",
       "Columns: [Zone, Pop., Dsp. Alim. (To/an), Dsp. Alim. Vol.(To/an), P.I.B par hab. en $, Political_Stability]\n",
       "Index: []"
      ]
     },
     "execution_count": 628,
     "metadata": {},
     "output_type": "execute_result"
    }
   ],
   "source": [
    "tableau[tableau.isnull().any(axis=1)]"
   ]
  },
  {
   "cell_type": "markdown",
   "id": "9d9f002d",
   "metadata": {},
   "source": [
    "Parfait ! On passe maintenant au dendrogramme !"
   ]
  },
  {
   "cell_type": "code",
   "execution_count": 629,
   "id": "bd945f02",
   "metadata": {},
   "outputs": [
    {
     "data": {
      "text/html": [
       "<div>\n",
       "<style scoped>\n",
       "    .dataframe tbody tr th:only-of-type {\n",
       "        vertical-align: middle;\n",
       "    }\n",
       "\n",
       "    .dataframe tbody tr th {\n",
       "        vertical-align: top;\n",
       "    }\n",
       "\n",
       "    .dataframe thead th {\n",
       "        text-align: right;\n",
       "    }\n",
       "</style>\n",
       "<table border=\"1\" class=\"dataframe\">\n",
       "  <thead>\n",
       "    <tr style=\"text-align: right;\">\n",
       "      <th></th>\n",
       "      <th>Zone</th>\n",
       "      <th>Pop.</th>\n",
       "      <th>Dsp. Alim. (To/an)</th>\n",
       "      <th>Dsp. Alim. Vol.(To/an)</th>\n",
       "      <th>P.I.B par hab. en $</th>\n",
       "      <th>Political_Stability</th>\n",
       "    </tr>\n",
       "  </thead>\n",
       "  <tbody>\n",
       "    <tr>\n",
       "      <th>0</th>\n",
       "      <td>Afghanistan</td>\n",
       "      <td>36296113.00</td>\n",
       "      <td>12968964.14</td>\n",
       "      <td>55533.05</td>\n",
       "      <td>520.62</td>\n",
       "      <td>-2.80</td>\n",
       "    </tr>\n",
       "    <tr>\n",
       "      <th>1</th>\n",
       "      <td>Afrique du Sud</td>\n",
       "      <td>57009756.00</td>\n",
       "      <td>31721368.43</td>\n",
       "      <td>2034678.19</td>\n",
       "      <td>6121.88</td>\n",
       "      <td>-0.28</td>\n",
       "    </tr>\n",
       "    <tr>\n",
       "      <th>2</th>\n",
       "      <td>Albanie</td>\n",
       "      <td>2884169.00</td>\n",
       "      <td>3635466.18</td>\n",
       "      <td>47185.00</td>\n",
       "      <td>4514.20</td>\n",
       "      <td>0.38</td>\n",
       "    </tr>\n",
       "    <tr>\n",
       "      <th>3</th>\n",
       "      <td>Algérie</td>\n",
       "      <td>41389189.00</td>\n",
       "      <td>33057959.15</td>\n",
       "      <td>264063.03</td>\n",
       "      <td>4109.70</td>\n",
       "      <td>-0.92</td>\n",
       "    </tr>\n",
       "    <tr>\n",
       "      <th>4</th>\n",
       "      <td>Allemagne</td>\n",
       "      <td>82658409.00</td>\n",
       "      <td>77966717.71</td>\n",
       "      <td>1609359.22</td>\n",
       "      <td>44651.83</td>\n",
       "      <td>0.59</td>\n",
       "    </tr>\n",
       "  </tbody>\n",
       "</table>\n",
       "</div>"
      ],
      "text/plain": [
       "             Zone        Pop.  Dsp. Alim. (To/an)  Dsp. Alim. Vol.(To/an)  \\\n",
       "0     Afghanistan 36296113.00         12968964.14                55533.05   \n",
       "1  Afrique du Sud 57009756.00         31721368.43              2034678.19   \n",
       "2         Albanie  2884169.00          3635466.18                47185.00   \n",
       "3         Algérie 41389189.00         33057959.15               264063.03   \n",
       "4       Allemagne 82658409.00         77966717.71              1609359.22   \n",
       "\n",
       "   P.I.B par hab. en $  Political_Stability  \n",
       "0               520.62                -2.80  \n",
       "1              6121.88                -0.28  \n",
       "2              4514.20                 0.38  \n",
       "3              4109.70                -0.92  \n",
       "4             44651.83                 0.59  "
      ]
     },
     "execution_count": 629,
     "metadata": {},
     "output_type": "execute_result"
    }
   ],
   "source": [
    "tableau.head()"
   ]
  },
  {
   "cell_type": "code",
   "execution_count": 630,
   "id": "ba70ea66",
   "metadata": {},
   "outputs": [
    {
     "data": {
      "image/png": "[encoded data removed]",
      "text/plain": [
       "<Figure size 1080x1440 with 1 Axes>"
      ]
     },
     "metadata": {
      "needs_background": "light"
     },
     "output_type": "display_data"
    }
   ],
   "source": [
    "# Mise en index de \"Zone\"\n",
    "tableau.set_index(\"Zone\",inplace=True)\n",
    "\n",
    "# enregistrement des valeurs dans une variable X\n",
    "X= tableau.values\n",
    "\n",
    "# Normalisation des données\n",
    "std_scale = preprocessing.StandardScaler().fit(X)\n",
    "X_scaled = std_scale.transform(X)\n",
    "\n",
    "# Calcul de Z avec les données normalisé et la méthode de Ward\n",
    "Z = linkage(X_scaled, method=\"ward\")\n",
    "\n",
    "#Affichage d'un troisième dendrogramme ( par curiosité)\n",
    "fig =plt.figure(figsize=(15,20))\n",
    "plt.title('Hierarchical Clustering Dendrogram', fontsize=20)\n",
    "plt.xlabel('Distance')\n",
    "\n",
    "dendrogram(Z, labels = tableau.index, leaf_font_size=8, color_threshold=7, orientation='left')\n",
    "\n",
    "plt.show()"
   ]
  },
  {
   "cell_type": "markdown",
   "id": "49f69df0",
   "metadata": {},
   "source": [
    "On fait créer un tableau de corrélations afin de voir les variables les plus liées les une aux autres "
   ]
  },
  {
   "cell_type": "code",
   "execution_count": 631,
   "id": "725ffd25",
   "metadata": {},
   "outputs": [
    {
     "data": {
      "text/html": [
       "<div>\n",
       "<style scoped>\n",
       "    .dataframe tbody tr th:only-of-type {\n",
       "        vertical-align: middle;\n",
       "    }\n",
       "\n",
       "    .dataframe tbody tr th {\n",
       "        vertical-align: top;\n",
       "    }\n",
       "\n",
       "    .dataframe thead th {\n",
       "        text-align: right;\n",
       "    }\n",
       "</style>\n",
       "<table border=\"1\" class=\"dataframe\">\n",
       "  <thead>\n",
       "    <tr style=\"text-align: right;\">\n",
       "      <th></th>\n",
       "      <th>Pop.</th>\n",
       "      <th>Dsp. Alim. (To/an)</th>\n",
       "      <th>Dsp. Alim. Vol.(To/an)</th>\n",
       "      <th>P.I.B par hab. en $</th>\n",
       "      <th>Political_Stability</th>\n",
       "    </tr>\n",
       "  </thead>\n",
       "  <tbody>\n",
       "    <tr>\n",
       "      <th>Pop.</th>\n",
       "      <td>1.00</td>\n",
       "      <td>0.96</td>\n",
       "      <td>0.66</td>\n",
       "      <td>-0.10</td>\n",
       "      <td>-0.40</td>\n",
       "    </tr>\n",
       "    <tr>\n",
       "      <th>Dsp. Alim. (To/an)</th>\n",
       "      <td>0.96</td>\n",
       "      <td>1.00</td>\n",
       "      <td>0.77</td>\n",
       "      <td>-0.03</td>\n",
       "      <td>-0.32</td>\n",
       "    </tr>\n",
       "    <tr>\n",
       "      <th>Dsp. Alim. Vol.(To/an)</th>\n",
       "      <td>0.66</td>\n",
       "      <td>0.77</td>\n",
       "      <td>1.00</td>\n",
       "      <td>0.09</td>\n",
       "      <td>-0.14</td>\n",
       "    </tr>\n",
       "    <tr>\n",
       "      <th>P.I.B par hab. en $</th>\n",
       "      <td>-0.10</td>\n",
       "      <td>-0.03</td>\n",
       "      <td>0.09</td>\n",
       "      <td>1.00</td>\n",
       "      <td>0.55</td>\n",
       "    </tr>\n",
       "    <tr>\n",
       "      <th>Political_Stability</th>\n",
       "      <td>-0.40</td>\n",
       "      <td>-0.32</td>\n",
       "      <td>-0.14</td>\n",
       "      <td>0.55</td>\n",
       "      <td>1.00</td>\n",
       "    </tr>\n",
       "  </tbody>\n",
       "</table>\n",
       "</div>"
      ],
      "text/plain": [
       "                        Pop.  Dsp. Alim. (To/an)  Dsp. Alim. Vol.(To/an)  \\\n",
       "Pop.                    1.00                0.96                    0.66   \n",
       "Dsp. Alim. (To/an)      0.96                1.00                    0.77   \n",
       "Dsp. Alim. Vol.(To/an)  0.66                0.77                    1.00   \n",
       "P.I.B par hab. en $    -0.10               -0.03                    0.09   \n",
       "Political_Stability    -0.40               -0.32                   -0.14   \n",
       "\n",
       "                        P.I.B par hab. en $  Political_Stability  \n",
       "Pop.                                  -0.10                -0.40  \n",
       "Dsp. Alim. (To/an)                    -0.03                -0.32  \n",
       "Dsp. Alim. Vol.(To/an)                 0.09                -0.14  \n",
       "P.I.B par hab. en $                    1.00                 0.55  \n",
       "Political_Stability                    0.55                 1.00  "
      ]
     },
     "execution_count": 631,
     "metadata": {},
     "output_type": "execute_result"
    }
   ],
   "source": [
    "tableau.iloc[:, :].corr()"
   ]
  },
  {
   "cell_type": "code",
   "execution_count": 632,
   "id": "b9742c7b",
   "metadata": {},
   "outputs": [
    {
     "data": {
      "image/png": "[encoded data removed]",
      "text/plain": [
       "<Figure size 1080x720 with 2 Axes>"
      ]
     },
     "metadata": {
      "needs_background": "light"
     },
     "output_type": "display_data"
    }
   ],
   "source": [
    "#HeatMap des corrélations linéaires à partir de la matrice précédente\n",
    "plt.figure(figsize=(15, 10))\n",
    "sns.heatmap(tableau.iloc[:, :].corr(), annot=True, fmt=\".2f\", cmap='coolwarm')\n",
    "plt.title('Heatmap des corrélations')\n",
    "\n",
    "plt.show()"
   ]
  },
  {
   "cell_type": "markdown",
   "id": "cdf628d9",
   "metadata": {},
   "source": [
    "On remarque que les variables Population Disponibilité alimentaire et Disponibilité alimentaire de Volaille sont très corrélées, ce qui est évident, plus la population est grande plus la dispoinibilité alimentaire l'est "
   ]
  },
  {
   "cell_type": "markdown",
   "id": "01645aa2",
   "metadata": {},
   "source": [
    "Parfait ! On enregistre nos données dans de nouveau csv et on passe à la prochaine étape: les clustering et les visualisations."
   ]
  },
  {
   "cell_type": "code",
   "execution_count": 633,
   "id": "7fb2cc4d",
   "metadata": {},
   "outputs": [],
   "source": [
    "tableau.to_csv(\"Tableau.csv\",index=True)"
   ]
  },
  {
   "cell_type": "code",
   "execution_count": 634,
   "id": "3fdda056",
   "metadata": {},
   "outputs": [
    {
     "data": {
      "text/html": [
       "<div>\n",
       "<style scoped>\n",
       "    .dataframe tbody tr th:only-of-type {\n",
       "        vertical-align: middle;\n",
       "    }\n",
       "\n",
       "    .dataframe tbody tr th {\n",
       "        vertical-align: top;\n",
       "    }\n",
       "\n",
       "    .dataframe thead th {\n",
       "        text-align: right;\n",
       "    }\n",
       "</style>\n",
       "<table border=\"1\" class=\"dataframe\">\n",
       "  <thead>\n",
       "    <tr style=\"text-align: right;\">\n",
       "      <th></th>\n",
       "      <th>Pop.</th>\n",
       "      <th>Dsp. Alim. (To/an)</th>\n",
       "      <th>Dsp. Alim. Vol.(To/an)</th>\n",
       "      <th>P.I.B par hab. en $</th>\n",
       "      <th>Political_Stability</th>\n",
       "    </tr>\n",
       "    <tr>\n",
       "      <th>Zone</th>\n",
       "      <th></th>\n",
       "      <th></th>\n",
       "      <th></th>\n",
       "      <th></th>\n",
       "      <th></th>\n",
       "    </tr>\n",
       "  </thead>\n",
       "  <tbody>\n",
       "    <tr>\n",
       "      <th>Afghanistan</th>\n",
       "      <td>36296113.00</td>\n",
       "      <td>12968964.14</td>\n",
       "      <td>55533.05</td>\n",
       "      <td>520.62</td>\n",
       "      <td>-2.80</td>\n",
       "    </tr>\n",
       "    <tr>\n",
       "      <th>Afrique du Sud</th>\n",
       "      <td>57009756.00</td>\n",
       "      <td>31721368.43</td>\n",
       "      <td>2034678.19</td>\n",
       "      <td>6121.88</td>\n",
       "      <td>-0.28</td>\n",
       "    </tr>\n",
       "    <tr>\n",
       "      <th>Albanie</th>\n",
       "      <td>2884169.00</td>\n",
       "      <td>3635466.18</td>\n",
       "      <td>47185.00</td>\n",
       "      <td>4514.20</td>\n",
       "      <td>0.38</td>\n",
       "    </tr>\n",
       "    <tr>\n",
       "      <th>Algérie</th>\n",
       "      <td>41389189.00</td>\n",
       "      <td>33057959.15</td>\n",
       "      <td>264063.03</td>\n",
       "      <td>4109.70</td>\n",
       "      <td>-0.92</td>\n",
       "    </tr>\n",
       "    <tr>\n",
       "      <th>Allemagne</th>\n",
       "      <td>82658409.00</td>\n",
       "      <td>77966717.71</td>\n",
       "      <td>1609359.22</td>\n",
       "      <td>44651.83</td>\n",
       "      <td>0.59</td>\n",
       "    </tr>\n",
       "    <tr>\n",
       "      <th>...</th>\n",
       "      <td>...</td>\n",
       "      <td>...</td>\n",
       "      <td>...</td>\n",
       "      <td>...</td>\n",
       "      <td>...</td>\n",
       "    </tr>\n",
       "    <tr>\n",
       "      <th>Égypte</th>\n",
       "      <td>96442591.00</td>\n",
       "      <td>72101445.46</td>\n",
       "      <td>1249895.98</td>\n",
       "      <td>2023.33</td>\n",
       "      <td>-1.42</td>\n",
       "    </tr>\n",
       "    <tr>\n",
       "      <th>Émirats arabes unis</th>\n",
       "      <td>9487203.00</td>\n",
       "      <td>5954832.71</td>\n",
       "      <td>412408.71</td>\n",
       "      <td>40644.80</td>\n",
       "      <td>0.62</td>\n",
       "    </tr>\n",
       "    <tr>\n",
       "      <th>Équateur</th>\n",
       "      <td>16785361.00</td>\n",
       "      <td>9460565.17</td>\n",
       "      <td>324125.32</td>\n",
       "      <td>6213.50</td>\n",
       "      <td>-0.07</td>\n",
       "    </tr>\n",
       "    <tr>\n",
       "      <th>Éthiopie</th>\n",
       "      <td>106399924.00</td>\n",
       "      <td>38492300.51</td>\n",
       "      <td>13831.99</td>\n",
       "      <td>721.75</td>\n",
       "      <td>-1.68</td>\n",
       "    </tr>\n",
       "    <tr>\n",
       "      <th>Îles Salomon</th>\n",
       "      <td>636039.00</td>\n",
       "      <td>419652.17</td>\n",
       "      <td>2830.37</td>\n",
       "      <td>2332.87</td>\n",
       "      <td>0.20</td>\n",
       "    </tr>\n",
       "  </tbody>\n",
       "</table>\n",
       "<p>165 rows × 5 columns</p>\n",
       "</div>"
      ],
      "text/plain": [
       "                            Pop.  Dsp. Alim. (To/an)  Dsp. Alim. Vol.(To/an)  \\\n",
       "Zone                                                                           \n",
       "Afghanistan          36296113.00         12968964.14                55533.05   \n",
       "Afrique du Sud       57009756.00         31721368.43              2034678.19   \n",
       "Albanie               2884169.00          3635466.18                47185.00   \n",
       "Algérie              41389189.00         33057959.15               264063.03   \n",
       "Allemagne            82658409.00         77966717.71              1609359.22   \n",
       "...                          ...                 ...                     ...   \n",
       "Égypte               96442591.00         72101445.46              1249895.98   \n",
       "Émirats arabes unis   9487203.00          5954832.71               412408.71   \n",
       "Équateur             16785361.00          9460565.17               324125.32   \n",
       "Éthiopie            106399924.00         38492300.51                13831.99   \n",
       "Îles Salomon           636039.00           419652.17                 2830.37   \n",
       "\n",
       "                     P.I.B par hab. en $  Political_Stability  \n",
       "Zone                                                           \n",
       "Afghanistan                       520.62                -2.80  \n",
       "Afrique du Sud                   6121.88                -0.28  \n",
       "Albanie                          4514.20                 0.38  \n",
       "Algérie                          4109.70                -0.92  \n",
       "Allemagne                       44651.83                 0.59  \n",
       "...                                  ...                  ...  \n",
       "Égypte                           2023.33                -1.42  \n",
       "Émirats arabes unis             40644.80                 0.62  \n",
       "Équateur                         6213.50                -0.07  \n",
       "Éthiopie                          721.75                -1.68  \n",
       "Îles Salomon                     2332.87                 0.20  \n",
       "\n",
       "[165 rows x 5 columns]"
      ]
     },
     "execution_count": 634,
     "metadata": {},
     "output_type": "execute_result"
    }
   ],
   "source": [
    "tableau"
   ]
  },
  {
   "cell_type": "code",
   "execution_count": 521,
   "id": "80cd4412",
   "metadata": {},
   "outputs": [],
   "source": [
    "df_subset.to_csv(\"df_subset.csv\", index=True)"
   ]
  },
  {
   "cell_type": "code",
   "execution_count": 522,
   "id": "3681e305",
   "metadata": {},
   "outputs": [],
   "source": [
    "stabilite_politique.to_csv(\"stabilite_politique.csv\", index=False)"
   ]
  },
  {
   "cell_type": "code",
   "execution_count": 523,
   "id": "b90e0d5d",
   "metadata": {},
   "outputs": [],
   "source": [
    "pib.to_csv(\"pibhab.csv\",index=False)"
   ]
  }
 ],
 "metadata": {
  "kernelspec": {
   "display_name": "Python 3",
   "language": "python",
   "name": "python3"
  },
  "language_info": {
   "codemirror_mode": {
    "name": "ipython",
    "version": 3
   },
   "file_extension": ".py",
   "mimetype": "text/x-python",
   "name": "python",
   "nbconvert_exporter": "python",
   "pygments_lexer": "ipython3",
   "version": "3.8.8"
  },
  "varInspector": {
   "cols": {
    "lenName": 16,
    "lenType": 16,
    "lenVar": 40
   },
   "kernels_config": {
    "python": {
     "delete_cmd_postfix": "",
     "delete_cmd_prefix": "del ",
     "library": "var_list.py",
     "varRefreshCmd": "print(var_dic_list())"
    },
    "r": {
     "delete_cmd_postfix": ") ",
     "delete_cmd_prefix": "rm(",
     "library": "var_list.r",
     "varRefreshCmd": "cat(var_dic_list()) "
    }
   },
   "oldHeight": 681.391,
   "position": {
    "height": "40px",
    "left": "1353.55px",
    "right": "20px",
    "top": "119px",
    "width": "531.766px"
   },
   "types_to_exclude": [
    "module",
    "function",
    "builtin_function_or_method",
    "instance",
    "_Feature"
   ],
   "varInspector_section_display": "none",
   "window_display": false
  }
 },
 "nbformat": 4,
 "nbformat_minor": 5
}
